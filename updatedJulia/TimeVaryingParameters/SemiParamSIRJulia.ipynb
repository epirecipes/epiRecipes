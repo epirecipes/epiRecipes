{
 "cells": [
  {
   "cell_type": "code",
   "execution_count": 19,
   "metadata": {},
   "outputs": [],
   "source": [
    "using Random\n",
    "using DifferentialEquations"
   ]
  },
  {
   "cell_type": "code",
   "execution_count": 20,
   "metadata": {},
   "outputs": [
    {
     "data": {
      "text/plain": [
       "#15 (generic function with 1 method)"
      ]
     },
     "execution_count": 20,
     "metadata": {},
     "output_type": "execute_result"
    }
   ],
   "source": [
    "# BM model for beta(t): d beta(t) = beta(t) d W(t)\n",
    "# Function to compute rates of change \n",
    "spsir_bm = function(du, u, p, t)\n",
    "    #Susceptible Individuals\n",
    "    S = u[1]\n",
    "    #Infected Individuals\n",
    "    I = u[2]\n",
    "    #Recovered Individuals\n",
    "    R = u[3]\n",
    "    \n",
    "    β = max(0., u[4])\n",
    "    \n",
    "    N = S + I + R\n",
    "    γ = p[1] \n",
    "    \n",
    "    du[1] = -β * S * I / N\n",
    "    du[2] = β * S * I / N - γ * I\n",
    "    du[3] = γ * I\n",
    "    du[4] = 0.\n",
    "end"
   ]
  },
  {
   "cell_type": "code",
   "execution_count": 21,
   "metadata": {},
   "outputs": [
    {
     "data": {
      "text/plain": [
       "#17 (generic function with 1 method)"
      ]
     },
     "execution_count": 21,
     "metadata": {},
     "output_type": "execute_result"
    }
   ],
   "source": [
    "# Function to add noise\n",
    "sigma_spsir = function(du, u, p, t )\n",
    "    σ = p[2]\n",
    "    \n",
    "    du[1] = 0.\n",
    "    du[2] = 0.\n",
    "    du[3] = 0.\n",
    "    du[4] = σ \n",
    "end"
   ]
  },
  {
   "cell_type": "code",
   "execution_count": 22,
   "metadata": {},
   "outputs": [
    {
     "data": {
      "text/plain": [
       "#19 (generic function with 1 method)"
      ]
     },
     "execution_count": 22,
     "metadata": {},
     "output_type": "execute_result"
    }
   ],
   "source": [
    "# BM for logbeta(t), with drift \n",
    "spsir_logbm_drift = function(du, u, p, t)\n",
    "    S = u[1]\n",
    "    I = u[2]\n",
    "    R = u[3]\n",
    "    β = exp( u[4] )\n",
    "    \n",
    "    N = S + I + R\n",
    "    γ = p[1] \n",
    "    α = p[3]\n",
    "    \n",
    "    du[1] = -β * S * I / N\n",
    "    du[2] = β * S * I / N - γ * I\n",
    "    du[3] = γ * I\n",
    "    du[4] = -α * I\n",
    "end\n",
    "\n"
   ]
  },
  {
   "cell_type": "code",
   "execution_count": 23,
   "metadata": {},
   "outputs": [
    {
     "data": {
      "text/plain": [
       "retcode: Success\n",
       "Interpolation: 1st order linear\n",
       "t: 426-element Array{Float64,1}:\n",
       "  0.0                  \n",
       "  0.0009280124048132815\n",
       "  0.0012734653919348868\n",
       "  0.0016621000024466927\n",
       "  0.0020993139392724743\n",
       "  0.0025911796182014786\n",
       "  0.003144528506996609 \n",
       "  0.0037670460068911305\n",
       "  0.004467378194272467 \n",
       "  0.005255251905076471 \n",
       "  0.006141609829730976 \n",
       "  0.007138762494967294 \n",
       "  0.00826055924335815  \n",
       "  ⋮                    \n",
       "  9.497919728262419    \n",
       "  9.541636267489421    \n",
       "  9.58630670744833     \n",
       "  9.632094826007162    \n",
       "  9.67857535334476     \n",
       "  9.725926934097304    \n",
       "  9.773853399111793    \n",
       "  9.822665414104476    \n",
       "  9.872350677540412    \n",
       "  9.92272884024905     \n",
       "  9.974284293695984    \n",
       " 10.0                  \n",
       "u: 426-element Array{Array{Float64,1},1}:\n",
       " [50.0, 1.0, 0.0, 2.0]                   \n",
       " [49.9982, 1.00089, 0.000928426, 2.01006]\n",
       " [49.9975, 1.00123, 0.00127425, 1.99814] \n",
       " [49.9967, 1.0016, 0.00166343, 1.98967]  \n",
       " [49.9959, 1.00201, 0.00210143, 1.97469] \n",
       " [49.9949, 1.00246, 0.0025944, 1.94891]  \n",
       " [49.9939, 1.00298, 0.00314925, 1.99489] \n",
       " [49.9926, 1.00358, 0.00377381, 1.99365] \n",
       " [49.9912, 1.00427, 0.00447689, 2.01202] \n",
       " [49.9897, 1.00503, 0.00526843, 2.00063] \n",
       " [49.988, 1.00588, 0.00615962, 1.99475]  \n",
       " [49.986, 1.00684, 0.00716312, 1.9826]   \n",
       " [49.9838, 1.00792, 0.00829319, 2.01789] \n",
       " ⋮                                       \n",
       " [2.71882, 0.963625, 47.3176, 4.39409]   \n",
       " [2.70903, 0.931986, 47.359, 4.65399]    \n",
       " [2.69889, 0.901193, 47.3999, 4.49916]   \n",
       " [2.68912, 0.87041, 47.4405, 4.55662]    \n",
       " [2.68005, 0.839742, 47.4802, 4.18702]   \n",
       " [2.67147, 0.809291, 47.5192, 4.13995]   \n",
       " [2.66324, 0.77945, 47.5573, 4.10901]    \n",
       " [2.65523, 0.750142, 47.5946, 3.86145]   \n",
       " [2.6477, 0.721134, 47.6312, 4.03117]    \n",
       " [2.64029, 0.692933, 47.6668, 3.86395]   \n",
       " [2.63318, 0.665049, 47.7018, 4.16916]   \n",
       " [2.62943, 0.651868, 47.7187, 4.34543]   "
      ]
     },
     "execution_count": 23,
     "metadata": {},
     "output_type": "execute_result"
    }
   ],
   "source": [
    "# set random seed\n",
    "Random.seed!( 1111 )\n",
    "\n",
    "## Simulation of BM model \n",
    "# starting conditions\n",
    "u0 = [50.;1.0;0.0;2.0]\n",
    "tspan = (0.0,10.0)\n",
    "# parameters gamma sigma \n",
    "p = [1.; 1.]\n",
    "spsir_bm_prob = SDEProblem(spsir_bm, sigma_spsir, u0, tspan, p)\n",
    "spsir_bm_sol = solve(spsir_bm_prob)\n"
   ]
  },
  {
   "cell_type": "code",
   "execution_count": 24,
   "metadata": {},
   "outputs": [
    {
     "data": {
      "text/plain": [
       "retcode: Success\n",
       "Interpolation: 1st order linear\n",
       "t: 429-element Array{Float64,1}:\n",
       "  0.0                  \n",
       "  0.0006477896456651555\n",
       "  0.0009034029518382037\n",
       "  0.0011909679212828831\n",
       "  0.0015144785119081475\n",
       "  0.0018784279263615697\n",
       "  0.0022878710176216697\n",
       "  0.0027484944952892824\n",
       "  0.0032666959076653465\n",
       "  0.003849672496588419 \n",
       "  0.004505521159126875 \n",
       "  0.005243350904482639 \n",
       "  0.0060734093680078725\n",
       "  ⋮                    \n",
       "  7.621572161549647    \n",
       "  7.771229448238175    \n",
       "  7.936365572680187    \n",
       "  8.12214371267745     \n",
       "  8.324188307894625    \n",
       "  8.551488477513946    \n",
       "  8.80720116833568     \n",
       "  9.094877945510133    \n",
       "  9.361320073114582    \n",
       "  9.650262892696267    \n",
       "  9.975323564725661    \n",
       " 10.0                  \n",
       "u: 429-element Array{Array{Float64,1},1}:\n",
       " [50.0, 1.0, 0.0, 1.09861]               \n",
       " [49.9981, 1.00128, 0.000648203, 1.11728]\n",
       " [49.9973, 1.00179, 0.000904209, 1.0973] \n",
       " [49.9965, 1.00234, 0.00119237, 1.09283] \n",
       " [49.9955, 1.00297, 0.00151674, 1.0924]  \n",
       " [49.9944, 1.00368, 0.0018819, 1.10382]  \n",
       " [49.9932, 1.0045, 0.00229302, 1.11807]  \n",
       " [49.9918, 1.00543, 0.00275593, 1.12793] \n",
       " [49.9903, 1.00647, 0.00327721, 1.10258] \n",
       " [49.9885, 1.00763, 0.0038643, 1.10565]  \n",
       " [49.9865, 1.00896, 0.00452558, 1.13517] \n",
       " [49.9842, 1.01048, 0.00527059, 1.10238] \n",
       " [49.9818, 1.01205, 0.00611001, 1.08032] \n",
       " ⋮                                       \n",
       " [19.8449, 0.129971, 31.0252, -0.957983] \n",
       " [19.8412, 0.115349, 31.0434, -0.455696] \n",
       " [19.8368, 0.101843, 31.0613, -0.819727] \n",
       " [19.8316, 0.0894242, 31.0789, 0.432916] \n",
       " [19.8159, 0.0875641, 31.0966, 1.29998]  \n",
       " [19.7949, 0.088355, 31.1168, 0.88218]   \n",
       " [19.7818, 0.079886, 31.1384, 0.341256]  \n",
       " [19.7727, 0.0677697, 31.1596, -0.399658]\n",
       " [19.769, 0.0551377, 31.1759, -0.519287] \n",
       " [19.7658, 0.0440821, 31.1901, -0.542066]\n",
       " [19.7625, 0.0347417, 31.2027, -0.47307] \n",
       " [19.7623, 0.0340999, 31.2036, -0.386297]"
      ]
     },
     "execution_count": 24,
     "metadata": {},
     "output_type": "execute_result"
    }
   ],
   "source": [
    "## Simulation of log-BM with drift model \n",
    "\n",
    "# starting condtions \n",
    "u0 = [50.;1.0;0.0;log(3.) ]\n",
    "tspan = (0.0,10.0)\n",
    "# parameters gamma sigma alpha\n",
    "p = [1.; 1.; 0.1]\n",
    "spsir_logbm_drift_prob = SDEProblem(spsir_logbm_drift, sigma_spsir, u0, tspan, p)\n",
    "spsir_logbm_drift_sol = solve(spsir_logbm_drift_prob)\n"
   ]
  },
  {
   "cell_type": "code",
   "execution_count": null,
   "metadata": {},
   "outputs": [
    {
     "name": "stderr",
     "output_type": "stream",
     "text": [
      "┌ Info: Recompiling stale cache file /Users/kuncao/.julia/compiled/v1.0/Plots/ld3vC.ji for Plots [91a5bcdd-55d7-5caf-9e0b-520d859cae80]\n",
      "└ @ Base loading.jl:1190\n"
     ]
    }
   ],
   "source": [
    "## Plotting for BM model \n",
    "using Plots\n",
    "# Plot evolution of number infected\n",
    "plot( spsir_bm_sol , vars = 2 )\n"
   ]
  },
  {
   "cell_type": "code",
   "execution_count": null,
   "metadata": {},
   "outputs": [],
   "source": [
    "# Plot evolution of transmission rate \n",
    "plot( spsir_bm_sol , vars = 4 )\n"
   ]
  },
  {
   "cell_type": "code",
   "execution_count": null,
   "metadata": {},
   "outputs": [],
   "source": [
    "## Plotting for BM with drift model \n",
    "# Plot evolution of number infected\n",
    "plot( spsir_logbm_drift_sol , vars = 2 )\n",
    "\n"
   ]
  },
  {
   "cell_type": "code",
   "execution_count": null,
   "metadata": {},
   "outputs": [],
   "source": [
    "# Plot evolution of transmission rate \n",
    "plot( spsir_logbm_drift_sol , vars = 4 )\n"
   ]
  },
  {
   "cell_type": "code",
   "execution_count": null,
   "metadata": {},
   "outputs": [],
   "source": []
  }
 ],
 "metadata": {
  "kernelspec": {
   "display_name": "Julia 1.0.3",
   "language": "julia",
   "name": "julia-1.0"
  },
  "language_info": {
   "file_extension": ".jl",
   "mimetype": "application/julia",
   "name": "julia",
   "version": "1.0.3"
  }
 },
 "nbformat": 4,
 "nbformat_minor": 2
}
