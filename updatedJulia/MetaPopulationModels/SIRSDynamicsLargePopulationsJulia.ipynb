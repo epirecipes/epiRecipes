{
 "cells": [
  {
   "cell_type": "code",
   "execution_count": 1,
   "metadata": {},
   "outputs": [],
   "source": [
    "using DifferentialEquations"
   ]
  },
  {
   "cell_type": "code",
   "execution_count": 10,
   "metadata": {},
   "outputs": [],
   "source": [
    "# Set the required model parameters for the SIRS model with two levels of transmission - Within and between households\n",
    "N = 10; # Household size - Change to 10 for final analysis\n",
    "betaHH = 6; # Within household transmission parameter\n",
    "betaG = 1; # Population wide transmission\n",
    "gamma = 1; # Rate of recovery from infection\n",
    "tau = 1; # Rate of loss of protection\n",
    "params = [betaHH,gamma,tau,betaG,N]; # Put all the parameters together\n",
    "time = (0.0, 30.0) # Simulation time - note it defined as a float\n",
    "dim = dim = 0.5*(N+1)*(N+2); # Number of possible configurations - works for three epidemiological classes\n",
    "y0 = zeros(Float64, 1, Int(dim)); # Initial condition vector\n",
    "y0[end-1] = 0.00000001;\n",
    "y0[end] = 0.99999999;"
   ]
  },
  {
   "cell_type": "code",
   "execution_count": 13,
   "metadata": {},
   "outputs": [
    {
     "ename": "MethodError",
     "evalue": "MethodError: objects of type Array{Float64,2} are not callable\nUse square brackets [] for indexing an Array.",
     "output_type": "error",
     "traceback": [
      "MethodError: objects of type Array{Float64,2} are not callable\nUse square brackets [] for indexing an Array.",
      "",
      "Stacktrace:",
      " [1] mapreduce_first(::Array{Float64,2}, ::Function, ::Int64) at ./reduce.jl:295",
      " [2] mapreduce(::Array{Float64,2}, ::Function, ::Int64) at ./reduce.jl:322",
      " [3] sum(::Array{Float64,2}, ::Int64) at ./reduce.jl:397",
      " [4] hhTransitions(::Int64, ::Float64) at ./In[13]:56",
      " [5] top-level scope at In[13]:64"
     ]
    }
   ],
   "source": [
    "function hhTransitions(N,dim)\n",
    "    # Function to generate transition matrices for household model\n",
    "    # Input: N is the household size\n",
    "    \n",
    "    # Initialize things\n",
    "    Qinf = zeros(Float64, Int(dim), Int(dim));\n",
    "    Qrec = zeros(Float64, Int(dim), Int(dim));\n",
    "    Qext = zeros(Float64, Int(dim), Int(dim));\n",
    "    Qwane = zeros(Float64, Int(dim), Int(dim));\n",
    "    dataI = zeros(Int64, Int(dim), 3)\n",
    "    m = 0;\n",
    "    I = zeros(Int64, Int(N+1), Int(N+1))\n",
    "    \n",
    "    # To help remember where to store the variables\n",
    "    for ss = 0:N\n",
    "        for ii = 0:(N-ss)\n",
    "            m = m + 1;\n",
    "            I[ss+1,ii+1] = m\n",
    "        end\n",
    "    end\n",
    "    \n",
    "    # Describe the epidemiological transitions\n",
    "    \n",
    "    # Counter for susceptibles\n",
    "    for ss = 0:N\n",
    "        # Counter for infecteds\n",
    "        for ii = 0:(N-ss) \n",
    "            # If susceptibles and infecteds are more than 1, then infection within the household can occur\n",
    "            if (ss > 0 && ii > 0) \n",
    "                Qinf[I[ss+1,ii+1],I[ss,ii+2]] = ii*ss/(N-1);\n",
    "            end\n",
    "            \n",
    "            # If infecteds are more than 1, recovery can occur\n",
    "            if ii > 0\n",
    "                # Rate of recovery\n",
    "                Qrec[I[ss+1,ii+1],I[ss+1,ii]] = ii; \n",
    "            end\n",
    "            \n",
    "            # For external infection - just keep track of susceptibles\n",
    "            if ss > 0           \n",
    "                # Rate of within household infection\n",
    "                Qext[I[ss+1,ii+1],I[ss,ii+2]] = ss;           \n",
    "            end\n",
    "            \n",
    "            # Loss of protection hence becoming susceptible again. Possible if N-ss-ii = rr > 0 \n",
    "            if (N-ss-ii) > 0\n",
    "                # Rate of loss of protection\n",
    "                Qwane[I[ss+1,ii+1],I[ss+2,ii+1]] = N-ss-ii;\n",
    "            end\n",
    "            \n",
    "            # Store the relevant indices to help identify the household configurations\n",
    "            dataI[I[ss+1,ii+1],:] = [ss, ii, N-ss-ii];\n",
    "        end\n",
    "    end\n",
    "    \n",
    "    Qinf = Qinf - diagm(vec(sum(Qinf,2)),0);\n",
    "    Qrec = Qrec - diagm(vec(sum(Qrec,2)),0);\n",
    "    Qext = Qext - diagm(vec(sum(Qext,2)),0);\n",
    "    Qwane = Qwane - diagm(vec(sum(Qwane,2)),0);\n",
    "    \n",
    "    # Return\n",
    "    return Qinf, Qrec, Qext, Qwane, dataI\n",
    "end\n",
    "Qinf, Qrec, Qext, Qwane, dataI = hhTransitions(N,dim);\n"
   ]
  },
  {
   "cell_type": "code",
   "execution_count": null,
   "metadata": {},
   "outputs": [],
   "source": [
    "function rateSIRS(dy_dt,y0,params,time)\n",
    "    \n",
    "    # Extract the parameters\n",
    "    betaHH = params[1];\n",
    "    gamma = params[2];\n",
    "    tau = params[3];\n",
    "    betaG = params[4];\n",
    "    N = params[5];\n",
    "    \n",
    "    # Generate the transition matrices\n",
    "    Qinf, Qrec, Qext, Qwane, HHconfig = hhTransitions(N,dim);\n",
    "    \n",
    "    # Combine within and external transitions\n",
    "    Q = betaHH*Qinf + gamma*Qrec + tau*Qwane + (betaG*((HHconfig[:,2]'*y0)/N)*Qext);\n",
    "    \n",
    "    # Generate the rates of change for ODE solver\n",
    "    dy_dt .= (y0'*Q)';\n",
    "    \n",
    "    # Alternatively this works too\n",
    "    #=for i=1:length(y0)\n",
    "        dy_dt[i] = y0'*Q[:,i]\n",
    "    end=#\n",
    "\n",
    "end\n",
    "\n",
    "# Define the ODE problem\n",
    "prob = ODEProblem(rateSIRS,y0,time,params);\n",
    "\n",
    "# Solve\n",
    "sol = solve(prob);"
   ]
  },
  {
   "cell_type": "code",
   "execution_count": null,
   "metadata": {},
   "outputs": [],
   "source": [
    "using Plots"
   ]
  },
  {
   "cell_type": "code",
   "execution_count": null,
   "metadata": {},
   "outputs": [],
   "source": [
    "Iconfig = dataI[:,2];\n",
    "infProp = zeros(length(sol.t),1);\n",
    "\n",
    "# Prepare the plots\n",
    "for i = 1:length(sol.t)\n",
    "    infProp[i,1] = sol[:,i]'*Iconfig/N;\n",
    "end"
   ]
  },
  {
   "cell_type": "code",
   "execution_count": null,
   "metadata": {},
   "outputs": [],
   "source": [
    "# Total infectious in the population\n",
    "plot(sol.t,infProp,color=\"blue\",xlabel=\"Time\",ylabel=\"Proportion infectious\",label=[\"Mean infection\"],ylims=[0, 1])"
   ]
  },
  {
   "cell_type": "code",
   "execution_count": null,
   "metadata": {},
   "outputs": [],
   "source": [
    "# Household profile at endemic prevalence\n",
    "# Prepare the plots\n",
    "using PyPlot\n",
    "yprop = zeros(N+1,length(sol.t))\n",
    "for j = 1:length(sol.t)\n",
    "    for i = 1:N+1\n",
    "        index = find(Iconfig.==i-1);\n",
    "        yprop[i,j] = sum(sol[index,j])\n",
    "    end\n",
    "end\n",
    "step(-0.5:1:10.5,[yprop[:,length(sol.t)];0])"
   ]
  },
  {
   "cell_type": "code",
   "execution_count": null,
   "metadata": {},
   "outputs": [],
   "source": [
    "# Household profile at peak prevalence\n",
    "# Prepare the plots\n",
    "x = find(infProp.==maximum(infProp))\n",
    "step(-0.5:1:10.5,[yprop[:,x];0]);"
   ]
  }
 ],
 "metadata": {
  "kernelspec": {
   "display_name": "Julia 1.0.3",
   "language": "julia",
   "name": "julia-1.0"
  },
  "language_info": {
   "file_extension": ".jl",
   "mimetype": "application/julia",
   "name": "julia",
   "version": "1.0.3"
  }
 },
 "nbformat": 4,
 "nbformat_minor": 2
}
