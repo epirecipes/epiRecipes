{
 "cells": [
  {
   "cell_type": "markdown",
   "metadata": {},
   "source": [
    "## Julia Implementation of Host SEIR + Vector SEI\n",
    "\n",
    "*Author*: Carl A. B. Pearson @pearsonca\n",
    "\n",
    "*Date*: 2018-10-02\n",
    "\n",
    "This version considers multiple hosts, which introduces some indexing complications.  This approach adopts the indexing scheme of:\n",
    "\n",
    " - all of host $i$ compartments ($S_H$, $E_H$, etc), for $i \\in 1\\ldots N$\n",
    " - vector compartments last\n",
    "\n",
    "With this approach, we can re-use the solution for one host, with slight modifications:"
   ]
  },
  {
   "cell_type": "code",
   "execution_count": 1,
   "metadata": {},
   "outputs": [
    {
     "data": {
      "text/plain": [
       "F (generic function with 1 method)"
      ]
     },
     "execution_count": 1,
     "metadata": {},
     "output_type": "execute_result"
    }
   ],
   "source": [
    "H_comps = 4\n",
    "V_comps = 3\n",
    "\n",
    "# in sub functions, du / u are the particular relevant slices only\n",
    "function F1H(du,u,p,t,I_V,N_H)\n",
    "    S_H, E_H, I_H, R_H = u\n",
    "    \n",
    "    # host dynamics\n",
    "    host_infection = (p.β*S_H*I_V)/N_H\n",
    "    host_mortality = p.μ_H .* u # include S_H, so easier to remove mortality\n",
    "    host_births = sum(host_mortality)\n",
    "    host_progression = p.σ_H*E_H\n",
    "    recovery = p.λ*I_H\n",
    "    \n",
    "    du[1] = -host_infection + host_births\n",
    "    du[2] = host_infection - host_progression\n",
    "    du[3] = host_progression - recovery\n",
    "    du[4] = recovery\n",
    "    du[1:end] -= host_mortality \n",
    "end\n",
    "\n",
    "# in sub functions, du / u are the particular relevant slices only\n",
    "function FV(du,u,p,t,sum_β_I_H)\n",
    "    S_V, E_V, I_V = u\n",
    "    vec_infection = sum_β_I_H*S_V/p.N_H\n",
    "    vec_mortality = p.μ_V .* u # include S_V, so easier to remove mortality\n",
    "    vec_births = sum(vec_mortality)\n",
    "    vec_progression = p.σ_V*E_V\n",
    "    \n",
    "    du[1] = -vec_infection + vec_births\n",
    "    du[2] = vec_infection - vec_progression\n",
    "    du[3] = vec_progression\n",
    "    du[1:end] -= vec_mortality\n",
    "end\n",
    "\n",
    "function F(du,u,p,t)\n",
    "    uvec = @view(u[(p.nHosts*H_comps+1):end]) # grab the vector compartments\n",
    "    S_V, E_V, I_V = uvec\n",
    "    sum_β_I_H = 0.0\n",
    "    for host in 0:(p.nHosts-1)\n",
    "        slice = (1:H_comps).+(H_comps*host)\n",
    "        F1H(@view(du[slice]), @view(u[slice]), p.host[host+1], t, I_V, p.vec.N_H)\n",
    "        # must use @view here, so that these arrays can be modified in F1H\n",
    "        sum_β_I_H += p.host[host+1].β * u[slice[3]] # this host's I compartment\n",
    "    end\n",
    "    FV(@view(du[(p.nHosts*4+1):end]), uvec, p.vec,t,sum_β_I_H)\n",
    "end"
   ]
  },
  {
   "cell_type": "markdown",
   "metadata": {},
   "source": [
    "First, state initial conditions.  This code generates them randomly for convenience, though they could be assigned based on data, desired parameter space, or algorithmically as part of a fitting process:"
   ]
  },
  {
   "cell_type": "code",
   "execution_count": 2,
   "metadata": {},
   "outputs": [
    {
     "data": {
      "text/plain": [
       "23×1 Array{Float64,2}:\n",
       "   100.0\n",
       "     0.0\n",
       "     1.0\n",
       "     0.0\n",
       "   100.0\n",
       "     0.0\n",
       "     0.0\n",
       "     0.0\n",
       "   100.0\n",
       "     0.0\n",
       "     0.0\n",
       "     0.0\n",
       "   100.0\n",
       "     0.0\n",
       "     0.0\n",
       "     0.0\n",
       "   100.0\n",
       "     0.0\n",
       "     0.0\n",
       "     0.0\n",
       " 10000.0\n",
       "     0.0\n",
       "     0.0"
      ]
     },
     "execution_count": 2,
     "metadata": {},
     "output_type": "execute_result"
    }
   ],
   "source": [
    "nH = 5\n",
    "srand(0)\n",
    "\n",
    "S_Hs = ones(nH) .* 100.0\n",
    "E_Hs = zeros(nH)\n",
    "I_Hs = shuffle(vcat(zeros(nH-1),[1.0]))\n",
    "R_Hs = zeros(nH)\n",
    "host0 = reshape(hcat(S_Hs,E_Hs,I_Hs,R_Hs)', nH*4, 1)\n",
    "vec0 = [10000.0, 0.0, 0.0]\n",
    "u0 = vcat(host0, vec0)"
   ]
  },
  {
   "cell_type": "markdown",
   "metadata": {},
   "source": [
    "Now, generate dynamic parameters.  Again: this code generates them randomly for convenience, though they could be assigned based on data, desired parameter space, or algorithmically as part of a fitting process:"
   ]
  },
  {
   "cell_type": "code",
   "execution_count": 3,
   "metadata": {},
   "outputs": [
    {
     "data": {
      "text/plain": [
       "(nHosts = 5, vec = (μ_V = 0.03333333333333333, σ_V = 0.14285714285714285, N_H = 501.0), host = NamedTuples._NT_μ__H_σ__H_λ_β{Float64,Float64,Float64,Float64}[(μ_H = 0.0117686, σ_H = 0.790008, λ = 0.0642631, β = 0.0209472), (μ_H = 0.00801628, σ_H = 0.175085, λ = 0.0817059, β = 0.0251379), (μ_H = 0.00888301, σ_H = 0.166683, λ = 0.0840894, β = 0.00203749), (μ_H = 0.351205, σ_H = 0.662263, λ = 0.0461889, β = 0.0287702), (μ_H = 0.00568503, σ_H = 0.168919, λ = 0.127011, β = 0.0859512)])"
      ]
     },
     "execution_count": 3,
     "metadata": {},
     "output_type": "execute_result"
    }
   ],
   "source": [
    "srand(1)\n",
    "\n",
    "μs = 1 ./ (rand(nH) .* 360)\n",
    "σs = 1 ./ (rand(nH) .* 6)\n",
    "λs = 1 ./ (rand(nH) .* 28)\n",
    "βs = rand(nH) ./ 10.0\n",
    "\n",
    "using NamedTuples\n",
    "# nb: in >= Julia v0.7, can eliminate this import\n",
    "#  and the @NT syntax\n",
    "p = @NT(\n",
    "  nHosts = nH,\n",
    "  vec = @NT(μ_V=1/30, σ_V=1/7, N_H = sum(host0)),\n",
    "  host = [@NT(μ_H=μs[i], σ_H=σs[i], λ=λs[i], β=βs[i]) for i in 1:nH]\n",
    "  # just building up a random collection of params for demonstration\n",
    ")"
   ]
  },
  {
   "cell_type": "markdown",
   "metadata": {},
   "source": [
    "Now these values can be used with the ODE solver:"
   ]
  },
  {
   "cell_type": "code",
   "execution_count": 4,
   "metadata": {},
   "outputs": [
    {
     "data": {
      "text/plain": [
       "retcode: Success\n",
       "Interpolation: 1st order linear\n",
       "t: 3651-element Array{Float64,1}:\n",
       "   0.0\n",
       "   0.1\n",
       "   0.2\n",
       "   0.3\n",
       "   0.4\n",
       "   0.5\n",
       "   0.6\n",
       "   0.7\n",
       "   0.8\n",
       "   0.9\n",
       "   1.0\n",
       "   1.1\n",
       "   1.2\n",
       "   ⋮  \n",
       " 363.9\n",
       " 364.0\n",
       " 364.1\n",
       " 364.2\n",
       " 364.3\n",
       " 364.4\n",
       " 364.5\n",
       " 364.6\n",
       " 364.7\n",
       " 364.8\n",
       " 364.9\n",
       " 365.0\n",
       "u: 3651-element Array{Array{Float64,2},1}:\n",
       " [100.0; 0.0; … ; 0.0; 0.0]                      \n",
       " [100.001; 4.05106e-8; … ; 0.041287; 0.000295821]\n",
       " [100.002; 3.15487e-7; … ; 0.08154; 0.00117209]  \n",
       " [100.004; 1.03672e-6; … ; 0.120779; 0.00261227] \n",
       " [100.005; 2.39309e-6; … ; 0.159026; 0.00460017] \n",
       " [100.006; 4.55256e-6; … ; 0.196298; 0.00711996] \n",
       " [100.007; 7.66377e-6; … ; 0.232616; 0.0101561]  \n",
       " [100.008; 1.18579e-5; … ; 0.267998; 0.0136934]  \n",
       " [100.009; 1.72497e-5; … ; 0.302464; 0.017717]   \n",
       " [100.011; 2.39395e-5; … ; 0.336032; 0.0222123]  \n",
       " [100.012; 3.20139e-5; … ; 0.36872; 0.0271651]   \n",
       " [100.013; 4.15473e-5; … ; 0.400545; 0.0325615]  \n",
       " [100.014; 5.26028e-5; … ; 0.431526; 0.0383877]  \n",
       " ⋮                                               \n",
       " [45.2552; 0.790354; … ; 78.2356; 335.113]       \n",
       " [45.2574; 0.790394; … ; 78.2385; 335.114]       \n",
       " [45.2595; 0.790434; … ; 78.2413; 335.114]       \n",
       " [45.2617; 0.790474; … ; 78.2442; 335.115]       \n",
       " [45.2639; 0.790514; … ; 78.2471; 335.116]       \n",
       " [45.2661; 0.790553; … ; 78.25; 335.117]         \n",
       " [45.2682; 0.790593; … ; 78.2528; 335.117]       \n",
       " [45.2704; 0.790633; … ; 78.2557; 335.118]       \n",
       " [45.2725; 0.790673; … ; 78.2586; 335.119]       \n",
       " [45.2747; 0.790713; … ; 78.2615; 335.12]        \n",
       " [45.2768; 0.790753; … ; 78.2643; 335.121]       \n",
       " [45.279; 0.790792; … ; 78.2672; 335.122]        "
      ]
     },
     "execution_count": 4,
     "metadata": {},
     "output_type": "execute_result"
    }
   ],
   "source": [
    "using DifferentialEquations\n",
    "using IterableTables, DataFrames\n",
    "\n",
    "tspan = (0.0, 365.0)\n",
    "prob = ODEProblem(F, u0, tspan, p)\n",
    "sol = solve(prob,Tsit5(),reltol=1e-8,abstol=1e-8,saveat=linspace(0,365,365*10+1))"
   ]
  },
  {
   "cell_type": "code",
   "execution_count": 5,
   "metadata": {},
   "outputs": [
    {
     "data": {
      "text/html": [
       "<table class=\"data-frame\"><thead><tr><th></th><th>variable</th><th>value</th><th>timestamp</th><th>index</th><th>name</th><th>facet</th><th>compartment</th></tr></thead><tbody><tr><th>1</th><td>value1</td><td>100.0</td><td>0.0</td><td>1</td><td>S_H1</td><td>H1</td><td>S</td></tr><tr><th>2</th><td>value1</td><td>100.0011761246569</td><td>0.1</td><td>1</td><td>S_H1</td><td>H1</td><td>S</td></tr><tr><th>3</th><td>value1</td><td>100.00235062049974</td><td>0.2</td><td>1</td><td>S_H1</td><td>H1</td><td>S</td></tr><tr><th>4</th><td>value1</td><td>100.00352325035139</td><td>0.3</td><td>1</td><td>S_H1</td><td>H1</td><td>S</td></tr><tr><th>5</th><td>value1</td><td>100.00469378414253</td><td>0.4</td><td>1</td><td>S_H1</td><td>H1</td><td>S</td></tr><tr><th>6</th><td>value1</td><td>100.00586199875751</td><td>0.5</td><td>1</td><td>S_H1</td><td>H1</td><td>S</td></tr><tr><th>7</th><td>value1</td><td>100.00702767789407</td><td>0.6</td><td>1</td><td>S_H1</td><td>H1</td><td>S</td></tr><tr><th>8</th><td>value1</td><td>100.00819061190617</td><td>0.7</td><td>1</td><td>S_H1</td><td>H1</td><td>S</td></tr><tr><th>9</th><td>value1</td><td>100.00935059768018</td><td>0.8</td><td>1</td><td>S_H1</td><td>H1</td><td>S</td></tr><tr><th>10</th><td>value1</td><td>100.01050743847112</td><td>0.9</td><td>1</td><td>S_H1</td><td>H1</td><td>S</td></tr><tr><th>11</th><td>value1</td><td>100.01166094378736</td><td>1.0</td><td>1</td><td>S_H1</td><td>H1</td><td>S</td></tr><tr><th>12</th><td>value1</td><td>100.01281092925007</td><td>1.1</td><td>1</td><td>S_H1</td><td>H1</td><td>S</td></tr><tr><th>13</th><td>value1</td><td>100.01395721643992</td><td>1.2</td><td>1</td><td>S_H1</td><td>H1</td><td>S</td></tr><tr><th>14</th><td>value1</td><td>100.01509963280547</td><td>1.3</td><td>1</td><td>S_H1</td><td>H1</td><td>S</td></tr><tr><th>15</th><td>value1</td><td>100.01623801150974</td><td>1.4</td><td>1</td><td>S_H1</td><td>H1</td><td>S</td></tr><tr><th>16</th><td>value1</td><td>100.01737219128947</td><td>1.5</td><td>1</td><td>S_H1</td><td>H1</td><td>S</td></tr><tr><th>17</th><td>value1</td><td>100.01850201637215</td><td>1.6</td><td>1</td><td>S_H1</td><td>H1</td><td>S</td></tr><tr><th>18</th><td>value1</td><td>100.01962733634535</td><td>1.7</td><td>1</td><td>S_H1</td><td>H1</td><td>S</td></tr><tr><th>19</th><td>value1</td><td>100.02074800598677</td><td>1.8</td><td>1</td><td>S_H1</td><td>H1</td><td>S</td></tr><tr><th>20</th><td>value1</td><td>100.02186388520346</td><td>1.9</td><td>1</td><td>S_H1</td><td>H1</td><td>S</td></tr><tr><th>21</th><td>value1</td><td>100.02297483892835</td><td>2.0</td><td>1</td><td>S_H1</td><td>H1</td><td>S</td></tr><tr><th>22</th><td>value1</td><td>100.0240807369486</td><td>2.1</td><td>1</td><td>S_H1</td><td>H1</td><td>S</td></tr><tr><th>23</th><td>value1</td><td>100.02518145380708</td><td>2.2</td><td>1</td><td>S_H1</td><td>H1</td><td>S</td></tr><tr><th>24</th><td>value1</td><td>100.02627686872802</td><td>2.3</td><td>1</td><td>S_H1</td><td>H1</td><td>S</td></tr><tr><th>25</th><td>value1</td><td>100.02736686552852</td><td>2.4</td><td>1</td><td>S_H1</td><td>H1</td><td>S</td></tr><tr><th>26</th><td>value1</td><td>100.0284513324241</td><td>2.5</td><td>1</td><td>S_H1</td><td>H1</td><td>S</td></tr><tr><th>27</th><td>value1</td><td>100.02953016196817</td><td>2.6</td><td>1</td><td>S_H1</td><td>H1</td><td>S</td></tr><tr><th>28</th><td>value1</td><td>100.03060325097552</td><td>2.7</td><td>1</td><td>S_H1</td><td>H1</td><td>S</td></tr><tr><th>29</th><td>value1</td><td>100.03167050044642</td><td>2.8</td><td>1</td><td>S_H1</td><td>H1</td><td>S</td></tr><tr><th>30</th><td>value1</td><td>100.03273181537787</td><td>2.9</td><td>1</td><td>S_H1</td><td>H1</td><td>S</td></tr><tr><th>&vellip;</th><td>&vellip;</td><td>&vellip;</td><td>&vellip;</td><td>&vellip;</td><td>&vellip;</td><td>&vellip;</td><td>&vellip;</td></tr></tbody></table>"
      ],
      "text/plain": [
       "83973×7 DataFrames.DataFrame\n",
       "│ Row   │ variable │ value   │ timestamp │ index │ name   │ facet │\n",
       "├───────┼──────────┼─────────┼───────────┼───────┼────────┼───────┤\n",
       "│ 1     │ value1   │ 100.0   │ 0.0       │ 1     │ \"S_H1\" │ \"H1\"  │\n",
       "│ 2     │ value1   │ 100.001 │ 0.1       │ 1     │ \"S_H1\" │ \"H1\"  │\n",
       "│ 3     │ value1   │ 100.002 │ 0.2       │ 1     │ \"S_H1\" │ \"H1\"  │\n",
       "│ 4     │ value1   │ 100.004 │ 0.3       │ 1     │ \"S_H1\" │ \"H1\"  │\n",
       "│ 5     │ value1   │ 100.005 │ 0.4       │ 1     │ \"S_H1\" │ \"H1\"  │\n",
       "│ 6     │ value1   │ 100.006 │ 0.5       │ 1     │ \"S_H1\" │ \"H1\"  │\n",
       "│ 7     │ value1   │ 100.007 │ 0.6       │ 1     │ \"S_H1\" │ \"H1\"  │\n",
       "│ 8     │ value1   │ 100.008 │ 0.7       │ 1     │ \"S_H1\" │ \"H1\"  │\n",
       "│ 9     │ value1   │ 100.009 │ 0.8       │ 1     │ \"S_H1\" │ \"H1\"  │\n",
       "│ 10    │ value1   │ 100.011 │ 0.9       │ 1     │ \"S_H1\" │ \"H1\"  │\n",
       "│ 11    │ value1   │ 100.012 │ 1.0       │ 1     │ \"S_H1\" │ \"H1\"  │\n",
       "⋮\n",
       "│ 83962 │ value23  │ 335.113 │ 363.9     │ 23    │ \"I_V\"  │ \"V\"   │\n",
       "│ 83963 │ value23  │ 335.114 │ 364.0     │ 23    │ \"I_V\"  │ \"V\"   │\n",
       "│ 83964 │ value23  │ 335.114 │ 364.1     │ 23    │ \"I_V\"  │ \"V\"   │\n",
       "│ 83965 │ value23  │ 335.115 │ 364.2     │ 23    │ \"I_V\"  │ \"V\"   │\n",
       "│ 83966 │ value23  │ 335.116 │ 364.3     │ 23    │ \"I_V\"  │ \"V\"   │\n",
       "│ 83967 │ value23  │ 335.117 │ 364.4     │ 23    │ \"I_V\"  │ \"V\"   │\n",
       "│ 83968 │ value23  │ 335.117 │ 364.5     │ 23    │ \"I_V\"  │ \"V\"   │\n",
       "│ 83969 │ value23  │ 335.118 │ 364.6     │ 23    │ \"I_V\"  │ \"V\"   │\n",
       "│ 83970 │ value23  │ 335.119 │ 364.7     │ 23    │ \"I_V\"  │ \"V\"   │\n",
       "│ 83971 │ value23  │ 335.12  │ 364.8     │ 23    │ \"I_V\"  │ \"V\"   │\n",
       "│ 83972 │ value23  │ 335.121 │ 364.9     │ 23    │ \"I_V\"  │ \"V\"   │\n",
       "│ 83973 │ value23  │ 335.122 │ 365.0     │ 23    │ \"I_V\"  │ \"V\"   │\n",
       "\n",
       "│ Row   │ compartment │\n",
       "├───────┼─────────────┤\n",
       "│ 1     │ \"S\"         │\n",
       "│ 2     │ \"S\"         │\n",
       "│ 3     │ \"S\"         │\n",
       "│ 4     │ \"S\"         │\n",
       "│ 5     │ \"S\"         │\n",
       "│ 6     │ \"S\"         │\n",
       "│ 7     │ \"S\"         │\n",
       "│ 8     │ \"S\"         │\n",
       "│ 9     │ \"S\"         │\n",
       "│ 10    │ \"S\"         │\n",
       "│ 11    │ \"S\"         │\n",
       "⋮\n",
       "│ 83962 │ \"I\"         │\n",
       "│ 83963 │ \"I\"         │\n",
       "│ 83964 │ \"I\"         │\n",
       "│ 83965 │ \"I\"         │\n",
       "│ 83966 │ \"I\"         │\n",
       "│ 83967 │ \"I\"         │\n",
       "│ 83968 │ \"I\"         │\n",
       "│ 83969 │ \"I\"         │\n",
       "│ 83970 │ \"I\"         │\n",
       "│ 83971 │ \"I\"         │\n",
       "│ 83972 │ \"I\"         │\n",
       "│ 83973 │ \"I\"         │"
      ]
     },
     "execution_count": 5,
     "metadata": {},
     "output_type": "execute_result"
    }
   ],
   "source": [
    "# rename!(df, Dict(:timestamp => :t,\n",
    "#  :value1 => :S_H, :value2 => :E_H, :value3 => :I_H, :value4 => :R_H,\n",
    "#  :value5 => :S_V, :value6 => :E_V, :value7 => :I_V\n",
    "# ))\n",
    "# mlt[:host] = contains.(string.(mlt[:variable]),\"H\"); # tag which entries are host vs vector\n",
    "# df\n",
    "df = DataFrame(sol)\n",
    "mlt = melt(df,:timestamp) # convert results into long format for plotting\n",
    "mlt[:index] = parse.(Int,replace.(string.(mlt[:variable]),r\"[^\\d]+\"=>\"\"))\n",
    "mlt[:name] = [\n",
    "    \"S_H1\",\"E_H1\",\"I_H1\",\"R_H1\",\n",
    "    \"S_H2\",\"E_H2\",\"I_H2\",\"R_H2\",\n",
    "    \"S_H3\",\"E_H3\",\"I_H3\",\"R_H3\",\n",
    "    \"S_H4\",\"E_H4\",\"I_H4\",\"R_H4\",\n",
    "    \"S_H5\",\"E_H5\",\"I_H5\",\"R_H5\",\n",
    "    \"S_V\",\"E_V\",\"I_V\"\n",
    "][mlt[:index]]\n",
    "mlt[:facet] = replace.(string.(mlt[:name]),r\"\\w+_\"=>\"\")\n",
    "mlt[:compartment] = replace.(string.(mlt[:name]),r\"_\\w+\"=>\"\")\n",
    "mlt"
   ]
  },
  {
   "cell_type": "markdown",
   "metadata": {},
   "source": [
    "Now that we have a solution, we want to view what is happening in host vs mosquito population:"
   ]
  },
  {
   "cell_type": "code",
   "execution_count": 6,
   "metadata": {
    "scrolled": true
   },
   "outputs": [
    {
     "name": "stderr",
     "output_type": "stream",
     "text": [
      "WARNING: Method definition promote_rule(Type{T}, Type{Any}) in module Missings at /home/simon/.julia/v0.6/Missings/src/Missings.jl:52 overwritten in module Nulls at /home/simon/.julia/v0.6/Nulls/src/Nulls.jl:29.\n",
      "WARNING: Method definition ==(Base.Nullable{S}, Base.Nullable{T}) in module Base at nullable.jl:238 overwritten in module NullableArrays at /home/simon/.julia/v0.6/NullableArrays/src/operators.jl:99.\n"
     ]
    },
    {
     "data": {
      "image/png": "[encoded data removed]"
     },
     "metadata": {},
     "output_type": "display_data"
    },
    {
     "data": {
      "text/plain": [
       "RCall.RObject{RCall.VecSxp}\n"
      ]
     },
     "execution_count": 6,
     "metadata": {},
     "output_type": "execute_result"
    }
   ],
   "source": [
    "using RCall\n",
    "# current version RCall supports better transfers, which would simplify this mess\n",
    "# but requires Julia v >= 0.7\n",
    "vals = mlt[:value]\n",
    "tstamps = mlt[:timestamp]\n",
    "fcts = mlt[:facet]\n",
    "comps = mlt[:compartment]\n",
    "@rput vals tstamps fcts comps\n",
    "R\"\n",
    "library(ggplot2)\n",
    "suppressPackageStartupMessages(library(data.table))\n",
    "dt <- data.table(t=tstamps, y=vals, species=fcts, compartment=comps)\n",
    "ggplot(dt) + aes(x=t, y=y, color=compartment) + facet_grid(species ~ ., scale = 'free_y') +\n",
    "  theme_minimal() +\n",
    "  geom_line()\n",
    "\""
   ]
  }
 ],
 "metadata": {
  "kernelspec": {
   "display_name": "Julia 0.6.3",
   "language": "julia",
   "name": "julia-0.6"
  },
  "language_info": {
   "file_extension": ".jl",
   "mimetype": "application/julia",
   "name": "julia",
   "version": "0.6.3"
  }
 },
 "nbformat": 4,
 "nbformat_minor": 2
}
