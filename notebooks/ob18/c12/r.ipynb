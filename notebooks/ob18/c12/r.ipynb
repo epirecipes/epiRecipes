{
 "cells": [
  {
   "cell_type": "markdown",
   "metadata": {},
   "source": [
    "-   [Transmission on networks](#chap:c11)\n",
    "    -   [S preamble: objects, classes and functions](#sec:s3)\n",
    "    -   [Networks](#networks)\n",
    "    -   [Models of networks](#models-of-networks)\n",
    "        -   [Watts-Strogatz Networks](#watts-strogatz-networks)\n",
    "        -   [Barabasi-Albert Networks](#barabasi-albert-networks)\n",
    "    -   [Epidemics on networks](#epidemics-on-networks)\n",
    "\n",
    "Transmission on networks\n",
    "========================\n",
    "\n",
    "S preamble: objects, classes and functions\n",
    "------------------------------------------\n",
    "\n",
    "The S-language which is the foundation of R was constructed using an ‘object’-based logic where each object is assigned a ‘class’. The class, in turn, controls printing, plotting and summarizing each object. There are many excellent introductions to S programming , in this chapter we will use S3-class programming to streamline our analysis of epidemics on networks. The basic idea is this: if we label the result of some calculation as class `foo`, then R will look for functions `print.foo()`, `summary.foo()` and `plot.foo()` in the search-path when further interacting with the result of the calculation. Let’s illustarte with a silly example:"
   ]
  },
  {
   "cell_type": "code",
   "execution_count": null,
   "metadata": {},
   "outputs": [],
   "source": [
    "foo = function(x) {\n",
    "    res = x\n",
    "    class(res) = \"foo\"\n",
    "    return(res)\n",
    "}\n",
    "\n",
    "print.foo = function(obj) {\n",
    "    cat(\"foo is:\\n\", obj)\n",
    "}\n",
    "\n",
    "summary.foo = function(obj) {\n",
    "    cat(\"In summary, foo is:\\n\", obj)\n",
    "}\n",
    "\n",
    "plot.foo = function(obj) {\n",
    "    plot(NA, type = \"n\", ylim = c(0, 1), xlim = c(0, 1), ylab = \"\")\n",
    "    text(x = seq(0.1, 0.9, by = 0.1), y = seq(0.1, 0.9, by = 0.1), \n",
    "        as.character(obj))\n",
    "}"
   ]
  },
  {
   "cell_type": "markdown",
   "metadata": {},
   "source": [
    "The result is a fully functional S3-class of R objects:"
   ]
  },
  {
   "cell_type": "code",
   "execution_count": null,
   "metadata": {},
   "outputs": [],
   "source": [
    "zz = foo(\"pibble\")"
   ]
  },
  {
   "cell_type": "markdown",
   "metadata": {},
   "source": [
    "which we can print,"
   ]
  },
  {
   "cell_type": "code",
   "execution_count": null,
   "metadata": {},
   "outputs": [],
   "source": [
    "zz"
   ]
  },
  {
   "cell_type": "markdown",
   "metadata": {},
   "source": [
    "summarize,"
   ]
  },
  {
   "cell_type": "code",
   "execution_count": null,
   "metadata": {},
   "outputs": [],
   "source": [
    "summary(zz)"
   ]
  },
  {
   "cell_type": "markdown",
   "metadata": {},
   "source": [
    "and plot (fig. \\[fig:zz\\]):"
   ]
  },
  {
   "cell_type": "code",
   "execution_count": null,
   "metadata": {},
   "outputs": [],
   "source": [
    "plot(zz)"
   ]
  },
  {
   "cell_type": "markdown",
   "metadata": {},
   "source": [
    "And that is the basics of S3-class programming ...\n",
    "\n",
    "Networks\n",
    "--------\n",
    "\n",
    "Transmission on social networks bears conceptual similarities to spatial transmission. The only difference being that in spatial models transmission occurs among neighbors in space, and transmission on networks occurs among neighbors in social space. We can thus use the type of compact code we used for CML models (section \\[sec:c8cml\\]) to simulate epidemics on networks. A key determinant of invasibility and speed of spread is the average and variance in the number of contacts on the networks . As we saw in the network of spread of gonorrhea (section \\[sec:contra\\]), there is often substantial variation in the number of sexual partners. Section \\[sec:waifw\\] further highlighted age-specific variation in contact rates. It is easiest to consider static networks (networks for which contact patterns do not change over time) for which the contact distribution is characterized by the ‘degree distribution’, contacts are mapped onto ‘edges’ and individuals are ‘nodes’.\n",
    "\n",
    "Models of networks\n",
    "------------------\n",
    "\n",
    "In the previous spatial coupled map lattice models, transmission was restricted to the eight nearest neighbors on the lattice, so we can think of this as an example of a network with fixed degree of 8. In network theory, an analogous fixed-degree network is constructed as a ring lattice. The associated matrix that flags neighbors is a particular type of [](https://en.wikipedia.org/wiki/Toeplitz_matrix). We can define a `ringlattice`-function to generate such networks with `N` nodes and `2*K` degrees. We label the result to be of class `cm` (short for contact matrix):"
   ]
  },
  {
   "cell_type": "code",
   "execution_count": null,
   "metadata": {},
   "outputs": [],
   "source": [
    "ringlattice = function(N, K) {\n",
    "    # N is the number of nodes K is the number of neighbors on\n",
    "    # each side to which each node is connected so degree = 2xK\n",
    "    CM = toeplitz(c(0, rep(1, K), rep(0, N - 2 * K - 1), rep(1, \n",
    "        K)))\n",
    "    class(CM) = \"cm\"\n",
    "    return(CM)\n",
    "}"
   ]
  },
  {
   "cell_type": "markdown",
   "metadata": {},
   "source": [
    "Trigonometry provides a basic way to visualize a ring network... or any other object that is defined as class `cm`."
   ]
  },
  {
   "cell_type": "code",
   "execution_count": null,
   "metadata": {},
   "outputs": [],
   "source": [
    "plot.cm = function(CM){\n",
    "   N = dim(CM)[1]\n",
    "   theta = seq(0,2*pi,length = N+1)\n",
    "   x = cos(theta[1:N])\n",
    "   y = sin(theta[1:N])\n",
    "   symbols(x,y, fg = 0, circles = rep(1, N), \n",
    "      inches = 0.1, bg = 1, xlab = \"\", ylab = \"\")\n",
    "   segx1 = as.vector(matrix(x, ncol = length(x),\n",
    "       nrow = length(x), byrow = TRUE))\n",
    "   segx2 = as.vector(matrix(x, ncol = length(x), \n",
    "       nrow = length(x), byrow = FALSE))\n",
    "   segy1 = as.vector(matrix(y, ncol = length(x), \n",
    "       nrow = length(x), byrow = TRUE))\n",
    "   segy2 = as.vector(matrix(y, ncol = length(x), \n",
    "       nrow = length(x), byrow = FALSE))\n",
    "   segments(segx1,segy1, segx2, \n",
    "      segy2, lty = as.vector(CM))\n",
    "}"
   ]
  },
  {
   "cell_type": "markdown",
   "metadata": {},
   "source": [
    "Figure \\[fig:cm1\\] depicts a ring-lattice with 20 individuals and a fixed-degree of eight."
   ]
  },
  {
   "cell_type": "code",
   "execution_count": null,
   "metadata": {},
   "outputs": [],
   "source": [
    "cm = ringlattice(N = 20, K = 4)\n",
    "plot(cm)"
   ]
  },
  {
   "cell_type": "markdown",
   "metadata": {},
   "source": [
    "### Watts-Strogatz Networks\n",
    "\n",
    "Real social networks have heterogeneities in contact rates and usually exhibits much lower social separation than predicted by the ring lattice. In the study of small-world networks, [](https://en.wikipedia.org/wiki/Watts_and_Strogatz_model) proposed an algorithm for generating more realistic networks by randomly rewiring a fraction `Prw` of the edges of a ring lattice."
   ]
  },
  {
   "cell_type": "code",
   "execution_count": null,
   "metadata": {},
   "outputs": [],
   "source": [
    "WattsStrogatz = function(N, K, Prw){\n",
    "  # Build a Watts-Strogatz contact matrix from \n",
    "  # a ring lattice, Prw is the rewiring probability\n",
    "  CM = ringlattice(N = N, K = K)\n",
    "  CMWS = CM\n",
    "  tri = CM[upper.tri(CM)]\n",
    "  Br = rbinom(length(tri),1,Prw) # Break edges \n",
    "  a = 0\n",
    "  for(i in 1:(N-1)){                                    \n",
    "    for(j in (i+1):N){\n",
    "         a = a+1                                \n",
    "         if(Br[a]==1 & CMWS[i,j]==1){ #If \"Br == 1\"\n",
    "             CMWS[i,j] = CMWS[j,i] = 0 # break edge\n",
    "             tmp = i\n",
    "             tmp2 = c(i, which(CMWS[i,]==1))\n",
    "             #new edge, if already present try again\n",
    "             while(any(tmp2==tmp)){\n",
    "                tmp = ceiling(N*runif(1))} \n",
    "             CMWS[i,tmp] = CMWS[tmp,i] = 1 # make new edge\n",
    "             }\n",
    "    }\n",
    "  }\n",
    "class(CMWS) = \"cm\"\n",
    "return(CMWS)\n",
    "}"
   ]
  },
  {
   "cell_type": "markdown",
   "metadata": {},
   "source": [
    "Figure \\[fig:cm2\\] depicts a Watts-Strogatz network with 20 individuals, a mean degree of 8 and a rewiring probability of $0.3$."
   ]
  },
  {
   "cell_type": "code",
   "execution_count": null,
   "metadata": {},
   "outputs": [],
   "source": [
    "cm2 = WattsStrogatz(N = 20, K = 4, Prw = 0.3)\n",
    "plot(cm2)"
   ]
  },
  {
   "cell_type": "markdown",
   "metadata": {},
   "source": [
    "We can extend the notion of writing generic functions for class `cm`-objects, to define a `summary`-function that calculates and optionally plots (fig. \\[fig:cm3\\]) the degree distribution."
   ]
  },
  {
   "cell_type": "code",
   "execution_count": null,
   "metadata": {},
   "outputs": [],
   "source": [
    "summary.cm = function(x, plot = FALSE) {\n",
    "    x = table(apply(x, 2, sum))\n",
    "    res = data.frame(n = x)\n",
    "    names(res) = c(\"degree\", \"freq\")\n",
    "    if (plot) \n",
    "        barplot(x, xlab = \"degree\")\n",
    "    return(res)\n",
    "}\n",
    "summary(cm2, plot = TRUE)"
   ]
  },
  {
   "cell_type": "markdown",
   "metadata": {},
   "source": [
    "The Watts-Strogatz model scales the degree distribution from fixed to the ‘random graph’ – when the rewiring probability is set to 1 – which has a Poisson-distributed degree distribution. The random graph corresponds to the [](https://en.wikipedia.org/wiki/Erdos-Renyi_model) .\n",
    "\n",
    "### Barabasi-Albert Networks\n",
    "\n",
    "The Watts-Strogatz model can at most have Poisson-like variance in degree distribution, so it cannot mimic heavy-tailed distributions seen in ‘scale-free’ networks. [](https://en.wikipedia.org/wiki/Barabasi-Albert_model) () proposed that such behavior arise from preferential attachment (‘rich-get-richer’) dynamics. We can write a function that generates a network with N-nodes and mean degree `2*K`. The log-log plot (fig. \\[fig:BA\\]) shows the power-law heterogeneity in contacts predicted by the Barabasi-Albert algorithm."
   ]
  },
  {
   "cell_type": "code",
   "execution_count": null,
   "metadata": {},
   "outputs": [],
   "source": [
    "BarabasiAlbert = function(N, K){\n",
    "   CM = matrix(0, ncol = N, nrow = N)\n",
    "   CM[1,2] = 1\n",
    "   CM[2,1] = 1\n",
    "   for(i in 3:N){   \n",
    "       probs = apply(CM, 1, sum)\n",
    "       link = unique(sample(c(1:N)[-i], \n",
    "          size = min(c(K, i-1)), prob = probs[-i]))\n",
    "      CM[i, link] = CM[link, i] = 1\n",
    "   }\n",
    "class(CM) = \"cm\"\n",
    "return(CM)\n",
    "}\n",
    "\n",
    "cm3 = BarabasiAlbert(200, 4)\n",
    "ed = summary(cm3)\n",
    "plot(as.numeric(ed$degree), ed$freq, log = \"xy\", xlab = \"Degree\", \n",
    "    ylab = \"Frequency\")"
   ]
  },
  {
   "cell_type": "markdown",
   "metadata": {},
   "source": [
    "For fancier visualization of networks we can use the plotting functions in the `statnet`-package (fig. \\[fig:snet\\]). The `network`-function in the `statnet`-package convert the contact matrix (of class `CM`) to a `network`-class object."
   ]
  },
  {
   "cell_type": "code",
   "execution_count": null,
   "metadata": {},
   "outputs": [],
   "source": [
    "require(statnet)\n",
    "plot(network(cm3, directed = FALSE))"
   ]
  },
  {
   "cell_type": "markdown",
   "metadata": {},
   "source": [
    "Epidemics on networks\n",
    "---------------------\n",
    "\n",
    "We can run SIR-like epidemics across networks by assuming that an infection is transmitted across an S-I edge with a probability, $\\tau$, per time step . Following, the [](https://en.wikipedia.org/wiki/Reed-Frost_model) version of the chain-binomial model , the probability of any given susceptible becoming infected is $p=1-(1-\\tau)^y$ where $y$ is the number of infected neighbors. We may further assume infecteds are removed with a constant probabillity, $\\gamma$, leading to a geometrically distributed infectious period. Spread of infections on networks depends on both mean number of contacts $\\overline{k}$ and heterogeneity in that number (quantified by $\\overline{k^2}$) according to $R_0 = (\\tau /(\\tau+ \\gamma)) (\\overline{k^2} - \\overline{k})/ \\overline{k})$ .\n",
    "\n",
    "The `NetworkSIR` function will simulate a closed SIR epidemic on arbitrary contact matrices and return an object of class `netSIR`."
   ]
  },
  {
   "cell_type": "code",
   "execution_count": null,
   "metadata": {},
   "outputs": [],
   "source": [
    "NetworkSIR = function(CM,tau,gamma){\n",
    "  #generate SIR epidemic on a CM-network  \n",
    "  #CM  =  contact matrix\n",
    "  #tau  =  probability of infection across an edge\n",
    "  #gamma  =  probability of removal per time step \n",
    "  N = dim(CM)[1]\n",
    "  I = matrix(rep(0,N),nrow = N,ncol = 1) #First infecteds \n",
    "  S = matrix(rep(1,N),nrow = N,ncol = 1) #First susceptibles \n",
    "  R = matrix(rep(0,N),nrow = N,ncol = 1) #First removed \n",
    "  I1 = sample(1:N, size = 1)#Pick first random infected\n",
    "  I[I1,1] = 1\n",
    "  S[I1,1] = 0   \n",
    "  t = 1\n",
    "  while(sum(I[,t-1])>0 | t==1){\n",
    "    t = t+1\n",
    "    infneigh = CM%*%I[,t-1]\n",
    "    pinf = 1-(1-tau)^infneigh\n",
    "    newI = rbinom(N, S[,t-1], pinf)\n",
    "    newR = rbinom(N, I[,t-1], gamma)\n",
    "    nextS = S[,t-1]-newI\n",
    "    nextI = I[,t-1]+newI-newR\n",
    "    nextR = R[,t-1]+newR\n",
    "    I = cbind(I, nextI)\n",
    "    S = cbind(S, nextS)\n",
    "    R = cbind(R, nextR)\n",
    "  } \n",
    "res = list(I = I,S = S,R = R)\n",
    "class(res) = \"netSIR\"\n",
    "return(res)\n",
    "}"
   ]
  },
  {
   "cell_type": "markdown",
   "metadata": {},
   "source": [
    "We can define `summary`- and `plot`-functions for the `netSIR` class."
   ]
  },
  {
   "cell_type": "code",
   "execution_count": null,
   "metadata": {},
   "outputs": [],
   "source": [
    "summary.netSIR = function(x){\n",
    "   t = dim(x$S)[2]\n",
    "   S = apply(x$S,2,sum)\n",
    "   I = apply(x$I,2,sum)\n",
    "   R = apply(x$R,2,sum)\n",
    "   res = data.frame(S = S,I = I,R = R)\n",
    "   return(res)\n",
    "}\n",
    "\n",
    "plot.netSIR = function(x){\n",
    "   y = summary(x)   \n",
    "   plot(y$S, type = \"b\", xlab = \"time\", ylab = \"\")\n",
    "   lines(y$I, type = \"b\", col = \"red\")  \n",
    "   lines(y$R, type = \"b\", col = \"blue\") \n",
    "   legend(\"right\", legend = c(\"S\", \"I\", \"R\"),\n",
    "     lty = c(1,1,1), pch = c(1,1,1),\n",
    "     col = c(\"black\", \"red\", \"blue\"))\n",
    "}"
   ]
  },
  {
   "cell_type": "markdown",
   "metadata": {},
   "source": [
    "Figure \\[fig:netsim\\] show epidemic spread on (i) scale-free, (ii) Watts-Strogatz, (iii) Poisson, and (iv) ring lattice networks."
   ]
  },
  {
   "cell_type": "code",
   "execution_count": null,
   "metadata": {},
   "outputs": [],
   "source": [
    "cm1 = BarabasiAlbert(N = 200,K = 2)  #(i)\n",
    "cm2 = WattsStrogatz(N = 200, K = 2, Prw = .1) #(ii)\n",
    "cm3 = WattsStrogatz(N = 200, K = 2, Prw = 1)  #(iii)\n",
    "cm4 = ringlattice(N = 200,K = 2)   #(iv)\n",
    "sim1 = NetworkSIR(cm1,.3,0.1)\n",
    "sim2 = NetworkSIR(cm2,.3,0.1)\n",
    "sim3 = NetworkSIR(cm3,.3,0.1)\n",
    "sim4 = NetworkSIR(cm4,.3,0.1)\n",
    "plot(apply(sim1$I,2,sum), type = \"l\", xlab = \"Time\", \n",
    "     ylab = \"Infected\")\n",
    "lines(apply(sim2$I,2,sum), type = \"l\", col = \"red\")\n",
    "lines(apply(sim3$I,2,sum), type = \"l\", col = \"red\", lty = 2)\n",
    "lines(apply(sim4$I,2,sum), type = \"l\", col = \"blue\")\n",
    "legend(\"topright\", legend = c(\"Scale-free\", \"WS(0.1)\", \n",
    "   \"Poisson\", \"Lattice\"), lty = c(1,1, 2, 1), \n",
    "   col=c(\"black\", \"red\", \"red\", \"blue\"))"
   ]
  },
  {
   "cell_type": "markdown",
   "metadata": {},
   "source": [
    "The difference in spread can be understood in terms of how network geometry moulds $R_0$ even when all else (including the mean number of contacts) is constant . The `r0fun`- function calculates $R_0$ for any given network and apply it to each simulated networks. The greater the heterogeneity the greater the $R_0$:"
   ]
  },
  {
   "cell_type": "code",
   "execution_count": null,
   "metadata": {},
   "outputs": [],
   "source": [
    "r0fun = function(CM, tau, gamma){\n",
    "x = apply(CM, 2, sum)\n",
    "(tau/(tau+gamma))*(mean(x^2)-(mean(x)))/mean(x)\n",
    "}\n",
    "r0fun(cm1, 0.3, 0.1)\n",
    "r0fun(cm2, 0.3, 0.1)\n",
    "r0fun(cm3, 0.3, 0.1)\n",
    "r0fun(cm4, 0.3, 0.1)"
   ]
  },
  {
   "cell_type": "markdown",
   "metadata": {},
   "source": [
    "We can combine the functionality of the `statnet`-package with the above results on network heterogeneity to revisit on the gonorrhea contact tracing study of from section \\[sec:contra\\]."
   ]
  },
  {
   "cell_type": "code",
   "execution_count": null,
   "metadata": {},
   "outputs": [],
   "source": [
    "data(gonnet)\n",
    "nwt = network(gonnet, directed = TRUE)\n",
    "x = degree(nwt)[2:89]\n",
    "mean(x)"
   ]
  },
  {
   "cell_type": "markdown",
   "metadata": {},
   "source": [
    "The mean degree is 1.92, but the inflation factor due to the network heterogeneity is predicted to almost double the $R_0$ of a STD spreading across this network:"
   ]
  },
  {
   "cell_type": "code",
   "execution_count": null,
   "metadata": {},
   "outputs": [],
   "source": [
    "(mean(x^2) - (mean(x)))/mean(x)"
   ]
  },
  {
   "cell_type": "markdown",
   "metadata": {},
   "source": [
    "To simulate an epidemic on the empirical contact-tracing study from section \\[sec:contra\\], we first have to construct a undirected contact network among the 89 members and next apply the `NetworkSIR` model to plot the time trajectory and final infection status of the network:"
   ]
  },
  {
   "cell_type": "code",
   "execution_count": null,
   "metadata": {},
   "outputs": [],
   "source": [
    "#Undirected network\n",
    "cmg = gonnet+t(gonnet)\n",
    "#Simulate epidemid\n",
    "cep = NetworkSIR(cmg, 0.3, 0.1)\n",
    "sm = summary(cep)\n",
    "par(mfrow = c(1,2))\n",
    "inf = ifelse(apply(cep$I,1,sum)>0,2,1)\n",
    "nwt = network(cmg, directed = FALSE)\n",
    "plot(nwt, vertex.col = inf)\n",
    "matplot(sm, ylab = \"Numbers\")\n",
    "legend(\"right\", c(\"S\", \"I\", \"R\"), \n",
    "     pch = c(\"1\", \"2\", \"3\"), col = c(1,2,3))"
   ]
  },
  {
   "cell_type": "markdown",
   "metadata": {},
   "source": [
    "The infection history of the network (fig. \\[fig:netcmg\\]) reveals the feature that the core-group of the network is likely to always be infected but peripheral individuals may escape infection by getting surrounded by immune individuals before getting infected. discusses how the geometry of a network shapes the likelihood of a given individual escaping infection.\n",
    "\n",
    "Models of networks and epidemics on networks is a vast literature, so the above should at best be consider a teaser. The statnet project and associated `statnet`-package has a rich set of resources for network analysis and modeling epidemics on networks including how to generate dynamic networks."
   ]
  }
 ],
 "metadata": {},
 "nbformat": 4,
 "nbformat_minor": 2
}
