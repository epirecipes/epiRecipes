{
 "cells": [
  {
   "cell_type": "markdown",
   "metadata": {},
   "source": [
    "-   [Exotica](#chap:cXX)\n",
    "    -   [Introduction](#introduction)\n",
    "    -   [Chaos](#sec:cha)\n",
    "    -   [Local Lyapunov exponents](#local-lyapunov-exponents)\n",
    "    -   [Coexisting attractors](#coexisting-attractors)\n",
    "    -   [Repellors / Unstable manifolds](#sec:c10rep)\n",
    "    -   [Invasion orbits](#invasion-orbits)\n",
    "    -   [Stochastic resonance](#sec:c10stocres)\n",
    "    -   [Predictability: Empirical dynamic modelling](#sec:c10emd)\n",
    "    -   [Appendix: Making a pomp-simulator](#sec:pomp)\n",
    "\n",
    "Exotica\n",
    "=======\n",
    "\n",
    "Introduction\n",
    "------------\n",
    "\n",
    "Chapter \\[chap:c10\\] discussed how a linear approximation to the perennially nonlinear dynamics of infectious disease can provide important insights on invasion, stability and resonant periodicity. As remarked by more generally, linear approximation can often provide remarkably useful insights for nonlinear ecological systems as long as they are not *too* nonlinear.\n",
    "\n",
    "From a dynamical system’s point of view, dynamics are (approximately) linear if the system does not ‘miss-behave’ as it approach (diverge) from its stable (unstable) fix-points. Thus, while the simple SIR model is mathematically-speaking nonlinear (because of the $\\beta S I /N$ term), its dynamics can be thought of as being ‘linear’ because of its smooth inwards spiraling towards the endemic equilibrium (the stable focus) and logistic divergence from the disease-free equilibrium (the unstable node) when $R_0>1$. However, highly infectious immunizing diseases has the potential for exhibiting dynamics so non-linear that crazy things can happen; Things that requires a different set of tools. The chaotic fluctuations seen in the seasonally forced SEIR model and measles in prevaccination US (section \\[sec:c4bif\\]) are one such highly nonlinear phenomenon. There are however other dynamic ‘exotica’ that can arise when stochasticity and nonlinearity interacts, or when there are great perturbations (such as introduction of mass vaccination) to the nonlinear epidemic clockworks. The following sections explores this and discuss some useful tools.\n",
    "\n",
    "Chaos\n",
    "-----\n",
    "\n",
    "In nonlinear systems, a perturbation will either dampen (‘dissipate’) or expand as it interacts with the dynamic clockwork. The hallmark of a chaotic attractor is ‘sensitive dependence on initial conditions’[1]: Two very nearby trajectories will diverge exponentially over time. The classic way to quantify this is through the dominant Lyapunov exponent: $$\\lambda = \\lim_{T \\rightarrow \\infty} \\frac{1}{T} \\log(\\prod_t^T J_t U_0), \n",
    "\\label{eq:LE}$$ where $J_t$ is the Jacobian evaluated on the point of the attractor at time $t$ and for a 2D system like the TSIR $U_0$ is the unit vector $\\{1,0\\}$. A chaotic attractor has $\\lambda > 0$. The Jacobian of the TSIR model is: $$J_t =\n",
    " \\begin{bmatrix}\n",
    "   1 - \\beta_s I_t^\\alpha/N &\n",
    "  - \\beta_s S_t (I_t^{\\alpha - 1}  \\alpha)/N\\\\\n",
    "   \\beta_s I_t^\\alpha/N  &\n",
    "   \\beta_s S_t (I_t^{\\alpha - 1} \\alpha)/N\n",
    "\\end{bmatrix}.$$ We can estimate the Lyapunov exponent numerically by simulating the TSIR a long time . We consider the measles dynamics in New York between 1920 and 1941 (fig. \\[fig:cXXny\\]) . We first fit the parameters using the protocol discussed in chapter \\[chap:c6\\]; The profile likelihood on $\\overline{S}$ suggests a mean fraction of susceptibles of 0.051."
   ]
  },
  {
   "cell_type": "code",
   "execution_count": null,
   "metadata": {},
   "outputs": [],
   "source": [
    "data(dalziel)\n",
    "NY = na.omit(dalziel[dalziel$loc==\"NEW YORK\",])\n",
    "NY = NY[NY$year %in% c(1920:1940),]\n",
    "plot(NY$decimalYear, sqrt(NY$cases), type = \"b\", \n",
    "     xlab = \"Year\", ylab = \"Sqrt(cases)\")\n",
    "#Susceptible reconstruction and \n",
    "#correcting for underreporting\n",
    "cum.reg = smooth.spline(cumsum(NY$rec), \n",
    "     cumsum(NY$cases), df = 5)\n",
    "D = - resid(cum.reg) #The residuals\n",
    "rr = predict(cum.reg, deriv = 1)$y\n",
    "Ic = NY$cases/rr\n",
    "Dc = D/rr \n",
    "#Align lagged variables\n",
    "seas = rep(1:26, 21)[1:545]\n",
    "lInew = log(Ic[2:546])\n",
    "lIold = log(Ic[1:545])\n",
    "Dold = Dc[1:545]\n",
    "#TSIR fit\n",
    "N = NY$pop\n",
    "offsetN = -log(N[1:545])\n",
    "lSold = log(0.051*N[1:545] + Dold)\n",
    "glmfit = glm(lInew ~ -1 +as.factor(seas) + lIold +\n",
    "     offset(lSold+offsetN))"
   ]
  },
  {
   "cell_type": "markdown",
   "metadata": {},
   "source": [
    "We use the `SimTsir2`-function from chapter \\[chap:c6\\] to simulate a 200 year long deterministic trajectory from the fitted model. The result is a highly erratic trajectory in the phase plane (fig. \\[fig:nyattr\\])."
   ]
  },
  {
   "cell_type": "code",
   "execution_count": null,
   "metadata": {},
   "outputs": [],
   "source": [
    "sim2 = SimTsir2(beta = exp(glmfit$coef[1:26]), alpha = 0.98,\n",
    "     B = rep(median(NY$rec), 5200), N = median(N), \n",
    "     inits = list(Snull = exp(lSold[1]), Inull = Ic[1]), \n",
    "     type = \"det\")\n",
    "Sattr = sim2$S[2601:5200]\n",
    "Iattr = sim2$I[2601:5200]\n",
    "plot(Sattr, Iattr, log = \"y\", type = \"l\",\n",
    "     xlab = \"S\", ylab = \"I\")\n",
    "points(sim2$S[seq(2601, 5200, by = 26)], \n",
    "     sim2$I[seq(2601, 5200, by = 26)],pch = 19, col = \"red\")\n",
    "legend(\"bottomright\", c(\"Trajectory\", \"Strobe\"), \n",
    "     pch = c(NA, 19), lty = c(1, NA) , col = c(\"black\",\"red\"))"
   ]
  },
  {
   "cell_type": "markdown",
   "metadata": {},
   "source": [
    "Calculating the Lyapunov exponent is a bit involved, so we write a function to do it. Because we will be wanting to study the attractor in greater detail, we make the function both calculate the Lyapunov exponent, but also store all the Jacobian elements evaluated along the attractor."
   ]
  },
  {
   "cell_type": "code",
   "execution_count": null,
   "metadata": {},
   "outputs": [],
   "source": [
    "TSIRlyap=function(I, S, alpha, bt, N){\n",
    "   IT = length(I)\n",
    "   s = length(bt)\n",
    "   j11 = rep(NA, IT);  j12 = rep(NA, IT)\n",
    "   j21 = rep(NA, IT);  j22 = rep(NA, IT)\n",
    "    #initial unit vector\n",
    "    J = matrix(c(1,0),ncol=1)\n",
    "    #loop over the attractor\n",
    "    for(i in 1:IT) {\n",
    "         j11[i] = 1 -  bt[((i - 1) %% s) + 1] * \n",
    "            I[i]^alpha/N\n",
    "         j12[i] = -( bt[((i - 1) %% s) + 1] * S[i] * \n",
    "            (I[i]^(alpha - 1) * alpha)/N)\n",
    "         j21[i] =  bt[((i - 1) %% s) + 1] * I[i]^alpha/N\n",
    "         j22[i] =  bt[((i - 1) %% s) + 1] * S[i] * \n",
    "            (I[i]^(alpha - 1) * alpha)/N\n",
    "    \n",
    "         J = matrix(c(j11[i],j12[i],j21[i],j22[i]), \n",
    "            ncol = 2, byrow = TRUE)%*%J\n",
    "    }\n",
    "   res = list(lyap = log(norm(J))/IT, j11 = j11, j12 = j12, \n",
    "         j21 = j21, j22 = j22, I = I, S = S, alpha = alpha, \n",
    "         bt = bt, N = N)\n",
    "   class(res) = \"lyap\"\n",
    "   return(res)\n",
    "}"
   ]
  },
  {
   "cell_type": "markdown",
   "metadata": {},
   "source": [
    "We apply the function to the last 100 years of the simulated dynamics:"
   ]
  },
  {
   "cell_type": "code",
   "execution_count": null,
   "metadata": {},
   "outputs": [],
   "source": [
    "nylyap = TSIRlyap(I = Iattr, S = Sattr, alpha = 0.98, \n",
    "     bt = exp(glmfit$coef[1:26]), N = median(N))\n",
    "nylyap$lyap"
   ]
  },
  {
   "cell_type": "markdown",
   "metadata": {},
   "source": [
    "The exponent is positive indicating that the deterministic skeleton of the TSIR model for measles in New York is a chaotic attractor as concluded by . This contrasts with the negative Lyapunov exponent of measles in London testifying to the stability of its biennial limit cycle (see below).\n",
    "\n",
    "Local Lyapunov exponents\n",
    "------------------------\n",
    "\n",
    " suggested that it is useful to study the *local* Lyapunov exponents to understand short term predictability, and also how noise and nonlinearity will interact in epidemic systems. The idea is that regardless of whether dynamics is asymptotically stable, cyclic or chaotic, there is likely to be regions in the phase plane with expansion in which stochastic divergence will be amplified and regions of contraction were perturbations will be dampened. used local Lyapunov exponents to understand the remarkable predictability of prevaccination measles in London. Local Lyapunov exponents are similar in nature to the global exponent, except that rather than evaluating a product of Jacobians across the attractor, the Jacobians are evaluated locally. Armed with an object produced with the `TSIRlyap`-function it is easy to write a second function to calculate local exponents across `m`-steps along the attractor (or anywhere else in the phase plane, such as along a ‘repellor’; see section \\[sec:c10rep\\]). Since the TSIR is a discrete time model, contraction occurs if the largest eigenvalue of the stability matrix is inside the unit circle – thus $\\log(| \\lambda |)<0$ is the cut-off between contraction and expasion. The `TSIRllyap`-function calculates the Local Lyapunov exponents for outputs from the `TSIRlyap`-function. The parameter `m` controls the number of iterations along the attractor on which to calculate the product ."
   ]
  },
  {
   "cell_type": "code",
   "execution_count": null,
   "metadata": {},
   "outputs": [],
   "source": [
    "TSIRllyap = function(x, m = 1){\n",
    "     llyap = rep(NA, length(x$I))\n",
    "     for(i in 1:(length(x$I)-m)){\n",
    "         J = matrix(c(1,0,0,1), ncol = 2)\n",
    "         for(k in 0:(m-1)){\n",
    "             J  =  matrix(c(x$j11[(i+k)], x$j12[(i+k)], \n",
    "                x$j21[(i+k)], x$j22[(i+k)]), ncol  =  2, \n",
    "                byrow = TRUE)%*%J}\n",
    "         llyap[i] = log(max(abs(eigen(J)$values)))/m\n",
    "}\n",
    "res = list(llyap = llyap, I = x$I, S = x$S)\n",
    "class(res) = \"llyap\"\n",
    "return(res)\n",
    "}"
   ]
  },
  {
   "cell_type": "markdown",
   "metadata": {},
   "source": [
    "For ease of use we can also write a function to visualize the local exponents:"
   ]
  },
  {
   "cell_type": "code",
   "execution_count": null,
   "metadata": {},
   "outputs": [],
   "source": [
    "plot.llyap = function(x, inches = .5){\n",
    "   pm = x$llyap>0\n",
    "   plot(NA, xlim = range(x$S), ylim = range(x$I), xlab = \"S\", \n",
    "        ylab = \"I\", log = \"y\")\n",
    "   symbols(x$S[pm], x$I[pm], circles = x$llyap[pm], \n",
    "        inches = inches, add = TRUE)\n",
    "   symbols(x$S[!pm],x$I[!pm], squares = -x$llyap[!pm], \n",
    "        inches = inches, add = TRUE, bg = 2)\n",
    "}"
   ]
  },
  {
   "cell_type": "markdown",
   "metadata": {},
   "source": [
    "We can study the measles NY attractor using the local Lyaponov exponents. Despite the fact that the overall attractor is chaotic, we see distinct areas of contraction associated with the collapse of epidemics and post-epidemic troughs (fig. \\[fig:nylls\\])."
   ]
  },
  {
   "cell_type": "code",
   "execution_count": null,
   "metadata": {},
   "outputs": [],
   "source": [
    "nyllyap = TSIRllyap(nylyap, m = 5)\n",
    "plot.llyap(nyllyap, inches = 0.15)"
   ]
  },
  {
   "cell_type": "markdown",
   "metadata": {},
   "source": [
    "Section \\[sec:c6est\\] provided TSIR estimates for prevaccination measles in London and showed the limit-cycle nature of the dynamics. Biweekly transmission estimates were:"
   ]
  },
  {
   "cell_type": "code",
   "execution_count": null,
   "metadata": {},
   "outputs": [],
   "source": [
    "beta = c(27.71, 43.14, 37.81, 33.69, 31.64, 32.10, 30.16, \n",
    " 24.68, 30.19, 31.53, 30.31, 26.02, 26.57, 25.68, 23.21, \n",
    " 19.21, 17.50, 20.50, 29.92, 35.85, 32.65, 28.34, 31.11, \n",
    " 29.89, 26.89, 39.38)"
   ]
  },
  {
   "cell_type": "markdown",
   "metadata": {},
   "source": [
    "Median biweekly birth rate for London was 2083. We can simulate the London attractor and associated global and local Lyapunov exponents."
   ]
  },
  {
   "cell_type": "code",
   "execution_count": null,
   "metadata": {},
   "outputs": [],
   "source": [
    "sim=SimTsir2(beta=beta, alpha=0.98, \n",
    "B=rep(2083, 5200), N=3.3E6, inits=list(Snull=133894, \n",
    "     Inull=474))\n",
    "Sattr=sim$S[5149:5200]\n",
    "Iattr=sim$I[5149:5200]\n",
    "lonlyap=TSIRlyap(I=Iattr, S=Sattr, alpha=0.98, \n",
    "     bt=beta, N=3.3E6)\n",
    "lonlyap$lyap\n",
    "lonllyap=TSIRllyap(lonlyap, m=1)"
   ]
  },
  {
   "cell_type": "markdown",
   "metadata": {},
   "source": [
    "The dominant Lyapunov exponent is negative testifying to the stability of the limit cycles. We can look in greater detail across the biennial attractor (fig. \\[fig:cXXlond\\]). Interestingly there is potential for significant divergence during the growth phase of the minor and major epidemics, however, the post-epidemic convergence is apparently strong enough to overcome this to result in a strongly dissipative cyclic attractor."
   ]
  },
  {
   "cell_type": "code",
   "execution_count": null,
   "metadata": {},
   "outputs": [],
   "source": [
    "pm=lonllyap$llyap>0\n",
    "plot(NA, xlim=c(1,52), ylim=range(Iattr), \n",
    "     xlab=\"Biweek\", ylab=\"I\", log=\"y\")\n",
    "symbols((1:52)[pm],Iattr[pm], circles=\n",
    "     lonllyap$llyap[pm], inches=.3, add=TRUE)\n",
    "symbols((1:52)[!pm],Iattr[!pm], squares=\n",
    "     -lonllyap$llyap[!pm], inches=.3, add=TRUE, bg=2)"
   ]
  },
  {
   "cell_type": "markdown",
   "metadata": {},
   "source": [
    "To visualize this effect more clearly we can plot the long-term deterministic attractor with 20 stochastic simulation (assuming demographic stochasticity only)(Fig. \\[fig:cXXlond\\]). The simulations show that despite abundant variability – particularly during the minor epidemics – the trajectories exhibits long term predictability; That is except for the rare stochastic trajectory that escapes onto the opposite-year coexisting attractor towards the end of the simulations. discuss how the area around Norwich locked on to the opposite-year coexisting attractor compared to the rest of England and Wales for about 15 years following World War II."
   ]
  },
  {
   "cell_type": "code",
   "execution_count": null,
   "metadata": {},
   "outputs": [],
   "source": [
    "sim = SimTsir2(beta = beta, alpha = 0.98, B = rep(2083, 520), \n",
    "   N = 3.3E6, inits = list(Snull = 133894, Inull = 474), \n",
    "   type = \"det\")\n",
    "plot(sqrt(sim$I), ylab = \"Sqrt(Cases)\", xlab = \"Biweek\")\n",
    "for(i in 1:20){\n",
    "   sim = SimTsir2(beta = beta, alpha = 0.98, B = rep(2083, 520), \n",
    "       N = 3.3E6, inits = list(Snull = 133894, Inull = 474),\n",
    "       type = \"stoc\")\n",
    "lines(sqrt(sim$I))}\n",
    "sim = SimTsir2(beta = beta, alpha = 0.98, B = rep(2083, 520), \n",
    "   N = 3.3E6, inits = list(Snull = 133894, Inull = 474), \n",
    "   type = \"det\")\n",
    "points(sqrt(sim$I), col = 2)"
   ]
  },
  {
   "cell_type": "markdown",
   "metadata": {},
   "source": [
    "During the first biweek of 1940, 23 cases of measles were reported in New York City. Given our estimate of the reporting rate of $22.54\\%$ in that biweek, a best guess of the incidence is 102; Correspondingly, the best guess of the number of susceptibles is $402,153$. To visualize the ‘sensitive dependence on initial conditions’ of the chaotic New York measles attractor we can forward simulate 10 years of dynamics, assuming there were either 5 more (less) infecteds (susceptibles) or 5 less (more) infecteds (susceptibles). The rapid deterministic divergence (fig. \\[fig:cXXdetsim\\]) is a stark contrast to the predictability of the London attractor (fig. \\[fig:cXXlond\\])."
   ]
  },
  {
   "cell_type": "code",
   "execution_count": null,
   "metadata": {},
   "outputs": [],
   "source": [
    "sim2 = SimTsir2(beta = exp(glmfit$coef[1:26]), alpha = 0.98, \n",
    "    B = rep(median(NY$rec), 260), N = median(N), \n",
    "    inits = list(Snull = 402153, Inull = 102))\n",
    "sim3 = SimTsir2(beta = exp(glmfit$coef[1:26]), alpha = 0.98, \n",
    "    B = rep(median(NY$rec), 260), N = median(N), \n",
    "    inits = list(Snull = 402153-5, Inull = 102+5))\n",
    "sim4 = SimTsir2(beta = exp(glmfit$coef[1:26]), alpha = 0.98, \n",
    "    B = rep(median(NY$rec), 260), N = median(N), \n",
    "    inits = list(Snull = 402153+5, Inull = 102-5))\n",
    "plot(sim2$I[1:260], type = \"l\", ylab = \"I\", \n",
    "    xlab = \"Biweek (from 1940)\")\n",
    "lines(sim3$I[1:260], col = 2)\n",
    "lines(sim4$I[1:260], col = 3)"
   ]
  },
  {
   "cell_type": "markdown",
   "metadata": {},
   "source": [
    "Coexisting attractors\n",
    "---------------------\n",
    "\n",
    "Another nonlinear complication is how seasonally-forced epidemic systems can exhibit coexisting attractors as, for example, seen in the seasonally forced SEIR model (section \\[sec:c5rec\\]). Stochastic perturbation can push dynamics between different basins of attraction leading to erratic dynamics not predicted by basic theory.\n",
    "\n",
    "One of the many puzzles about whooping cough dynamics is the apparent contradiction between historical herd immunity and historical multi-annual epidemics *versus* current circulation in adults[2]. To reconcile these seemingly mutually exclusive facets of whooping cough epidemiology, proposed an hypothesis that immunity to whooping cough wanes over time but re-exposure can boost immunity. This lead to the following SIRWS compartmental model were W is a waning class that is under the influence of two competing processes: return to the $S$ class at a rate of $2 \\omega$ or boost back to the $R$ class at a rate proportional to the force of infection: $$\\begin{aligned}\n",
    "\\frac{dS}{dt} & =& \\mu (1-p) N  - \\mu S  - \\beta S I / N + 2 \\omega W\\\\\n",
    "   \\label{eq:sirws}\n",
    "   \\frac{dI}{dt} & =& \\beta S I / N - (\\mu + \\gamma) I\\\\\n",
    "   \\frac{dR}{dt} & = &\\gamma I - (\\mu - 2 \\omega) R +  \\kappa \\beta S W / N +  \\mu p R\\\\\n",
    "   \\frac{dW}{dt} & = & 2 \\omega R - \\kappa \\beta W I / N - (2 \\omega + \\mu) W\n",
    "   \\label{eq:sirww}\\end{aligned}$$ In the absence of boosting, immunity is expected to last for a mean of $1/\\omega$ year (and distributed according to a Gamma-distribution with a shape-parameter of 2; see section \\[sec:c2adv\\]). The parameter $\\kappa$ scales how sensitive boosting is relative to infection, and $p$ is the fraction of children vaccinated at birth. A surprising finding is that in parts of the parameter space, a limit cycle coexists with a fix point attractor. We can use the forwards and backwards bifurcation algorithm of section \\[sec:c5rec\\] to look at this. We first define the gradients (using the log-trick):"
   ]
  },
  {
   "cell_type": "code",
   "execution_count": null,
   "metadata": {},
   "outputs": [],
   "source": [
    "sirwmod = function(t, logy, parms){\n",
    "  y = exp(logy)\n",
    "   S = y[1]\n",
    "   I = y[2]\n",
    "   R = y[3]\n",
    "   W = y[4]\n",
    "   with(as.list(parms),{\n",
    "   dS = mu * (1-p) * N  - mu * S  - beta * S * I / N + \n",
    "      2*omega * W\n",
    "   dI = beta * S * I / N - (mu + gamma) * I\n",
    "   dR = gamma * I - mu * R - 2*omega * R +  \n",
    "      kappa * beta * W * I / N + mu*p*N\n",
    "   dW = 2*omega * R - kappa * beta * W * I / N - \n",
    "      (2*omega +mu)* W \n",
    "   res = c(dS/S, dI/I, dR/R, dW/W)\n",
    "   list(res)\n",
    " })\n",
    " }"
   ]
  },
  {
   "cell_type": "markdown",
   "metadata": {},
   "source": [
    "We assume susceptible recruitment is reduced by vaccination and bifurcate on this parameter (fig. \\[fig:sirwsbif\\]). The bifurcation analysis reveals the coexistence of a fix-point and a cyclic attractor when vaccination is in the 20-40% range."
   ]
  },
  {
   "cell_type": "code",
   "execution_count": null,
   "metadata": {},
   "outputs": [],
   "source": [
    "require(deSolve)\n",
    "start = log(c(S = 0.06, I = 0.01, R = 0.92, W  =  0.01))\n",
    "res = matrix(NA, ncol = 100, nrow = 5000)\n",
    "p = seq(0.01, 1, length = 100)\n",
    "#Forwards \n",
    "for(i in 1:100){\n",
    "  times = seq(0, 200, by = 0.01)\n",
    "  paras  = c(mu = 1/70, p=p[i], N = 1, beta = 200, \n",
    "     omega = 1/10, gamma = 17, kappa = 30)\n",
    "  out = as.data.frame(ode(start, times, sirwmod, paras))\n",
    "  start = c(S = out[20001,2], I = out[20001,3], \n",
    "     R = out[20001,4], W = out[20001,5])\n",
    "  res[,i] = out$I[15002:20001]\n",
    "  cat(i, \"\\r\")\n",
    "}\n",
    "#Backwards\n",
    "res2 = matrix(NA, ncol = 100, nrow = 5000)\n",
    "start = c(S = -1.8, I = -5.8, R = 1.9, W = -1.9)\n",
    "for(i in 100:1){\n",
    "  paras  = c(mu = 1/70, p=p[i], N = 1, beta = 200, \n",
    "     omega = 1/10, gamma = 17, kappa = 30)\n",
    "  out = as.data.frame(ode(start, times, sirwmod, paras))\n",
    "start = c(S = out[20001,2], I = out[20001,3], \n",
    "     R = out[20001,4], W = out[20001,5])\n",
    "res2[,i] = out$I[15002:20001]\n",
    "cat(i, \"\\r\")\n",
    "}\n",
    "plot(NA, xlim = range(p), ylim = range(res), \n",
    "   ylab = \"Log(I)\", xlab = \"p\")\n",
    "for(i in 1:100) points(rep(p[i], 2), range(res[,i]))\n",
    "for(i in 1:100) points(rep(p[i], 2), \n",
    "   range(res2[,i]), col = 2)"
   ]
  },
  {
   "cell_type": "markdown",
   "metadata": {},
   "source": [
    "Figure \\[fig:sirws\\] shows trajectories towards the two attractors assuming $20\\%$ vaccination but with different initial conditions. For the given parameters the limit cycle is stable and has period of 1.8 years and the fix-point attractor is a stable focus with a damping period of 1.2 years. Using a seasonally-forced version of the SIRWS model, explored the hypothesis that the regime-shifts in prevaccination whooping cough dynamics in Copenhagen (fig. \\[fig:cXXwhoop\\]) was due to stochastic switching between a low-amplitude noisy annual attractor and a high amplitude cyclic attractor. In the end, the best evidence suggests that the major recurrent outbreaks between 1915 and 1925 was instead a ‘fly-by’ of an unstable multiannual ‘almost attractor’ ."
   ]
  },
  {
   "cell_type": "code",
   "execution_count": null,
   "metadata": {},
   "outputs": [],
   "source": [
    "paras  = c(mu = 1/70, p = 0.2, N = 1, beta = 200, \n",
    "     omega = 1/10, gamma = 17, kappa=30)\n",
    "start = c(S = -1, I = -5, R = 3.3, W = 0)\n",
    "times = seq(0, 30, by = 1/52)\n",
    "out = as.data.frame(ode(start, times, sirwmod, paras))\n",
    "plot(out$time, exp(out$I), xlab = \"Year\", \n",
    "     ylab = \"I\", type = \"l\", ylim = c(0,0.05))\n",
    "start = c(S = -1.8, I = -5.8, R = 1.9, W = -1.9)\n",
    "times = seq(0, 30, by = 1/52)\n",
    "out = as.data.frame(ode(start, times, sirwmod, paras))\n",
    "lines(out$time, exp(out$I), col = 2)"
   ]
  },
  {
   "cell_type": "markdown",
   "metadata": {},
   "source": [
    "Repellors / Unstable manifolds\n",
    "------------------------------\n",
    "\n",
    " studied a seasonally forced SEIR model (section \\[sec:c4seas\\]) of chickenpox (assuming that shedding from zoster can be ignored); They assumed a latent period and infectious period of around 10 days and sinusoidally-forced transmission with a $\\beta_0$ of 537/year, $\\beta_1 = 0.3$ and a birth rate of 0.02.\n",
    "\n",
    "The integrated ODEs predicts robust annual epidemics in the presence of seasonal forcing (fig. \\[fig:cXXchkdet\\])."
   ]
  },
  {
   "cell_type": "code",
   "execution_count": null,
   "metadata": {},
   "outputs": [],
   "source": [
    "times = seq(0, 100, by = 1/120)\n",
    "start = c(S = 0.06, E = 0, I = 0.001, R = 0.939)\n",
    "cparas  = c(mu = 0.02, N = 1, beta0 = 537, beta1 = 0.3, \n",
    "     sigma = 36, gamma = 34.3)\n",
    "out = as.data.frame(ode(start, times,seirmod2, cparas))\n",
    "plot(out$time, out$I, type = \"l\", xlab = \"Year\", ylab = \n",
    "     \"Prevalence\", xlim = c(91,100), ylim = c(0, 0.0015))"
   ]
  },
  {
   "cell_type": "markdown",
   "metadata": {},
   "source": [
    "In contrast, stochastic simulations of the model (see appendix section \\[sec:pomp\\] for detail) – assuming stochasticity in the seasonal transmission rate – exhibit dynamics with conspicuous ‘regime-shifts’; Periods with the expected somewhat variable annual outbreaks are interspersed with periods of violent multiannual cycles with a period of around 4 years (fig. \\[fig:cXXchkstoc2\\]) that is completely unrelated to the damping period of the unforced SEIR model ($\\sim 2.8$ years for these parameters). This appears to be a dynamical phenomenon different to what we have studied previously.\n",
    "\n",
    "For the stochastic simulations we build a pomp object using the ‘C-snippets’ detailed in the appendix \\[sec:pomp\\]. The `dat`-data object defines the times for the stochastic simulation. We are not working with data so the `reports` column is just a dummy."
   ]
  },
  {
   "cell_type": "code",
   "execution_count": null,
   "metadata": {},
   "outputs": [],
   "source": [
    "dat = data.frame(time = seq(0, 500, by = 1/52), reports = NA) \n",
    "seirp = pomp(dat, times = \"time\",t0 = 0,\n",
    "    rprocess = euler.sim(Csnippet(rproc),delta.t = 1/52/20),\n",
    "    skeleton = vectorfield(Csnippet(skel)),\n",
    "    rmeasure = Csnippet(robs),\n",
    "    dmeasure = Csnippet(dobs),\n",
    "    initializer = Csnippet(rinit),\n",
    "    params = c(iota = 0,beta0 = 537,beta1 = 0.3,sigma = 36,\n",
    "         gamma = 34.3,alpha = 0.015,rho = 0.6,theta = 1,\n",
    "         b = 0.02,mu = 0.02,pop0 = 5e8,\n",
    "         S0 = 0.06,E0 = 0,I0 = 0.001,R0 = 0.939),\n",
    "         paramnames = c(\"iota\",\"beta0\",\"beta1\",\"gamma\",\n",
    "         \"sigma\",\"alpha\",\"rho\",\"theta\", \"b\",\"mu\",\"pop0\",\n",
    "         \"S0\",\"E0\",\"I0\",\"R0\"),\n",
    "    statenames = c(\"S\",\"E\",\"I\",\"R\",\"inc\",\"pop\"),\n",
    "    zeronames = \"inc\")"
   ]
  },
  {
   "cell_type": "markdown",
   "metadata": {},
   "source": [
    "We simulate deterministic and stochastic trajectories to produce figure \\[fig:cXXchkdet\\] and \\[fig:cXXchkstoc2\\]."
   ]
  },
  {
   "cell_type": "code",
   "execution_count": null,
   "metadata": {},
   "outputs": [],
   "source": [
    "detsim = trajectory(seirp, as.data.frame = TRUE)\n",
    "plot(detsim$time, detsim$I/5E8, type = \"l\", \n",
    "     xlim = c(101, 110), xlab = \"year\", ylab = \"prevalence\")"
   ]
  },
  {
   "cell_type": "markdown",
   "metadata": {},
   "source": [
    "The annual stoboscopic section of the deterministic and stochastic simulation is shown in figure \\[fig:cXXchkstoc2\\]:"
   ]
  },
  {
   "cell_type": "code",
   "execution_count": null,
   "metadata": {},
   "outputs": [],
   "source": [
    "par(mfrow = c(1,2))\n",
    "stocsim = simulate(seirp, seed = 3495135, \n",
    "     as.data.frame = TRUE, nsim = 1)\n",
    "plot(stocsim$time, stocsim$I/5E8, type = \"l\", xlim = c(150, \n",
    "     250), xlab = \"Year\", ylab = \"Prevalence\")\n",
    "sel = seq(105, length(stocsim$I), by = 52)\n",
    "plot(stocsim$S[sel]/5E8, stocsim$I[sel]/5E8, \n",
    "     log = \"xy\", xlab = \"S\", ylab = \"I\")\n",
    "sel2 = sel[401:500]\n",
    "points(detsim$S[sel2]/5E8, detsim$I[sel2]/5E8, col = 2, \n",
    "     pch = 21, bg = 2)"
   ]
  },
  {
   "cell_type": "markdown",
   "metadata": {},
   "source": [
    "studied the apparent similarity of the stochastic trajectory in the S-I phase plane (fig. \\[fig:cXXchkstoc2\\]) to the quasiperiodic chaotic attractor of the parametrically-nearby model of section \\[sec:c4bif\\] (fig. \\[fig:c4poincr\\]). They stipulated that the stochastic dynamics of the deterministically annual system is intermittently governed by the weakly unstable ‘ghost’ of the nearby 4-year quasi-periodic chaotic attractor. To study this further we turn to the notion of ‘invasion orbits’.\n",
    "\n",
    "Invasion orbits\n",
    "---------------\n",
    "\n",
    "Studying highly nonlinear, stochastic dynamical systems is complicated by the intermingling of two different sources of dynamic variability: the variability due to deterministic instability and the variability due to stochastic forcing . In order to elucidate this complexity, we may think of the stochastic forcing as a perturbation to the nonlinear system which laws subsequently will attempt to return the system to the deterministic attractor. In section \\[sec:c4seas\\], we discussed how to study the long-term asymptotic behavior of the seasonally-forced SEIR system through numeric integration from arbitrary initial conditions and discarding the initial transient dynamics. ‘Invasion orbits’ is the flip-side of this; Systematically distribute initial conditions across the phase plane and numerically integrate the transients to describe the trajectories toward the deterministic attractor. For ‘linear systems’ or approximately linear systems – in the dynamical systems sense – the invasion orbits will be monotonic trajectories towards a stable node and smooth spirals towards a stable focus (see fig. \\[fig:siplane\\]); The period of the inward spiral will be determined by the dampening period of the focus as discussed in chapter \\[chap:c10\\]. For highly nonlinear systems, in contrast, the approach towards the attractor may not be smooth. We can illustrate this using chickenpox SEIR model. We first have to set up a systematic grid of initial conditions:"
   ]
  },
  {
   "cell_type": "code",
   "execution_count": null,
   "metadata": {},
   "outputs": [],
   "source": [
    "starts = expand.grid(S = seq(0.02, 0.1, length = 10), \n",
    "     E = seq(1E-8, 0.0125, length = 10), \n",
    "     I = seq(1E-8, 0.005, length = 10))\n",
    "starts$R = 1-apply(starts,1,sum)"
   ]
  },
  {
   "cell_type": "markdown",
   "metadata": {},
   "source": [
    "For each of these 1000 initial conditions we will simulate the system for 100 years and then store the annual pointcare section in the S-I plane. suggested this be done after discarding a short burn-in period (we use 5 years):"
   ]
  },
  {
   "cell_type": "code",
   "execution_count": null,
   "metadata": {},
   "outputs": [],
   "source": [
    "#times for integration\n",
    "itimes  = seq(0, 100, by = 1/52)\n",
    "#points for stroboscopic section\n",
    "isel = seq(1, length(itimes), by = 52)\n",
    "#list to fill with results\n",
    "cporbs = list(S = matrix(NA, ncol = dim(starts)[1], \n",
    "     nrow = length(isel)), I = matrix(NA, \n",
    "     ncol = dim(starts)[1], nrow = length(isel)))"
   ]
  },
  {
   "cell_type": "markdown",
   "metadata": {},
   "source": [
    "We now integrate to obtain the 1000 invasion orbits:"
   ]
  },
  {
   "cell_type": "code",
   "execution_count": null,
   "metadata": {},
   "outputs": [],
   "source": [
    "for (i in 1:dim(starts)[1]){\n",
    "   out2b = as.data.frame(ode(as.numeric(starts[i,]), \n",
    "      itimes, seirmod2, cparas))\n",
    "   cporbs$S[,i] = out2b[,2][isel]\n",
    "   cporbs$I[,i] = out2b[,4][isel]\n",
    "}"
   ]
  },
  {
   "cell_type": "markdown",
   "metadata": {},
   "source": [
    "We can finally plot the stroboscopic section of the invasion orbits in the S-I phase plane with the deterministic attractor superimposed (fig \\[fig:cXXpointcare\\]) to reveal that the stochastic simulation is largely governed by the unstable highly nonlinear structure in the phase plane dubbed variously a ‘repellor’, a ‘chaotic saddle’ or an ‘unstable manifold’. also referred to it as an ‘almost attractor’."
   ]
  },
  {
   "cell_type": "code",
   "execution_count": null,
   "metadata": {},
   "outputs": [],
   "source": [
    "#Invasion orbits\n",
    "plot(as.vector(cporbs$S[-c(1:5),]), \n",
    "   as.vector(cporbs$I[-c(1:5),]), pch=20, cex=0.25, \n",
    "   log=\"xy\", ylab=\"I\", xlab=\"S\")\n",
    "#Stochastic simulation\n",
    "sel=seq(105, length(stocsim$I), by=52)\n",
    "points(stocsim$S[sel]/5E8, stocsim$I[sel]/5E8, col=2)\n",
    "#Deterministic attractor\n",
    "times  = seq(0, 1000, by=1/120)\n",
    "start = c(S=0.06, E=0, I=0.001, R = 0.939)\n",
    "out = as.data.frame(ode(start, times, seirmod2, cparas))\n",
    "sel=seq(120*100, length(times), by=120)\n",
    "points(out$S[sel], out$I[sel], pch=21, col=\"white\", \n",
    "     bg=\"white\")"
   ]
  },
  {
   "cell_type": "markdown",
   "metadata": {},
   "source": [
    "discussed how the multiannual cycles in whooping cough following vaccination may be explained as the dynamics chasing a periodic saddle (a periodic ‘almost attractor’).\n",
    "\n",
    "Stochastic resonance\n",
    "--------------------\n",
    "\n",
    "Whooping cough in pre-vaccination Copenhagen generally exhibited low amplitude ‘fuzzy’ epidemics, with the exception of a 10 year period of violent epidemics starting around 1915 (fig. \\[fig:cXXwhoop\\]). We use wavelet analysis with the ‘crazy climber’ ridge finding algorithm to characterize the transitions in dynamics."
   ]
  },
  {
   "cell_type": "code",
   "execution_count": null,
   "metadata": {},
   "outputs": [],
   "source": [
    "data(pertcop)\n",
    "require(Rwave)\n",
    "#Wavelet decompostion\n",
    "no = 8\n",
    "nv = 16\n",
    "a = 2^seq(1, no+1-1/nv, by = 1/nv)\n",
    "wfit = cwt(sqrt(pertcop$cases), no, nv, plot = FALSE)\n",
    "wspec  =  Mod(wfit)\n",
    "#Crazy climber\n",
    "crcinc<-crc(wspec, nbclimb = 10, bstep = 100)\n",
    "fcrcinc<-cfamily(crcinc, ptile = 0.5, nbchain = 1000, \n",
    "     bstep = 10)"
   ]
  },
  {
   "cell_type": "markdown",
   "metadata": {},
   "source": [
    "used the ratio of variation in the multiannual *versus* high-frequency part of the wavelet spectrum as a simple measure of the time varying ‘signal-to-noise’ (SNR) ratio in the whooping cough dynamics:"
   ]
  },
  {
   "cell_type": "code",
   "execution_count": null,
   "metadata": {},
   "outputs": [],
   "source": [
    "sigind = which((a/52)>3 & (a/52)<4)\n",
    "noiseind = which((a/52)<0.5)\n",
    "snr = apply(wspec[, sigind], 1, \n",
    "     sum)/apply(wspec[, noiseind], 1, sum)"
   ]
  },
  {
   "cell_type": "markdown",
   "metadata": {},
   "source": [
    "We can finally make a composite plot of incidence, wavelet spectrum and signal-to-noise ratio (fig. \\[fig:cXXwhoop\\]) to highlight how the major epidemics are much less ‘noisy’ than the low amplitude cycles. fit a seasonally-forced SIRWS (eq. \\[eq:sirws\\]) model to the data and concluded that the curious run of violent epidemics of whooping cough appeared to trace out an unstable multiannual ‘almost attractor’."
   ]
  },
  {
   "cell_type": "code",
   "execution_count": null,
   "metadata": {},
   "outputs": [],
   "source": [
    "par(mfrow = c(3,1), mar = c(0,4,2,1))\n",
    "layout(matrix(c(1,1,2,2,2,3), ncol = 1))\n",
    "#Top panel\n",
    "plot(as.Date(pertcop$date), pertcop$cases, xlab = \"\",\n",
    "   ylab = \"Sqrt(cases)\", type = \"l\", bty = 'l', \n",
    "   xlim = c(as.Date(\"1901-01-01\"), \n",
    "   as.Date(\"1938-01-01\")), xaxt='n', yaxt='n')\n",
    "axis(2, at = seq(0,200,by = 100), labels = FALSE)\n",
    "axis(2, at = seq(50,250,by = 100), labels = TRUE)\n",
    "#Mid panel\n",
    "par(mar = c(0,4,0.25,1))\n",
    "image(x = as.Date(pertcop$date, origin = \"1900-01-07\"), \n",
    "  wspec, col = gray((30:10)/32), y = a/52, ylim = c(0,5), \n",
    "  ylab = \"Period (year)\", main = \"\", xaxt = \"n\", yaxt = \"n\")\n",
    "contour(x = as.Date(pertcop$date, origin = \"1900-01-07\"), \n",
    "   wspec, y = a/52, ylim = c(0,5), \n",
    "   zlim = c(quantile(wspec)[4], max(wspec)), add = TRUE)\n",
    "axis(2, at = 0:4) \n",
    "ridges<-fcrcinc[[1]]\n",
    "ridges[which(ridges<1.5*10^-5)]<-NA\n",
    "image(x = as.Date(pertcop$date, origin = \"1900-01-07\"), \n",
    "   y = a/52, z = ridges, add = TRUE, col = \"black\")\n",
    "#Bottom panel\n",
    "par(mar = c(3,4,0.25,1), tcl = -0.4)\n",
    "plot(x = as.Date(pertcop$date, origin = \"1900-01-07\"), snr, \n",
    "   type = \"l\", bty = \"l\",xaxt = \"n\", yaxt = \"n\", ylab = \"SNR\")\n",
    "axis.Date(1, at = seq(as.Date(\"1900-01-01\"), \n",
    "  as.Date(\"1938-01-01\"), \"years\")) "
   ]
  },
  {
   "cell_type": "markdown",
   "metadata": {},
   "source": [
    "In addition to highlighting the potential influence of unstable manifolds in disease dynamics, pre-vaccination Copenhagen whooping cough hints at another *exotic* feature of certain nonlinear dynamical systems: increased stochasticity can sometimes *increase* predictability through a process of ‘stochastic resonance’ . We can illustrate this phenomenon with the seasonally-forced stochastic SEIR model introduced in section \\[sec:c10rep\\]. The pomp `C-snippets` are detailed in section \\[sec:pomp\\]. We simulate 500 years of weekly data across a range of 126 transmisssion variances between 0 and 0.025 (given by the `alpha`-vector). The stochastic dynamics is prone to extinction so, for each parameter set, we change the pseudorandom `seed` until a 500-year persistent time series is produced (using the `while`-loop):"
   ]
  },
  {
   "cell_type": "code",
   "execution_count": null,
   "metadata": {},
   "outputs": [],
   "source": [
    "dat = data.frame(time = seq(0, 500, by = 1/52), reports = NA) \n",
    "sds = rep(NA, 126)\n",
    "alpha = seq(0,0.025, by = 0.0002)\n",
    "Smat = Imat = matrix(NA, nrow = 26001, ncol = 126)\n",
    "for(i in 1:126){\n",
    "  seirp = pomp(dat, times = \"time\", t0 = 0,\n",
    "    rprocess = euler.sim(Csnippet(rproc), delta.t = 1/52/20),\n",
    "    skeleton = vectorfield(Csnippet(skel)),\n",
    "    rmeasure = Csnippet(robs),\n",
    "    dmeasure = Csnippet(dobs),\n",
    "    initializer = Csnippet(rinit),\n",
    "    params = c(iota = 0, beta0 = 537, beta1 = 0.3, sigma = 36,\n",
    "       gamma = 34.3, alpha = alpha[i], rho = 0.6, theta = 1,\n",
    "       b = 0.02, mu = 0.02, pop0 = 5e8,\n",
    "       S0 = 0.06, E0 = 0, I0 = 0.001, R0 = 0.939),\n",
    "       paramnames = c(\"iota\", \"beta0\", \"beta1\", \"gamma\",\n",
    "       \"sigma\", \"alpha\", \"rho\", \"theta\", \"b\", \"mu\", \"pop0\",\n",
    "       \"S0\", \"E0\" ,\"I0\", \"R0\"),\n",
    "    statenames = c(\"S\",\"E\",\"I\",\"R\",\"inc\",\"pop\"),\n",
    "    zeronames = \"inc\"\n",
    "    )\n",
    "  stocsim$I[26001] = 0\n",
    "  j = -1\n",
    "  while(stocsim$I[26001]==0){\n",
    "  j = j+1\n",
    "  stocsim = simulate(seirp, seed = 3495131+j, \n",
    "       as.data.frame = TRUE, nsim = 1)\n",
    "  sds[i] = 3495131+j\n",
    "  }\n",
    "  Imat[,i] = stocsim$I\n",
    "  Smat[,i] = stocsim$S\n",
    "}"
   ]
  },
  {
   "cell_type": "markdown",
   "metadata": {},
   "source": [
    "To study *stochastic resonance* we simulate the model across a range of stochastic variability in the transmission rate. We use wavelet analysis to quantify ‘predictability’ as a function of stochasticity (fig \\[fig:cXXstocres\\])."
   ]
  },
  {
   "cell_type": "code",
   "execution_count": null,
   "metadata": {},
   "outputs": [],
   "source": [
    "predn = rep(NA, 126)\n",
    "#Set the number of \"octaves\" and \"voices\"\n",
    "no = 8; nv = 10\n",
    "#then calculate the corresponding periods\n",
    "a = 2^seq(1,no+1-1/nv, by = 1/nv)\n",
    "sel2 =  a> = 39 & a <260 #Multiannual signal\n",
    "sel = a<39 #High frequency noise\n",
    "for(i in 1:126){\n",
    "     wfit = cwt(sqrt(Imat[,i]), no, nv, plot = FALSE)\n",
    "     wspec = Mod(wfit)\n",
    "     predn[i] = sum(wspec[,sel2])/sum(wspec[sel])\n",
    "}\n",
    "plot(alpha, predn, xlab = \"Noise variance\", \n",
    "     ylab = \"'Predictability'\")"
   ]
  },
  {
   "cell_type": "markdown",
   "metadata": {},
   "source": [
    "The wavelet ‘signal-to-noise’-ratio indicates the curious phenomenon that ‘predictability’ increases with noise up to a point then decays (fig. \\[fig:cXXstocres\\]). The effect comes about because with low noise variance, the system rarely interacts with the high-amplitude quasi-periodic ‘almost attractor’ and at high noise variance the stochasticity breaks the epidemiological clockwork. Stochasticity can push a dynamical system towards an ‘almost stable’ multiannual cycle, as argued was the case of pre-vaccination whooping cough in Copenhagen. Stochasticity may also push dynamics towards an ‘almost stable’ fix-point, for which the perhaps clearest ecological illustration is provided by laboratory colonies of cyclic populations of the flour beetle *Tribolium castaneum* ; or an ‘almost stable’ chaotic manifold, as is the case of the seasonally-forced chicken-pox model of . The latter phenomenon led to an interesting discussion of the meaning of ‘noise-induced chaos’ .\n",
    "\n",
    "Predictability: Empirical dynamic modelling\n",
    "-------------------------------------------\n",
    "\n",
    "The ‘predictability’ measure used in the previous section is not truly a measure of the level of determinism of the dynamics. Various researchers have proposed to use some form of nonparametric autoregression – sometimes called ‘nonlinear forecasting’ and recently ‘empirical dynamic modeling’ – in combination with leave-one-out cross-validation to quantify predictability in empirical time series. These approaches have used nearest-neighbor methods , kernel regression and local polynomials . The `ntls`-package has implementations of the local polynomial approaches proposed by Tong and co-workers building on the `locfit`-package . The function `ll.order` calculates the cross-validation error across a range of kernel bandwidths and autoregressive lags [3].\n",
    "\n",
    "We consider the chickenpox SEIR model across a range of stochasticities in transmission and use `ll.order` to calculate the cross-validation predictability of annually strobed versions of the weekly simulations (discarding the first 10 years)."
   ]
  },
  {
   "cell_type": "code",
   "execution_count": null,
   "metadata": {},
   "outputs": [],
   "source": [
    "require(nlts)\n",
    "llcv=rep(NA,126)\n",
    "for(i in 1:126){\n",
    "llfit=ll.order(sqrt(Imat[seq(521,26001, by=52),i]), \n",
    "   step=1, order=1:5, bandwidt = seq(0.5, 1.5, \n",
    "   by = 0.5), cv=FALSE) \n",
    "llcv[i]=min(llfit$grid$GCV)\n",
    "}\n",
    "plot(llcv~alpha, ylab=\"GCV\", xlab=\"Noise variance\")"
   ]
  },
  {
   "cell_type": "markdown",
   "metadata": {},
   "source": [
    "The action of stochastic resonance due to the ‘almost attractor’ is readily visible, as the (generalized) cross-validation error is lowest for intermediate noise variances (fig. \\[fig:cXXgcv\\]).\n",
    "\n",
    "In an early application to epidemiology, proposed to use nonparametric prediction-error as a function of prediction lag to distinguish deterministic chaos from noisy limit cycles in measles epidemics. Nonparametric autoregression is a completely ‘mechanism-free’ model for the disease dynamics. We can use the `ll.edm`-function to check that the method produces dynamics that are in rough correspondence to the empirical patterns. Let’s consider a 10 year segment of the 10th weekly simulation. We use order (embedding dimension) 3, because this is indicated as best fit based on the order-consistent estimator (`ll.order`). The resultant empirical dynamic model has roughly appropriate dynamics, though the period is slightly too short (fig. \\[fig:cXXedm\\])"
   ]
  },
  {
   "cell_type": "code",
   "execution_count": null,
   "metadata": {},
   "outputs": [],
   "source": [
    "x=sqrt(Imat[seq(521,1040, by=1),10])\n",
    "sim=ll.edm(x=x, order=3, bandwidth=0.8)\n",
    "plot(x, type=\"b\", ylab=\"Prevalence\", xlab=\"Week\")\n",
    "lines(sim, col=2)\n",
    "legend(\"topright\", legend=c(\"Simulation\", \"EDM\"),\n",
    "   lty=c(1,1), pch=c(1, NA), col=c(\"black\", \"red\"))"
   ]
  },
  {
   "cell_type": "markdown",
   "metadata": {},
   "source": [
    "Appendix: Making a pomp-simulator\n",
    "---------------------------------\n",
    "\n",
    "Doing the computations involved in sections \\[sec:c10rep\\] and \\[sec:c10stocres\\] are computationally expensive. The `pomp`-package includes a `Csnippet`-function that will compile C code on the fly to speed up calculations. The following provides the C code used in the simulations of the stochastic SEIR model."
   ]
  },
  {
   "cell_type": "code",
   "execution_count": null,
   "metadata": {},
   "outputs": [],
   "source": [
    "require(pomp)"
   ]
  },
  {
   "cell_type": "markdown",
   "metadata": {},
   "source": [
    "We first define the Csnippet for the deterministic skeleton of the unobserved process:"
   ]
  },
  {
   "cell_type": "code",
   "execution_count": null,
   "metadata": {},
   "outputs": [],
   "source": [
    "\"\n",
    "double rate[8];  // transition rates\n",
    "double trans[8];  // transition numbers\n",
    "double beta=beta0*(1+beta1*cos(2*M_PI*t));//transmission\n",
    "double lambda = (iota+I*beta)/pop; // FoI \\index{Force of infection}\n",
    "\n",
    "// transition rates\n",
    "rate[0] = b*pop;     // birth of S\n",
    "rate[1] = lambda; // infection of S\n",
    "rate[2] = mu; // death of S\n",
    "rate[3] = sigma; // latent period of E\n",
    "rate[4] = mu;  // death of E\n",
    "rate[5] = gamma;  // recovery of I\n",
    "rate[6] = mu;  // death of I\n",
    "rate[7] = mu;      // death of R\n",
    "\n",
    "// compute the transition numbers\n",
    "trans[0] = rate[0];\n",
    "trans[1] = rate[1]*S;\n",
    "trans[2] = rate[2]*S;\n",
    "trans[3] = rate[3]*E;\n",
    "trans[4] = rate[4]*E;\n",
    "trans[5] = rate[5]*I;\n",
    "trans[6] = rate[6]*I;\n",
    "trans[7] = rate[7]*R;\n",
    "\n",
    "// balance the equations\n",
    "DS = trans[0] - trans[1] - trans[2];\n",
    "DE = trans[1] - trans[3] - trans[4];\n",
    "DI = trans[3] - trans[5] - trans[6];\n",
    "DR = trans[5] - trans[7];\n",
    "Dinc = trans[5];  // cumulative recovery\n",
    "Dpop = trans[0]-trans[2]-trans[4]-trans[6]-trans[7];\n",
    "\" \\hlkwb{->} \\hlstd{skel}"
   ]
  },
  {
   "cell_type": "markdown",
   "metadata": {},
   "source": [
    "Then the Csnippet for the stochastic simulator"
   ]
  },
  {
   "cell_type": "code",
   "execution_count": null,
   "metadata": {},
   "outputs": [],
   "source": [
    "\"\n",
    "double rate[8];     // transition rates\n",
    "double trans[8];    // transition numbers\n",
    "\n",
    "double beta=beta0*(1+beta1*cos(2*M_PI*t));//transmission\n",
    "double dW = rgammawn(alpha,dt);  // white noise\n",
    "double lambda = (iota+I*beta*dW/dt)/pop; \n",
    "\n",
    "// transition rates\n",
    "rate[0] = b*pop;     // birth of S\n",
    "rate[1] = lambda;     // infection of S\n",
    "rate[2] = mu;            // death of S\n",
    "rate[3] = sigma;       //  latent period of E\n",
    "rate[4] = mu;          // death of E\n",
    "rate[5] = gamma;     // recovery of I\n",
    "rate[6] = mu;         // death of I\n",
    "rate[7] = mu;      // death of R\n",
    "\n",
    "// compute the transition numbers\n",
    "trans[0] = rpois(rate[0]*dt);   // births are Poisson\n",
    "reulermultinom(2, S, &rate[1], dt, &trans[1]);\n",
    "reulermultinom(2, E, &rate[3], dt, &trans[3]);\n",
    "reulermultinom(2, I, &rate[5], dt, &trans[5]);\n",
    "reulermultinom(1, R, &rate[7], dt, &trans[7]);\n",
    "\n",
    "// balance the equations\n",
    "S += trans[0] - trans[1] - trans[2];\n",
    "E += trans[1] - trans[3] - trans[4];\n",
    "I += trans[3] - trans[5] - trans[6];\n",
    "R += trans[5] - trans[7];\n",
    "inc += trans[5];  // cumulative recovery\n",
    "pop = S + E + I + R;\n",
    "\" \\hlkwb{->} \\hlstd{rproc}"
   ]
  },
  {
   "cell_type": "markdown",
   "metadata": {},
   "source": [
    "`pomp` wants Csnippets for the observational process also (even if we only use the object for simulation)."
   ]
  },
  {
   "cell_type": "code",
   "execution_count": null,
   "metadata": {},
   "outputs": [],
   "source": [
    "\\hlcom{## Observation model simulator (negative binomial)}\n",
    "\"\n",
    "double mean = rho*inc;\n",
    "double size = 1/theta;\n",
    "reports = rnbinom_mu(size,mean);\n",
    "\" \\hlkwb{->} \\hlstd{robs}\n",
    "\n",
    "\\hlcom{## Observation model likelihood (negative binomial)}\n",
    "\"\n",
    "double mean = rho*inc;\n",
    "double size = 1/theta;\n",
    "lik = dnbinom_mu(reports,size,mean,give_log);\n",
    "\" \\hlkwb{->} \\hlstd{dobs}"
   ]
  },
  {
   "cell_type": "markdown",
   "metadata": {},
   "source": [
    "We need initial conditions"
   ]
  },
  {
   "cell_type": "code",
   "execution_count": null,
   "metadata": {},
   "outputs": [],
   "source": [
    "\"\n",
    "S = nearbyint(pop0*S0);\n",
    "E = nearbyint(pop0*E0);\n",
    "I = nearbyint(pop0*I0);\n",
    "R = nearbyint(pop0*R0);\n",
    "pop = S+E+I+R;\n",
    " inc = 0;\n",
    "\" \\hlkwb{->} \\hlstd{rinit}"
   ]
  },
  {
   "cell_type": "markdown",
   "metadata": {},
   "source": [
    "Finally we can build the pomp object. The `dat`-data object defines the times for the stochastic simulation. We are not working with data so the `reports` column is just a dummy."
   ]
  },
  {
   "cell_type": "code",
   "execution_count": null,
   "metadata": {},
   "outputs": [],
   "source": [
    "dat=data.frame(time=seq(0, 500, by=1/52), reports=NA) \n",
    "seirp=pomp(dat, times=\"time\",t0=0,\n",
    "  rprocess=euler.sim(Csnippet(rproc),delta.t=1/52/20),\n",
    "  skeleton=vectorfield(Csnippet(skel)),\n",
    "  rmeasure=Csnippet(robs),\n",
    "  dmeasure=Csnippet(dobs),\n",
    "  initializer=Csnippet(rinit),\n",
    "  params=c(iota=0,beta0=537,beta1=0.3,sigma=36,\n",
    "      gamma=34.3,alpha=0.015,rho=0.6,theta=1,\n",
    "       b=0.02,mu=0.02,pop0=5e8,\n",
    "      S0=0.06,E0=0,I0=0.001,R0=0.939),\n",
    "  paramnames=c(\"iota\",\"beta0\",\"beta1\",\"gamma\",\"sigma\",\n",
    "      \"alpha\",\"rho\",\"theta\", \"b\",\"mu\",\"pop0\",\n",
    "      \"S0\",\"E0\",\"I0\",\"R0\"),\n",
    "  statenames=c(\"S\",\"E\",\"I\",\"R\",\"inc\",\"pop\"),\n",
    "  zeronames=\"inc\")"
   ]
  },
  {
   "cell_type": "markdown",
   "metadata": {},
   "source": [
    "The `pomp`-package has numerous functions to simulate deterministic and stochastic trajectories from `pomp`-objects.\n",
    "\n",
    "[1] Interestingly paraphrases Henri Poincaré as defining *chance* as sensitive dependence on *unknown* initial conditions as far back as 1908.\n",
    "\n",
    "[2] Modeling chicken pox, a herpes virus that can reactivate in older individuals in the form of zoster, showed that a the SEIR model can not sustain multiannual (or chaotic) childhood dynamics in the presence of ‘immigration’ of the virus from an adult carrier group.\n",
    "\n",
    "[3] The method was originally proposed as a nonparametric method to estimate the ‘order’ of a time series ."
   ]
  }
 ],
 "metadata": {},
 "nbformat": 4,
 "nbformat_minor": 2
}
