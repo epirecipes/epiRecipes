{
 "cells": [
  {
   "cell_type": "markdown",
   "metadata": {},
   "source": [
    "-   [Parasitoids](#chap:c9)\n",
    "    -   [Parasitoid-host dynamics](#parasitoid-host-dynamics)\n",
    "    -   [Stability and resonant periodicity](#stability-and-resonant-periodicity)\n",
    "    -   [Biological control](#biological-control)\n",
    "    -   [Larch bud moth](#larch-bud-moth)\n",
    "    -   [Host-parasitoid metapopulation dynamics](#host-parasitoid-metapopulation-dynamics)\n",
    "    -   [ShinyApp](#shinyapp)\n",
    "\n",
    "Parasitoids\n",
    "===========\n",
    "\n",
    "Parasitoid-host dynamics\n",
    "------------------------\n",
    "\n",
    "Many of the classic studies of the spatio-temporal dynamics of natural enemies and their hosts consider parasitoid-host interactions. Parasitoids represents a fascinating group of insect ‘infections’. Adults are free-living and lay their eggs in larvae (or eggs) of host insects. Hosts die when the parasitoid(s) complete their development and adults emerge from the infected hosts. From a dynamical systems point of view parasitoid-host interactions share many features of infectious disease dynamics. It is therefore instructive to cap our discussion of spatiotemporal dynamics with a discussion of this ecological interaction.\n",
    "\n",
    " conducted a cage experiment involving greenhouse white flies (*Trialeurodes vaporariorum*) and its parasitoid *Encarsia formosa*. The population was followed for 21 generations (fig. \\[fig:burnett\\]). The two populations oscillated in increasingly violent cycles until the parasitoid went extinct."
   ]
  },
  {
   "cell_type": "code",
   "execution_count": null,
   "metadata": {},
   "outputs": [],
   "source": [
    "data(burnett)\n",
    "plot(burnett$Generation, \n",
    "   burnett$NumberofHostsParasitized, type=\"b\", \n",
    "   ylab=\"Numbers\", xlab=\"Generation\")\n",
    "lines(burnett$Generation, \n",
    "   burnett$NumberofHostsUnparasitized, type=\"b\", \n",
    "   col=2, pch=2)\n",
    "legend(\"topleft\", legend=c(\"Parasitoid\", \"Host\"), \n",
    "   lty=c(1,1), pch=c(1,2), col=c(1,2))"
   ]
  },
  {
   "cell_type": "markdown",
   "metadata": {},
   "source": [
    "developed the first mathematical model for this interaction. Assuming random search (with a searching efficiency $a$) by the parasitoids, the probability of escaping parasitation is $\\exp(-a P_t)$ and the number of host, $H$, and parasitoids, $P$, in the next generation is: $$\\begin{aligned}\n",
    "&H_{t+1} & = R H_t \\exp(-a P_t)\\\\\n",
    "&P_{t+1} & = R H_t (1-\\exp(-a P_t)),\\end{aligned}$$ where $R$ is the average number of offspring per hosts. An function for the host-parasitoid dynamics is:"
   ]
  },
  {
   "cell_type": "code",
   "execution_count": null,
   "metadata": {},
   "outputs": [],
   "source": [
    "NB = function(R, a, T = 100, H0 = 10, P0 = 1){\n",
    "   #T is length of simulation (number of time-steps)\n",
    "   #H0 and P0 are initial numbers\n",
    "   H=rep(NA, T) #Host series\n",
    "   P=rep(NA, T) #Parasitoid series\n",
    "   H[1] = H0 #Initiating the host series\n",
    "   P[1] = P0 #Initiating the parasitoid series\n",
    "\n",
    "   for(t in 2:T){\n",
    "     H[t] = R * H[t-1] * exp(- a * P[t-1])\n",
    "     P[t] = R * H[t-1] * (1-exp(- a * P[t-1]))\n",
    "   } \n",
    "\n",
    "   res= list(H = H, P = P) \n",
    "   return(res)\n",
    "} "
   ]
  },
  {
   "cell_type": "markdown",
   "metadata": {},
   "source": [
    "The Nicholson-Bailey models shows that with density-independent growth of the host (in the absence of parasitism) and random search by the parasitoid, predicts cycles with ever-increasing amplitude until the host and/or parasitoid goes extinct as seen in experiment. Let’s assume a host growth rate $R$ of 1.1 and a parasitoid searching efficiency $a$ of 0.1. We use the `NB()`-function to simulate the Nicholson-Bailey model and plot host/parasitoid abundance against time, and host-parasitoids in the phase plane (fig. \\[fig:nb\\])"
   ]
  },
  {
   "cell_type": "code",
   "execution_count": null,
   "metadata": {},
   "outputs": [],
   "source": [
    "sim = NB(R = 1.1, a = 0.1)\n",
    "time = 1:100\n",
    "par(mfrow=c(1,2))\n",
    "plot(time, sim$H, type =  \"l\", xlab  =  \"Generations\", \n",
    "     ylab  =  \"Host abundance\", ylim = c(0,14))\n",
    "points(time, sim$P, type = \"l\", col = \"red\")\n",
    "plot(sim$H,sim$P, type = \"l\", xlab = \"Host abundance\", \n",
    "     ylab = \"Parasitoid abundance\")"
   ]
  },
  {
   "cell_type": "markdown",
   "metadata": {},
   "source": [
    "We can assume a sequence of searching efficiencies between 0 and 1 to explore how the time to extinction of the parasitoid depend on the searching efficiency. We make use of the functions `which` and `min` to store the time to extinction. Persistence time is greatest at intermediate search efficiency (fig. \\[fig:tte\\])."
   ]
  },
  {
   "cell_type": "code",
   "execution_count": null,
   "metadata": {},
   "outputs": [],
   "source": [
    "aVals = seq(0,1,by = 0.01)\n",
    "tte = rep(NA,length(aVals))\n",
    "for (i in c(1:length(aVals))){\n",
    "     sim =  NB(R = 1.1, a = aVals[i], T = 500)\n",
    "     tte[i] = min(which(sim$P==0))\n",
    "     }\n",
    "plot(aVals,tte,type = \"b\", ylab=\"TTE\", \n",
    "     xlab=\"Search efficiency\")"
   ]
  },
  {
   "cell_type": "markdown",
   "metadata": {},
   "source": [
    "suggested that $R=2$ and $a=0.067$ was appropriate values for this system. Let’s check if we agree by minimizing sum-of-square-errors between observed and predicted abundances. We estimate $R$ and $a$ on a log-scale to make sure they are strictly positive quantities."
   ]
  },
  {
   "cell_type": "code",
   "execution_count": null,
   "metadata": {},
   "outputs": [],
   "source": [
    "ssfn=function(par){\n",
    "  R=exp(par[1])\n",
    "  a=exp(par[2])\n",
    "  sim=NB(R,a, T=22, H0=10.1, P0=11.9)\n",
    "  ss=sum((burnett$NumberofHostsUnparasitized-sim$H)^2+\n",
    "      (burnett$NumberofHostsParasitized-sim$P)^2)\n",
    " return(ss)\n",
    " }\n",
    "par=log(c(2, 0.05)) \n",
    "fit=optim(par, ssfn)\n",
    "exp(fit$par)"
   ]
  },
  {
   "cell_type": "markdown",
   "metadata": {},
   "source": [
    "Our fit is close to Burnett’s. Figure \\[fig:burnett2\\] shows the model prediction using our best-guess parameters."
   ]
  },
  {
   "cell_type": "code",
   "execution_count": null,
   "metadata": {},
   "outputs": [],
   "source": [
    "sim = NB(R=2.16767, a=0.06812, T=22, H0=10.1, P0=11.9)\n",
    "plot(burnett$Generation, \n",
    "   burnett$NumberofHostsParasitized, type=\"b\", \n",
    "   ylab=\"Numbers\", xlab=\"Generation\")\n",
    "lines(burnett$Generation, sim$P)\n",
    "lines(burnett$Generation, \n",
    "   burnett$NumberofHostsUnparasitized, type=\"b\", \n",
    "   col=2, pch=2)\n",
    "lines(burnett$Generation, sim$H, col=2)\n",
    "legend(\"topleft\", legend=c(\"Parasitoid\", \"NB-P\", \n",
    "   \"Host\", \"NB-H\"), lty=c(1,1,1,1), pch=c(1,NA,2,NA),\n",
    "   col=c(1,1,2,2))"
   ]
  },
  {
   "cell_type": "markdown",
   "metadata": {},
   "source": [
    "Stability and resonant periodicity\n",
    "----------------------------------\n",
    "\n",
    " did a detailed mathematical analysis of the model and showed that the equilibrium is an *unstable focus* regardless of parameter values. We can revisit on the concepts from chapter \\[chap:c10\\] for the model. The equilibrium of the Nicholson-Bailey model is $P^* = log(R)/a$, $H^*= log(R) /(a (R-1))$. The eigenvalues of the Jacobian evaluated at the equilibrium are:"
   ]
  },
  {
   "cell_type": "code",
   "execution_count": null,
   "metadata": {},
   "outputs": [],
   "source": [
    "F = expression(R*H*exp(-a * P))\n",
    "G = expression(R*H*(1-exp(-a * P)))\n",
    "j11 = D(F, \"H\"); j12 = D(F, \"P\") \n",
    "j21 = D(G, \"H\"); j22 = D(G, \"P\") \n",
    "R = 2.17; a = 0.068\n",
    "params = c(R = R, a = a, P = log(R)/a, H =  log(R)/(a*(R-1)))\n",
    "J = with(as.list(params),\n",
    "    matrix(c(eval(j11), eval(j12), eval(j21), \n",
    "    eval(j22)), ncol = 2, byrow = TRUE))\n",
    "eigen(J, only.values = TRUE)$values\n",
    "max(abs(eigen(J)$values))"
   ]
  },
  {
   "cell_type": "markdown",
   "metadata": {},
   "source": [
    "It is an unstable focus since the eigenvalues are a pair of complex conjugates whose absolute value is greater than one[1]. Since this is a difference model, the predicted period of the outwards spiral is $2 \\pi / \\tan^{-1}(\\frac{\\mbox{Im}(\\lambda)}{\\mbox{Re}(\\lambda)})$:"
   ]
  },
  {
   "cell_type": "code",
   "execution_count": null,
   "metadata": {},
   "outputs": [],
   "source": [
    "2*pi/atan2(Im(eigen(J)$values[1]), \n",
    "     Re(eigen(J)$values[1]))"
   ]
  },
  {
   "cell_type": "markdown",
   "metadata": {},
   "source": [
    "Let us explore how the cycle period depend on host growth rate (fig. \\[fig:hpper\\]):"
   ]
  },
  {
   "cell_type": "code",
   "execution_count": null,
   "metadata": {},
   "outputs": [],
   "source": [
    "RVals = seq(1.1, 3, by = 0.1)\n",
    "per = rep(NA, length(RVals))\n",
    "for(i in 1:length(RVals)){\n",
    "R = RVals[i]\n",
    "a = 0.068\n",
    "params = c(R = R, a = a, P = log(R)/a,\n",
    "     H =  log(R)/(a*(R-1)))\n",
    "J = with(as.list(params),\n",
    "    matrix(c(eval(j11), eval(j12), eval(j21), \n",
    "    eval(j22)), ncol = 2, byrow = TRUE))\n",
    "per[i] = 2*pi/atan2(Im(eigen(J)$values[1]), \n",
    "     Re(eigen(J)$values[1]))\n",
    "}\n",
    "plot(RVals, per, type = \"b\", xlab = \"R\", ylab = \"Period\")"
   ]
  },
  {
   "cell_type": "markdown",
   "metadata": {},
   "source": [
    "The higher the host growth rate, the faster the outwards spiral.\n",
    "\n",
    "Biological control\n",
    "------------------\n",
    "\n",
    "Parasitoids has been used for bio-control of agricultural pest through the ages . Successful bio-control require that the natural enemy – in this case parasitoid – keeps the pest consistently below an economic threshold. The inherent instability predicted by the Nicholson-Bailey model is at odds with successful biocontrol by parasitoids. Many different model modifications have been analyzed to see when stable regulation can happen. These include: (i) long-lived adult hosts, (ii) density-dependent host growth, (iii) heterogeneity in risk such as aggregated attack rates, spatial heterogeneity, host refugia and (iv) interference among parasitoids . showed – by replacing the Poisson-attack assumption with a negative binomial distribution – how heterogeneity in risk stabilizes dynamics. He coined the CV$^2$-rule which says that if the coefficient-of-variation in attack rate is greater than 1, the parasitoid-host dynamics stabilizes. model is: $$\\begin{aligned}\n",
    "H_{t+1} & = R H_t (1+\\frac{a P_t}{k})^{-k}\\\\\n",
    "P_{t+1} & = R H_t (1-(1+\\frac{a P_t}{k})^{-k}).\\end{aligned}$$ A Shiny-app of the negative binomial model, `May.app`, can be found in the `epimdr`-package.\n",
    "\n",
    "As with infectious diseases, parasitoids-host interactions persist regionally even with local non-persistence through regional consumer-resource metapopulation dynamics.\n",
    "\n",
    "Larch bud moth\n",
    "--------------\n",
    "\n",
    "Parasitoids cause violent fluctuations in the dynamics of the larch bud moth across the European Alps. Historical records shows recurrent traveling waves of defoliation every 9 years for centuries [2]. developed a model of the interactions among the larch bud worm, its parasitoids and the host plant. showed that a spatial extension of this model predicts the observed waves. However, for the more general purpose of considering spatiotemporal host-parasitoid dynamics we will use the simpler spatially-extended Nicholson-Bailey model.\n",
    "\n",
    "Host-parasitoid metapopulation dynamics\n",
    "---------------------------------------\n",
    "\n",
    "Coupled map lattice models have a long history in the study of parasitoid-host dynamics . highlighted the importance of allowing for different mobility of the host and parasitoid. We define `Dh` as the proportion of host that disperses to neighboring patches, and `Dp` the proportion of parasitoid that disperses. showed that changing these can shift the spatial dynamics between spatial chaos, spiral waves or stable spatial heterogeneity. We construct a Nicholson-Bailey CML along the lines introduced in chapter \\[chap:c8\\]:"
   ]
  },
  {
   "cell_type": "code",
   "execution_count": null,
   "metadata": {},
   "outputs": [],
   "source": [
    "#Dh is proportion of hosts that disperses \n",
    "#Dp is proportion of parasitoids that disperses\n",
    "Dh = 0.5\n",
    "Dp = 0.7\n",
    "#xlen is width of the lattice (E-W)\n",
    "#ylen is height of the lattice (N-S)\n",
    "xlen = 30\n",
    "ylen = 30"
   ]
  },
  {
   "cell_type": "markdown",
   "metadata": {},
   "source": [
    "The `hp.dyn`-function defines the function to update the local abundances of hosts and parasitoids according to the Nicholson-Bailey model. Previous densities of host, `h`, and parasitoids, `p`, need to be supplied as arguments to the function, in addition to the host growth rate (`R`) and parasitoid search efficiency `a`."
   ]
  },
  {
   "cell_type": "code",
   "execution_count": null,
   "metadata": {},
   "outputs": [],
   "source": [
    "hp.dyn = function(h, p, R, a) {\n",
    "    # hnew is the post-interaction host density\n",
    "    hnew = R * h * exp(-a * p)\n",
    "    # pnew is the post-interaction parasitoid density\n",
    "    pnew = R * h * (1 - exp(-a * p))\n",
    "    # the two vectors of results are stored in a 'list'\n",
    "    res = list(h = hnew, p = pnew)\n",
    "    return(res)\n",
    "}"
   ]
  },
  {
   "cell_type": "markdown",
   "metadata": {},
   "source": [
    "We generate spatial coordinates and calculate the distance between all populations:"
   ]
  },
  {
   "cell_type": "code",
   "execution_count": null,
   "metadata": {},
   "outputs": [],
   "source": [
    "xy = expand.grid(1:xlen, 1:ylen)\n",
    "dmat = as.matrix(dist(xy))"
   ]
  },
  {
   "cell_type": "markdown",
   "metadata": {},
   "source": [
    "The redistribution matrix is calculated by checking if the distance in `dmat` is smaller than 1.5, thus flagging all populations that are first neighbors. If the distance is $<1.5$ we assign a value of `Dh/8` and `Dp/8`. The fractions that do not disperse (`1-Dh` and `1-Dp`) are along the diagonal of the redistribution matrices."
   ]
  },
  {
   "cell_type": "code",
   "execution_count": null,
   "metadata": {},
   "outputs": [],
   "source": [
    "kh = ifelse(dmat < 1.5, Dh/8, 0)\n",
    "kp = ifelse(dmat < 1.5, Dp/8, 0)\n",
    "diag(kh) = 1 - Dh\n",
    "diag(kp) = 1 - Dp"
   ]
  },
  {
   "cell_type": "markdown",
   "metadata": {},
   "source": [
    "We finally construct matrices to store results and set starting conditions for the simulation. `IT` is number of iterations. The initial conditions are zeros everywhere (i.e., the first column in each matrix gets zeros), except for an arbitrary population (in this case 23) which starts with 4 hosts and 1 parasitoid."
   ]
  },
  {
   "cell_type": "code",
   "execution_count": null,
   "metadata": {},
   "outputs": [],
   "source": [
    "IT = 600\n",
    "hmat = matrix(NA, nrow = xlen * ylen, ncol = IT)\n",
    "pmat = matrix(NA, nrow = xlen * ylen, ncol = IT)\n",
    "hmat[, 1] = 0\n",
    "pmat[, 1] = 0\n",
    "hmat[23, 1] = 4\n",
    "pmat[23, 1] = 1"
   ]
  },
  {
   "cell_type": "markdown",
   "metadata": {},
   "source": [
    "We simulate from generation 2 to `IT`, storing the results on the way. We first simulate growth, using the function `hp.dyn`. Next, we redistribute the host parasitoids according to their dispersal matrices. The vector of pre-dispersal hosts, `tmp$h`, is redistributed through matrix multiplying the vector by the redistribution matrix, `kh`. The same is done for the parasitoid. The function `cat()` provides a progress monitor."
   ]
  },
  {
   "cell_type": "code",
   "execution_count": null,
   "metadata": {},
   "outputs": [],
   "source": [
    "for(i in 2:IT){\n",
    "   #growth\n",
    "   tmp = hp.dyn(h = hmat[,(i-1)], p = pmat[,(i-1)], \n",
    "      R = 2, a = 1)\n",
    "   #redistribution\n",
    "   hmat[,i] = tmp$h%*%kh;\n",
    "   pmat[,i] = tmp$p%*%kp;\n",
    "   cat(i, \" of \", IT, \"\\r\")\n",
    "}"
   ]
  },
  {
   "cell_type": "markdown",
   "metadata": {},
   "source": [
    "Finally, we are ready to plot our results. Here is the code to make an animation of the last 100 generations for the parasitoid:"
   ]
  },
  {
   "cell_type": "code",
   "execution_count": null,
   "metadata": {},
   "outputs": [],
   "source": [
    "#plot the last 100 generations for the parasitoid\n",
    "for(i in 1:100){\n",
    "   x=xy[,1]\n",
    "   y=xy[,2]\n",
    "   z=pmat[,i+500]\n",
    "   symbols(x,y, fg=2, circles=z, inches=0.1, \n",
    "      bg=2, xlab=\"\", ylab=\"\")\n",
    "   Sys.sleep(.1) #this is to slow down the plotting\n",
    "}"
   ]
  },
  {
   "cell_type": "markdown",
   "metadata": {},
   "source": [
    "and the code to write frames to the disk to make a permanent web-optimized movie:"
   ]
  },
  {
   "cell_type": "code",
   "execution_count": null,
   "metadata": {},
   "outputs": [],
   "source": [
    "for (k in 1:50) {\n",
    "    png(filename = paste(\"Pplot\", k, \".png\", sep = \"\"))\n",
    "    x = xy[, 1]\n",
    "    y = xy[, 2]\n",
    "    z = pmat[, k + 500]\n",
    "    symbols(x, y, fg = 2, circles = z, inches = 0.1, bg = 2, \n",
    "        xlab = \"\", ylab = \"\")\n",
    "    dev.off()\n",
    "}\n",
    "system(\"convert P*.png -delay 500 -coalesce -layers OptimizeTransparency cml2.gif\")\n",
    "system(\"rm *.png\")"
   ]
  },
  {
   "cell_type": "markdown",
   "metadata": {},
   "source": [
    "Low mobility of both host and parasitoid (`Dp=Dh=0.1`) leads to spatially chaotic dynamics and high mobility (`Dh=0.5, Dp=0.7`) leads to spiral waves . Animated gifs of the two dynamic regimes are on:\n",
    "<https://github.com/objornstad/epimdr/blob/master/mov/cml1.gif> and\n",
    "<https://github.com/objornstad/epimdr/blob/master/mov/cml2.gif>.\n",
    "\n",
    "ShinyApp\n",
    "--------\n",
    "\n",
    "The `epimdr`-package contains a Shiny-app to study the negative-binomial parasitoid-host model. The app can be launched through:"
   ]
  },
  {
   "cell_type": "code",
   "execution_count": null,
   "metadata": {},
   "outputs": [],
   "source": [
    "require(shiny)\n",
    "May.app"
   ]
  },
  {
   "cell_type": "markdown",
   "metadata": {},
   "source": [
    "[1] Recall that according to [](https://en.wikipedia.org/wiki/Stability_theory), stability of discrete time models requires the absolute value of the largest eigenvalue of the Jacobian evaluated at the equilibrium to be smaller than 1 – as opposed to continuous time models for which the requirement is that the real part must be smaller than 0.\n",
    "\n",
    "[2] <https://github.com/objornstad/epimdr/blob/master/mov/lbm.gif> shows an animated gif of Larch bud moth defoliation between 1960 and 2000."
   ]
  }
 ],
 "metadata": {},
 "nbformat": 4,
 "nbformat_minor": 2
}
