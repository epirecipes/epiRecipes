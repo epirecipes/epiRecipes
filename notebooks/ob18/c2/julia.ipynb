{
 "cells": [
  {
   "cell_type": "markdown",
   "metadata": {},
   "source": [
    "## Chapter 2 from Bjornstad (2018): original code in R"
   ]
  },
  {
   "cell_type": "markdown",
   "metadata": {},
   "source": [
    "### Libraries"
   ]
  },
  {
   "cell_type": "code",
   "execution_count": 1,
   "metadata": {},
   "outputs": [],
   "source": [
    "using RCall\n",
    "using DataFrames\n",
    "using Plots"
   ]
  },
  {
   "cell_type": "code",
   "execution_count": 2,
   "metadata": {},
   "outputs": [],
   "source": [
    "@rlibrary epimdr"
   ]
  },
  {
   "cell_type": "markdown",
   "metadata": {},
   "source": [
    "### SIR model"
   ]
  },
  {
   "cell_type": "markdown",
   "metadata": {},
   "source": [
    "Define the model."
   ]
  },
  {
   "cell_type": "code",
   "execution_count": null,
   "metadata": {},
   "outputs": [],
   "source": []
  },
  {
   "cell_type": "code",
   "execution_count": 2,
   "metadata": {},
   "outputs": [],
   "source": [
    "sirmod=function(t, y, parms){\n",
    "   #Pull state variables from y vector\n",
    "   S=y[1]\n",
    "   I=y[2]\n",
    "   R=y[3]\n",
    "   #Pull parameter values from parms vector\n",
    "   beta=parms[\"beta\"]\n",
    "   mu=parms[\"mu\"]\n",
    "   gamma=parms[\"gamma\"]\n",
    "   N=parms[\"N\"]\n",
    "   #Define equations\n",
    "   dS = mu * (N  - S)  - beta * S * I / N\n",
    "   dI = beta * S * I / N - (mu + gamma) * I\n",
    "   dR = gamma * I - mu * R\n",
    "   res=c(dS, dI, dR)\n",
    "   #Return list of gradients\n",
    "   list(res)\n",
    " }"
   ]
  },
  {
   "cell_type": "markdown",
   "metadata": {},
   "source": [
    "Set the time, parameters and initial conditions."
   ]
  },
  {
   "cell_type": "code",
   "execution_count": 3,
   "metadata": {},
   "outputs": [],
   "source": [
    "times  = seq(0, 26, by=1/10)\n",
    "parms  = c(mu = 0, N = 1, beta =  2, gamma = 1/2)\n",
    "start = c(S=0.999, I=0.001, R = 0)"
   ]
  },
  {
   "cell_type": "markdown",
   "metadata": {},
   "source": [
    "Run the model."
   ]
  },
  {
   "cell_type": "code",
   "execution_count": 4,
   "metadata": {},
   "outputs": [
    {
     "data": {
      "text/html": [
       "<table>\n",
       "<thead><tr><th scope=col>time</th><th scope=col>S</th><th scope=col>I</th><th scope=col>R</th></tr></thead>\n",
       "<tbody>\n",
       "\t<tr><td>0.0  </td><td>0.999</td><td>0.001</td><td>0    </td></tr>\n",
       "\t<tr><td>0.1  </td><td>0.999</td><td>0.001</td><td>0    </td></tr>\n",
       "\t<tr><td>0.2  </td><td>0.999</td><td>0.001</td><td>0    </td></tr>\n",
       "\t<tr><td>0.3  </td><td>0.998</td><td>0.002</td><td>0    </td></tr>\n",
       "\t<tr><td>0.4  </td><td>0.998</td><td>0.002</td><td>0    </td></tr>\n",
       "\t<tr><td>0.5  </td><td>0.998</td><td>0.002</td><td>0    </td></tr>\n",
       "</tbody>\n",
       "</table>\n"
      ],
      "text/latex": [
       "\\begin{tabular}{r|llll}\n",
       " time & S & I & R\\\\\n",
       "\\hline\n",
       "\t 0.0   & 0.999 & 0.001 & 0    \\\\\n",
       "\t 0.1   & 0.999 & 0.001 & 0    \\\\\n",
       "\t 0.2   & 0.999 & 0.001 & 0    \\\\\n",
       "\t 0.3   & 0.998 & 0.002 & 0    \\\\\n",
       "\t 0.4   & 0.998 & 0.002 & 0    \\\\\n",
       "\t 0.5   & 0.998 & 0.002 & 0    \\\\\n",
       "\\end{tabular}\n"
      ],
      "text/markdown": [
       "\n",
       "time | S | I | R | \n",
       "|---|---|---|---|---|---|\n",
       "| 0.0   | 0.999 | 0.001 | 0     | \n",
       "| 0.1   | 0.999 | 0.001 | 0     | \n",
       "| 0.2   | 0.999 | 0.001 | 0     | \n",
       "| 0.3   | 0.998 | 0.002 | 0     | \n",
       "| 0.4   | 0.998 | 0.002 | 0     | \n",
       "| 0.5   | 0.998 | 0.002 | 0     | \n",
       "\n",
       "\n"
      ],
      "text/plain": [
       "  time S     I     R\n",
       "1 0.0  0.999 0.001 0\n",
       "2 0.1  0.999 0.001 0\n",
       "3 0.2  0.999 0.001 0\n",
       "4 0.3  0.998 0.002 0\n",
       "5 0.4  0.998 0.002 0\n",
       "6 0.5  0.998 0.002 0"
      ]
     },
     "metadata": {},
     "output_type": "display_data"
    }
   ],
   "source": [
    "out = ode(y = start, times = times, func = sirmod, \n",
    "     parms = parms)\n",
    "out=as.data.frame(out)\n",
    "head(round(out, 3))"
   ]
  },
  {
   "cell_type": "code",
   "execution_count": 5,
   "metadata": {},
   "outputs": [
    {
     "data": {
      "image/png": "[encoded data removed]",
      "text/plain": [
       "plot without title"
      ]
     },
     "metadata": {},
     "output_type": "display_data"
    }
   ],
   "source": [
    "plot(x = out$time, y = out$S, ylab = \"Fraction\", \n",
    "      xlab = \"Time\", type = \"l\")\n",
    "lines(x = out$time, y = out$I, col = \"red\")\n",
    "lines(x = out$time, y = out$R, col = \"green\")"
   ]
  },
  {
   "cell_type": "markdown",
   "metadata": {},
   "source": [
    "Calculate $R_0$."
   ]
  },
  {
   "cell_type": "code",
   "execution_count": 6,
   "metadata": {},
   "outputs": [],
   "source": [
    "R0 = parms[\"beta\"]/(parms[\"gamma\"]+parms[\"mu\"])"
   ]
  },
  {
   "cell_type": "code",
   "execution_count": 7,
   "metadata": {},
   "outputs": [
    {
     "data": {
      "image/png": "[encoded data removed]",
      "text/plain": [
       "plot without title"
      ]
     },
     "metadata": {},
     "output_type": "display_data"
    }
   ],
   "source": [
    "#Adjust margins to accommodate a second right axis\n",
    "par(mar = c(5,5,2,5))\n",
    "#Plot state variables\n",
    "plot(x = out$time, y = out$S, ylab = \"Fraction\",\n",
    "     xlab = \"Time\",  type = \"l\")\n",
    "lines(x = out$time, y = out$I, col = \"red\")\n",
    "lines(x = out$time, y = out$R, col = \"green\")\n",
    "\n",
    "#Add vertical line at turnover point\n",
    "xx = out$time[which.max(out$I)]\n",
    "lines(c(xx,xx), c(1/R0,max(out$I)), lty = 3)\n",
    "\n",
    "#prepare to superimpose 2nd plot\n",
    "par(new = TRUE)\n",
    "#plot effective reproductive ratio (w/o axes)\n",
    "plot(x = out$time, y = R0*out$S, type = \"l\", lty = 2,\n",
    "     lwd = 2, col = \"black\", axes = FALSE, xlab = NA, \n",
    "     ylab = NA, ylim = c(-.5, 4.5))\n",
    "lines(c(xx, 26), c(1,1), lty = 3)\n",
    "#Add right-hand axis for RE\n",
    "axis(side = 4)\n",
    "mtext(side = 4, line = 4, expression(R[E]))\n",
    "#Add legend\n",
    "legend(\"right\", legend = c(\"S\", \"I\", \"R\", \n",
    "     expression(R[E])), lty = c(1,1,1, 2),  \n",
    "     col = c(\"black\", \"red\", \"green\", \"black\"))"
   ]
  },
  {
   "cell_type": "markdown",
   "metadata": {},
   "source": [
    "Find equilibrium values."
   ]
  },
  {
   "cell_type": "code",
   "execution_count": 8,
   "metadata": {},
   "outputs": [
    {
     "data": {
      "text/html": [
       "<dl class=dl-horizontal>\n",
       "\t<dt>S</dt>\n",
       "\t\t<dd>0.02</dd>\n",
       "\t<dt>I</dt>\n",
       "\t\t<dd>0</dd>\n",
       "\t<dt>R</dt>\n",
       "\t\t<dd>0.98</dd>\n",
       "</dl>\n"
      ],
      "text/latex": [
       "\\begin{description*}\n",
       "\\item[S] 0.02\n",
       "\\item[I] 0\n",
       "\\item[R] 0.98\n",
       "\\end{description*}\n"
      ],
      "text/markdown": [
       "S\n",
       ":   0.02I\n",
       ":   0R\n",
       ":   0.98\n",
       "\n"
      ],
      "text/plain": [
       "   S    I    R \n",
       "0.02 0.00 0.98 "
      ]
     },
     "metadata": {},
     "output_type": "display_data"
    }
   ],
   "source": [
    "equil=runsteady(y=c(S=1-1E-5, I=1E-5, R=0), \n",
    "times=c(0,1E5), func=sirmod, parms=parms)\n",
    "round(equil$y, 3)"
   ]
  },
  {
   "cell_type": "markdown",
   "metadata": {},
   "source": [
    "Candidate values for $R_0$ and $\\beta$."
   ]
  },
  {
   "cell_type": "code",
   "execution_count": 9,
   "metadata": {},
   "outputs": [
    {
     "data": {
      "image/png": "[encoded data removed]",
      "text/plain": [
       "plot without title"
      ]
     },
     "metadata": {},
     "output_type": "display_data"
    }
   ],
   "source": [
    "R0 = seq(0.1, 5, length=50)\n",
    "betas= R0 * 1/2\n",
    "#Vector of NAs to be filled with numbers\n",
    "f = rep(NA, 50)\n",
    "#Loop over i from 1, 2, ..., 50\n",
    "for(i in seq(from=1, to=50, by=1)){\n",
    "     equil=runsteady(y=c(S=1-1E-5, I=1E-5, \n",
    "       R=0), times=c(0,1E5), func=sirmod, \n",
    "       parms=c(mu=0, N=1, beta=betas[i], gamma=1/2))\n",
    "     f[i]=equil$y[\"R\"]\n",
    "}\n",
    "plot(R0, f, type=\"l\", xlab=expression(R[0]))\n",
    "curve(1-exp(-x), from=1, to=5, add=TRUE, col=\"red\")"
   ]
  },
  {
   "cell_type": "code",
   "execution_count": 10,
   "metadata": {},
   "outputs": [
    {
     "data": {
      "text/html": [
       "0.796812130021364"
      ],
      "text/latex": [
       "0.796812130021364"
      ],
      "text/markdown": [
       "0.796812130021364"
      ],
      "text/plain": [
       "[1] 0.7968121"
      ]
     },
     "metadata": {},
     "output_type": "display_data"
    },
    {
     "data": {
      "text/html": [
       "-0.0678525867420238"
      ],
      "text/latex": [
       "-0.0678525867420238"
      ],
      "text/markdown": [
       "-0.0678525867420238"
      ],
      "text/plain": [
       "[1] -0.06785259"
      ]
     },
     "metadata": {},
     "output_type": "display_data"
    }
   ],
   "source": [
    "#Define function\n",
    "fn=function(x, R0){\n",
    " exp(-(R0*(1-x))) - x\n",
    "}\n",
    "1-uniroot(fn, lower = 0, upper = 1-1E-9, \n",
    "     tol = 1e-9, R0=2)$root\n",
    "#check accuracy of approximation:\n",
    "exp(-2)-uniroot(fn, lower = 0, upper = 1-1E-9, \n",
    "     tol = 1e-9, R0=2)$root"
   ]
  },
  {
   "cell_type": "markdown",
   "metadata": {},
   "source": [
    "Plot time series and phase plane."
   ]
  },
  {
   "cell_type": "code",
   "execution_count": 11,
   "metadata": {},
   "outputs": [
    {
     "data": {
      "image/png": "[encoded data removed]",
      "text/plain": [
       "plot without title"
      ]
     },
     "metadata": {},
     "output_type": "display_data"
    }
   ],
   "source": [
    "times  = seq(0, 52*50, by=.1)\n",
    "parms  = c(mu = 1/(50*52), N = 1, beta =  2, \n",
    "      gamma = 1/2)\n",
    "start = c(S=0.19, I=0.01, R = 0.8)\n",
    "out = as.data.frame(ode(y=start, times=times, \n",
    "      func=sirmod, parms=parms))\n",
    "par(mfrow=c(1,2)) #Make room for side-by-side plots \n",
    "plot(times, out$I, ylab=\"Fraction\", xlab=\"Time\", \n",
    "     type=\"l\")\n",
    "plot(out$S, out$I, type=\"l\", xlab=\"Susceptible\", \n",
    "      ylab=\"Infected\")"
   ]
  },
  {
   "cell_type": "markdown",
   "metadata": {},
   "source": [
    "### SI model"
   ]
  },
  {
   "cell_type": "code",
   "execution_count": 12,
   "metadata": {},
   "outputs": [],
   "source": [
    "simod=function(t, y, parameters){\n",
    "   S=y[1]\n",
    "   I=y[2]\n",
    "\n",
    "   beta=parameters[\"beta\"]\n",
    "   mu=parameters[\"mu\"]\n",
    "   gamma=parameters[\"gamma\"]\n",
    "   N=parameters[\"N\"]\n",
    "   \n",
    "   dS = mu * (N  - S)  - beta * S * I / N\n",
    "   dI = beta * S * I / N - (mu + gamma) * I\n",
    "   res=c(dS, dI)\n",
    "   list(res)\n",
    "}"
   ]
  },
  {
   "cell_type": "markdown",
   "metadata": {},
   "source": [
    "Plot vector field."
   ]
  },
  {
   "cell_type": "code",
   "execution_count": 13,
   "metadata": {},
   "outputs": [
    {
     "data": {
      "image/png": "[encoded data removed]",
      "text/plain": [
       "plot without title"
      ]
     },
     "metadata": {},
     "output_type": "display_data"
    }
   ],
   "source": [
    "fld = flowField(simod, xlim = c(0.15,0.35), \n",
    "     ylim = c(0,.01), parameters = parms, system = \"two.dim\", \n",
    "     add = FALSE, ylab = \"I\", xlab = \"S\")\n",
    "#Add trajectory\n",
    "out = as.data.frame(ode(y = c(S = 0.19, I = 0.01), \n",
    "     times =  seq(0, 52*100, by = .1), func = simod, parms = parms))\n",
    " lines(out$S, out$I, col = \"red\")\n",
    "#Add S-isocline\n",
    "curve(parms[\"mu\"]*(1/x-1)/parms[\"beta\"], 0.15, 0.35, \n",
    "     xlab = \"S\", ylab = \"I\", add = TRUE)\n",
    "#Add I-isocline\n",
    "shat = (parms[\"gamma\"] + parms[\"mu\"])/parms[\"beta\"]\n",
    "lines(rep(shat, 2), c(0,0.01))\n",
    "legend(\"topright\", legend = c(\"Transient\", \"Isoclines\"),\n",
    "     lty = c(1, 1), col = c(\"red\", \"black\"))"
   ]
  },
  {
   "cell_type": "code",
   "execution_count": 14,
   "metadata": {},
   "outputs": [],
   "source": [
    "#Pull values from parms vector\n",
    "gamma = parms[\"gamma\"]\n",
    "beta = parms[\"beta\"]\n",
    "mu = parms[\"mu\"]  \n",
    "N = parms[\"N\"]  \n",
    "#Endemic equilibrium  \n",
    "Sstar=(gamma+mu)/beta\n",
    "Istar=mu*(beta/(gamma+mu)-1)/beta\n",
    "eq1=list(S=Sstar, I=Istar)"
   ]
  },
  {
   "cell_type": "markdown",
   "metadata": {},
   "source": [
    "Define equations."
   ]
  },
  {
   "cell_type": "code",
   "execution_count": 15,
   "metadata": {},
   "outputs": [],
   "source": [
    "dS = expression(mu * (N  - S)  - beta * S * I / N)\n",
    "dI = expression(beta * S * I / N - (mu + gamma) * I)"
   ]
  },
  {
   "cell_type": "markdown",
   "metadata": {},
   "source": [
    "Differentiate w.r.t. S and I"
   ]
  },
  {
   "cell_type": "code",
   "execution_count": 16,
   "metadata": {},
   "outputs": [],
   "source": [
    "j11 = D(dS, \"S\")\n",
    "j12 = D(dS, \"I\")\n",
    "j21 = D(dI, \"S\")\n",
    "j22 = D(dI, \"I\")"
   ]
  },
  {
   "cell_type": "markdown",
   "metadata": {},
   "source": [
    "Evaluate Jacobian at equilibrium."
   ]
  },
  {
   "cell_type": "code",
   "execution_count": 17,
   "metadata": {},
   "outputs": [
    {
     "data": {
      "text/html": [
       "<ol class=list-inline>\n",
       "\t<li>-0.0007686395080707+0.0240038401351873i</li>\n",
       "\t<li>-0.0007686395080707-0.0240038401351873i</li>\n",
       "</ol>\n"
      ],
      "text/latex": [
       "\\begin{enumerate*}\n",
       "\\item -0.0007686395080707+0.0240038401351873i\n",
       "\\item -0.0007686395080707-0.0240038401351873i\n",
       "\\end{enumerate*}\n"
      ],
      "text/markdown": [
       "1. -0.0007686395080707+0.0240038401351873i\n",
       "2. -0.0007686395080707-0.0240038401351873i\n",
       "\n",
       "\n"
      ],
      "text/plain": [
       "[1] -0.00076864+0.02400384i -0.00076864-0.02400384i"
      ]
     },
     "metadata": {},
     "output_type": "display_data"
    }
   ],
   "source": [
    "J=with(data=eq1, expr=matrix(c(eval(j11),eval(j12),\n",
    "     eval(j21),eval(j22)), nrow=2, byrow=TRUE))\n",
    "#Calculate eigenvalues\n",
    "eigen(J)$values"
   ]
  },
  {
   "cell_type": "code",
   "execution_count": 18,
   "metadata": {},
   "outputs": [
    {
     "data": {
      "text/html": [
       "261.757505123901"
      ],
      "text/latex": [
       "261.757505123901"
      ],
      "text/markdown": [
       "261.757505123901"
      ],
      "text/plain": [
       "[1] 261.7575"
      ]
     },
     "metadata": {},
     "output_type": "display_data"
    }
   ],
   "source": [
    "2*pi/(Im(eigen(J)$values[1]))"
   ]
  },
  {
   "cell_type": "code",
   "execution_count": 19,
   "metadata": {},
   "outputs": [
    {
     "data": {
      "text/html": [
       "<ol class=list-inline>\n",
       "\t<li>1.49961538461538</li>\n",
       "\t<li>-0.000384615384615385</li>\n",
       "</ol>\n"
      ],
      "text/latex": [
       "\\begin{enumerate*}\n",
       "\\item 1.49961538461538\n",
       "\\item -0.000384615384615385\n",
       "\\end{enumerate*}\n"
      ],
      "text/markdown": [
       "1. 1.49961538461538\n",
       "2. -0.000384615384615385\n",
       "\n",
       "\n"
      ],
      "text/plain": [
       "[1]  1.4996153846 -0.0003846154"
      ]
     },
     "metadata": {},
     "output_type": "display_data"
    }
   ],
   "source": [
    "eq2=list(S=1,I=0)\n",
    "J=with(eq2, \n",
    "     matrix(c(eval(j11),eval(j12),eval(j21),\n",
    "     eval(j22)), nrow=2, byrow=TRUE))\n",
    "eigen(J)$values"
   ]
  },
  {
   "cell_type": "code",
   "execution_count": 20,
   "metadata": {},
   "outputs": [],
   "source": [
    "chainSIR = function(t, logx, params){\n",
    "    x = exp(logx)\n",
    "    u = params[\"u\"]\n",
    "    S = x[1]\n",
    "    I = x[2:(u+1)]\n",
    "    R = x[u+2]\n",
    "    with(as.list(params),{\n",
    "      dS = mu * (N - S)  - sum(beta * S * I) / N\n",
    "      dI = rep(0, u)\n",
    "      dI[1] = sum(beta * S * I) / N - (mu + u*gamma) * I[1]\n",
    "      if(u>1){\n",
    "         for(i in 2:u){\n",
    "             dI[i] = u*gamma * I[i-1] - (mu+u*gamma)* I[i]\n",
    "          }\n",
    "       }\n",
    "      dR = u*gamma * I[u] - mu * R\n",
    "      res = c(dS/S, dI/I, dR/R)\n",
    "      list(res)\n",
    "})\n",
    "}"
   ]
  },
  {
   "cell_type": "code",
   "execution_count": 21,
   "metadata": {},
   "outputs": [
    {
     "data": {
      "image/png": "[encoded data removed]",
      "text/plain": [
       "plot without title"
      ]
     },
     "metadata": {},
     "output_type": "display_data"
    }
   ],
   "source": [
    "times = seq(0, 10, by=1/52)\n",
    "paras2 = c(mu = 1/75, N = 1, beta =  625, \n",
    "     gamma = 365/14, u=1)\n",
    "xstart2 = log(c(S = .06, I = c(0.001, rep(0.0001, \n",
    "     paras2[\"u\"]-1)), R = 0.0001))\n",
    "out = as.data.frame(ode(xstart2, times, chainSIR, \n",
    "     paras2))\n",
    "plot(times, exp(out[,3]), ylab = \"Infected\", xlab =\n",
    "     \"Time\", ylim = c(0, 0.01), type = 'l')\n",
    "\n",
    "paras2[\"u\"] = 2\n",
    "xstart2 = log(c(S = .06, I = c(0.001, rep(0.0001/\n",
    "     paras2[\"u\"], paras2[\"u\"]-1)), R = 0.0001))\n",
    "out2 = as.data.frame(ode(xstart2, times, chainSIR, \n",
    "     paras2))\n",
    "lines(times, apply(exp(out2[,-c(1:2,length(out2))]),\n",
    "     1 ,sum), col = 'blue')\n",
    "\n",
    "paras2[\"u\"] = 73\n",
    "xstart2 = log(c(S = .06, I = c(0.001, rep(0.0001/\n",
    "     paras2[\"u\"], paras2[\"u\"]-1)), R = 0.0001))\n",
    "out3 = as.data.frame(ode(xstart2, times, chainSIR, \n",
    "     paras2))\n",
    "lines(times, apply(exp(out3[,-c(1:2,length(out3))]),\n",
    "     1, sum), col='red', lwd=2, lty=2)\n",
    "\n",
    "paras2[\"u\"] = 500\n",
    "xstart2 = log(c(S = .06, I = c(0.001, rep(0.0001/\n",
    "     paras2[\"u\"], paras2[\"u\"]-1)), R = 0.0001))\n",
    "out4 = as.data.frame(ode(xstart2, times, chainSIR, \n",
    "     paras2))\n",
    "lines(times, apply(exp(out4[,-c(1:2,length(out4))]),\n",
    "     1,sum, na.rm = TRUE), col = 'green')\n",
    "\n",
    "legend(\"topright\", legend = c(\"SIR\", \"u=2\", \"u=500\", \n",
    "     \"u=73 (H-S)\"), lty = c(1,1,1,2), lwd = c(1,1,1, 2),\n",
    "     col = c(\"black\", \"blue\", \"green\", \"red\"))"
   ]
  },
  {
   "cell_type": "code",
   "execution_count": 22,
   "metadata": {},
   "outputs": [
    {
     "name": "stderr",
     "output_type": "stream",
     "text": [
      "\n",
      "Listening on http://127.0.0.1:5683\n"
     ]
    }
   ],
   "source": [
    "require(shiny)\n",
    "require(deSolve)\n",
    "require(phaseR)\n",
    "\n",
    "#This creates the User Interface (UI)\n",
    "ui = pageWithSidebar(\n",
    "#The title\n",
    "headerPanel(\"The SIR model\"),\n",
    "#The sidebar for parameter input\n",
    "sidebarPanel(\n",
    "   #Sliders:\n",
    "   sliderInput(\"beta\", \"Transmission (yr^-1):\", 300,\n",
    "              min = 0, max = 1000),\n",
    "   sliderInput(\"infper\", \"Infectious period (days)\", 5,\n",
    "              min = 1, max = 100),\n",
    "   sliderInput(\"mu\", \"birth rate:\", 5,\n",
    "              min = 0, max = 100),\n",
    "   sliderInput(\"T\", \"Time range:\",\n",
    "                  min = 0, max = 1, value = c(0,1))\n",
    "),\n",
    "#Main panel for figures and equations\n",
    "mainPanel(\n",
    "  #Multiple tabs in main panel\n",
    "  tabsetPanel(\n",
    "    #Tab 1: Time plot (plot1 from server)\n",
    "    tabPanel(\"Time\", plotOutput(\"plot1\")), \n",
    "    #Tab 2: Phase plot (plot2 from server)\n",
    "    tabPanel(\"Phase plane\", plotOutput(\"plot2\", \n",
    "         height = 500)),\n",
    "    #Tab 3: MathJax typeset equations \n",
    "    tabPanel(\"Equations\", \n",
    "       withMathJax(\n",
    "         helpText(\"Susceptible $$\\\\frac{dS}{dt} = \n",
    "            \\\\mu (N - S) - \\\\frac{\\\\beta I S}{N}$$\"),\n",
    "         helpText(\"Infecitous $$\\\\frac{dI}{dt} = \n",
    "            \\\\frac{\\\\beta I S}{N} - (\\\\mu+\\\\sigma) I$$\"),\n",
    "         helpText(\"Removed $$\\\\frac{dR}{dt} = \n",
    "            \\\\gamma I - \\\\mu R$$\"),\n",
    "         helpText(\"Reproductive ratio $$R_0 =  \n",
    "            \\\\frac{1}{\\\\gamma+\\\\mu} \\\\frac{\\\\beta N}{N}$$\")             \n",
    "         ))\n",
    "))) #End of ui()\n",
    "\n",
    "# This creates the 'behind the scenes' code (Server)\n",
    "server = function(input, output) {\n",
    "  #Gradient function for SIR model\n",
    "  sirmod=function(t, x, parms){\n",
    "    S=x[1]\n",
    "    I=x[2]\n",
    "    R=x[3]\n",
    "    beta=parms[\"beta\"]\n",
    "    mu=parms[\"mu\"]\n",
    "    gamma=parms[\"gamma\"]\n",
    "    N=parms[\"N\"]\n",
    "    dS = mu * (N  - S)  - beta * S * I / N\n",
    "    dI = beta * S * I / N - (mu + gamma) * I\n",
    "    dR = gamma * I - mu * R\n",
    "    res=c(dS, dI, dR)\n",
    "    list(res)\n",
    "   }\n",
    "\n",
    "  #Gradient function used for phaseR phase-plot\n",
    "  simod=function(t, y, parameters){\n",
    "   S=y[1]\n",
    "   I=y[2]\n",
    "   beta=parameters[\"beta\"]\n",
    "   mu=parameters[\"mu\"]\n",
    "   gamma=parameters[\"gamma\"]\n",
    "   N=parameters[\"N\"]   \n",
    "   dS = mu * (N  - S)  - beta * S * I / N\n",
    "   dI = beta * S * I / N - (mu + gamma) * I\n",
    "   res=c(dS, dI)\n",
    "   list(res)\n",
    "  }\n",
    "\n",
    "  #Plot1: renderPlot to be passed to UI tab 1\n",
    "  output$plot1 = renderPlot({\n",
    "  #input\\$xx's are pulled from UI\n",
    "  times  = seq(0, input$T[2], by=1/1000)\n",
    "  parms  = c(mu = input$mu, N = 1, beta =  input$beta, \n",
    "    gamma = 365/input$infper)\n",
    "  start = c(S=0.999, I=0.001, R = 0)\n",
    "  R0 = round(with(as.list(parms), beta/(gamma+mu)), 1)\n",
    "  \n",
    "  #Integrate ode with parameters pulled from UI\n",
    "  out=ode(y=start, times=times, func=sirmod, \n",
    "    parms=parms)\n",
    "  out=as.data.frame(out)\n",
    "\n",
    "  #Plot1\n",
    "  sel=out$time>input$T[1]&out$time<input$T[2]\n",
    "  plot(x=out$time[sel], y=out$S[sel], ylab=\"fraction\", \n",
    "    xlab=\"time\", type=\"l\", ylim=range(out[sel,-c(1,4)]))\n",
    "  title(paste(\"R0=\", R0))\n",
    "  lines(x=out$time[sel], y=out$I[sel], col=\"red\")\n",
    "  lines(x=out$time[sel], y=out$R[sel], col=\"green\")\n",
    "  legend(\"right\", legend=c(\"S\", \"I\", \"R\"),\n",
    "        lty=c(1,1,1), col=c(\"black\", \"red\", \"green\"))\n",
    "   })\n",
    "\n",
    "  #Plot2: renderPlot to be passed to UI tab 2\n",
    "  output$plot2 = renderPlot({\n",
    "  times  = seq(0, input$T[2], by=1/1000)\n",
    "  parms  = c(mu = input$mu, N = 1, beta =  input$beta, \n",
    "    gamma = 365/input$infper)\n",
    "  start = c(S=0.999, I=0.001, R = 0)\n",
    "  R0 = round(with(as.list(parms), beta/(gamma+mu)), 1)\n",
    "\n",
    "  #Integrate simod\n",
    "  out=ode(y=start[-3], times=times, func=simod, \n",
    "    parms=parms)\n",
    "  out=as.data.frame(out)\n",
    "\n",
    "  #Plot2\n",
    "  plot(x=out$S, y=out$I, xlab=\"Fraction suceptible\", \n",
    "    ylab=\"Fraction infected\", type=\"l\")\n",
    "  title(paste(\"R0=\", R0))\n",
    "  #Add vector field\n",
    "  fld=flowField(simod, x.lim=range(out$S), y.lim=\n",
    "    range(out$I), parameters=parms, system=\"two.dim\", \n",
    "    add=TRUE, ylab=\"I\", xlab=\"S\")\n",
    "  #Add isoclines\n",
    "  abline(v=1/R0, col=\"green\")\n",
    "  curve(parms[\"mu\"]*(1-x)/(parms[\"beta\"]*x), min(out$S), \n",
    "      max(out$S), add=TRUE, col=\"red\")\n",
    "  legend(\"topright\",  legend=c(\"I-socline\", \n",
    "      \"S-isocline\"), lty=c(1,1), col=c(\"red\", \"green\"))\n",
    "   })\n",
    "  } #End of server()\n",
    "\n",
    "shinyApp(ui, server)"
   ]
  }
 ],
 "metadata": {
  "@webio": {
   "lastCommId": "ff8ff22f7ab94ea3a549296e5fb1e9c4",
   "lastKernelId": "4d19791f-9fa7-4f3b-86d3-9c6d3fff38f4"
  },
  "kernelspec": {
   "display_name": "Julia 1.0.1",
   "language": "julia",
   "name": "julia-1.0"
  },
  "language_info": {
   "file_extension": ".jl",
   "mimetype": "application/julia",
   "name": "julia",
   "version": "1.0.1"
  }
 },
 "nbformat": 4,
 "nbformat_minor": 2
}
