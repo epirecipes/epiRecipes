{
 "cells": [
  {
   "cell_type": "markdown",
   "metadata": {},
   "source": [
    "## The Reed-Frost model\n",
    "\n",
    "The [Reed-Frost model](https://en.wikipedia.org/wiki/Reed%E2%80%93Frost_model) is an example of a 'chain binomial' model, and one of the simplest possible epidemiological models.  Let $X_j$ and $I_j$ be the number of suspectible and infected individuals respectively at time $j$, and let $q$ be the probability that an infected individual will infect a suspectible individual. "
   ]
  }
 ],
 "metadata": {
  "kernelspec": {
   "display_name": "Python 3",
   "language": "python",
   "name": "python3"
  },
  "language_info": {
   "codemirror_mode": {
    "name": "ipython",
    "version": 3
   },
   "file_extension": ".py",
   "mimetype": "text/x-python",
   "name": "python",
   "nbconvert_exporter": "python",
   "pygments_lexer": "ipython3",
   "version": "3.5.2"
  }
 },
 "nbformat": 4,
 "nbformat_minor": 2
}
