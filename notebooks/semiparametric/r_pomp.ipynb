{
 "cells": [
  {
   "cell_type": "markdown",
   "metadata": {},
   "source": [
    "## Semi-parametric SIR\n",
    "\n",
    "Author: Erik M Volz @emvolz\n",
    "\n",
    "Date: 2018-10-02\n",
    "\n",
    "R implementation of SDEs using the `pomp` library and Euler-Murayama algorithm. "
   ]
  },
  {
   "cell_type": "code",
   "execution_count": 1,
   "metadata": {},
   "outputs": [],
   "source": [
    "library(pomp)"
   ]
  },
  {
   "cell_type": "code",
   "execution_count": 2,
   "metadata": {},
   "outputs": [],
   "source": [
    "set.seed( 1111 )"
   ]
  },
  {
   "cell_type": "code",
   "execution_count": 3,
   "metadata": {},
   "outputs": [],
   "source": [
    "# Function to simulate one time step \n",
    "step_fun_R <- function(x, t, params, delta.t, ...){\n",
    "    S <- x[1]\n",
    "    I <- x[2] \n",
    "    R <- x[3]\n",
    "    N <- S + I + R \n",
    "    logbeta <- x[4]\n",
    "    beta <- exp(logbeta)\n",
    "\n",
    "    gamma = params[1] \n",
    "    sigma = params[2] \n",
    "    alpha = params[3]\n",
    "\n",
    "    newinf <- beta * S * I * delta.t/N\n",
    "    newdeath <- gamma * I *delta.t \n",
    "    S <- max(0, S - newinf )\n",
    "    I <- max(0, I + newinf - newdeath )\n",
    "    R <- max(0, R + newdeath )\n",
    "    logbeta <- logbeta + rnorm(1, -alpha * I * delta.t, sd = sigma * sqrt(delta.t) )\n",
    "    c( S = unname(S) , I  = unname(I), R  = unname(R), logbeta = unname( logbeta ))\n",
    "}"
   ]
  },
  {
   "cell_type": "code",
   "execution_count": 4,
   "metadata": {},
   "outputs": [],
   "source": [
    "# Defines pomp object that could be used for simulation or inference \n",
    "spsir_pomp_R <- pomp ( rprocess = euler.sim( step.fun = step_fun_R, delta.t = .001)\n",
    " , t0 = 0\n",
    " , statenames = c( 'S', 'I', 'R', 'logbeta')\n",
    " , paramnames = c('gamma', 'sigma', 'alpha')\n",
    " , data = data.frame( time = seq(0, 10, by=.01), S = NA, I = NA, R = NA, logbeta = NA)\n",
    " , time = 'time'\n",
    " , initializer = function(params, t0, ... ) c( S = 50, I = 1, R = 0, logbeta = log(3) )\n",
    " , rmeasure = function( x, t, params, ... ) x \n",
    ")"
   ]
  },
  {
   "cell_type": "markdown",
   "metadata": {},
   "source": [
    "### Simulation\n"
   ]
  },
  {
   "cell_type": "code",
   "execution_count": 5,
   "metadata": {},
   "outputs": [],
   "source": [
    "spsir_pomp_R_sol <- simulate(spsir_pomp_R, params = c( gamma = 1, sigma = 1, alpha =  0.1) )"
   ]
  },
  {
   "cell_type": "markdown",
   "metadata": {},
   "source": [
    "### Visualization\n"
   ]
  },
  {
   "cell_type": "code",
   "execution_count": 6,
   "metadata": {},
   "outputs": [
    {
     "data": {
      "image/png": "[encoded data removed]",
      "text/plain": [
       "plot without title"
      ]
     },
     "metadata": {},
     "output_type": "display_data"
    }
   ],
   "source": [
    "plot( spsir_pomp_R_sol )"
   ]
  }
 ],
 "metadata": {
  "kernelspec": {
   "display_name": "R",
   "language": "R",
   "name": "ir"
  },
  "language_info": {
   "codemirror_mode": "r",
   "file_extension": ".r",
   "mimetype": "text/x-r-source",
   "name": "R",
   "pygments_lexer": "r",
   "version": "3.4.4"
  }
 },
 "nbformat": 4,
 "nbformat_minor": 2
}
