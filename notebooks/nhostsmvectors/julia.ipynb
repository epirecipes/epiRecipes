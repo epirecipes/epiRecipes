{
 "cells": [
  {
   "cell_type": "markdown",
   "metadata": {},
   "source": [
    "## Julia Implementation of Host SEIR + Vector SEI\n",
    "\n",
    "*Author*: Carl A. B. Pearson @pearsonca\n",
    "\n",
    "*Date*: 2018-10-02\n",
    "\n",
    "This version considers multiple hosts *and* multiple vectors, which further complicates indexing.  Now the indexing scheme is:\n",
    "\n",
    " - all of host $i$ compartments ($S_H^i$, $E_H^i$, etc), for each $i \\in 1\\ldots N$\n",
    " - all of vector $j$ compartments ($S_V^j$, $E_V^j$, etc), for each $j \\in 1\\ldots M$\n",
    "\n",
    "With this approach, we can again re-use the solutions for single host and single vector, with slight modifications:"
   ]
  },
  {
   "cell_type": "code",
   "execution_count": 1,
   "metadata": {},
   "outputs": [
    {
     "data": {
      "text/plain": [
       "F (generic function with 1 method)"
      ]
     },
     "execution_count": 1,
     "metadata": {},
     "output_type": "execute_result"
    }
   ],
   "source": [
    "H_comps = 4\n",
    "V_comps = 3\n",
    "\n",
    "# in sub functions, du / u are the particular relevant slices only\n",
    "function F1H(du, u, p, t, βslice, I_V, N_H)\n",
    "    S_H, E_H, I_H, R_H = u\n",
    "    \n",
    "    # host dynamics\n",
    "    host_infection = sum(βslice .* I_V)*S_H/N_H\n",
    "    host_mortality = p.μ_H .* u # include S_H, so easier to remove mortality\n",
    "    host_births = sum(host_mortality)\n",
    "    host_progression = p.σ_H*E_H\n",
    "    recovery = p.λ*I_H\n",
    "    \n",
    "    du[1] = -host_infection + host_births\n",
    "    du[2] = host_infection - host_progression\n",
    "    du[3] = host_progression - recovery\n",
    "    du[4] = recovery\n",
    "    du[1:end] -= host_mortality \n",
    "end\n",
    "\n",
    "# in sub functions, du / u are the particular relevant slices only\n",
    "function F1V(du, u, p, t, βslice, I_H, N_H)\n",
    "    S_V, E_V, I_V = u\n",
    "    vec_infection = sum(βslice .* I_H)*S_V/N_H\n",
    "    vec_mortality = p.μ_V .* u # include S_V, so easier to remove mortality\n",
    "    vec_births = sum(vec_mortality)\n",
    "    vec_progression = p.σ_V*E_V\n",
    "    \n",
    "    du[1] = -vec_infection + vec_births\n",
    "    du[2] = vec_infection - vec_progression\n",
    "    du[3] = vec_progression\n",
    "    du[1:end] -= vec_mortality\n",
    "end\n",
    "\n",
    "function F(du,u,p,t)\n",
    "    dH = @view(du[1:(p.nHosts*H_comps)])\n",
    "    dV = @view(du[(p.nHosts*H_comps+1):end])\n",
    "    Hs = @view(u[1:(p.nHosts*H_comps)])\n",
    "    Vs = @view(u[(p.nHosts*H_comps+1):end])\n",
    "    \n",
    "    I_Vs = @view(Vs[3:V_comps:V_comps*p.nVecs])\n",
    "    I_Hs = @view(Hs[3:H_comps:H_comps*p.nHosts])\n",
    "    \n",
    "    for host in 0:(p.nHosts-1)\n",
    "        slice = (1:H_comps).+(H_comps*host)\n",
    "        F1H(@view(dH[slice]), @view(Hs[slice]), p.host[host+1], t, @view(p.β[host+1,:]), I_Vs, p.N_H)\n",
    "    end\n",
    "    for vec in 0:(p.nVecs-1)\n",
    "        slice = (1:V_comps).+(V_comps*vec)\n",
    "        F1V(@view(dV[slice]), @view(Vs[slice]), p.vec[vec+1], t, @view(p.β[:,vec+1]), I_Hs, p.N_H)\n",
    "    end\n",
    "end"
   ]
  },
  {
   "cell_type": "markdown",
   "metadata": {},
   "source": [
    "First, state initial conditions.  This code generates them randomly for convenience, though they could be assigned based on data, desired parameter space, or algorithmically as part of a fitting process:"
   ]
  },
  {
   "cell_type": "code",
   "execution_count": 2,
   "metadata": {},
   "outputs": [
    {
     "data": {
      "text/plain": [
       "14×1 Array{Float64,2}:\n",
       "  100.0\n",
       "    0.0\n",
       "    1.0\n",
       "    0.0\n",
       "  100.0\n",
       "    0.0\n",
       "    0.0\n",
       "    0.0\n",
       " 1000.0\n",
       "    0.0\n",
       "    0.0\n",
       " 1000.0\n",
       "    0.0\n",
       "    0.0"
      ]
     },
     "execution_count": 2,
     "metadata": {},
     "output_type": "execute_result"
    }
   ],
   "source": [
    "nH = 2\n",
    "nV = 2\n",
    "srand(0)\n",
    "\n",
    "S_Hs = ones(nH) .* 100.0\n",
    "E_Hs = zeros(nH)\n",
    "I_Hs = shuffle(vcat(zeros(nH-1),[1.0]))\n",
    "R_Hs = zeros(nH)\n",
    "host0 = reshape(hcat(S_Hs,E_Hs,I_Hs,R_Hs)', nH*H_comps, 1)\n",
    "\n",
    "S_Vs = ones(nV) .* 1000.0\n",
    "E_Vs = zeros(nV)\n",
    "I_Vs = zeros(nV)\n",
    "vec0 = reshape(hcat(S_Vs,E_Vs,I_Vs)', nV*V_comps, 1)\n",
    "\n",
    "u0 = vcat(host0, vec0)"
   ]
  },
  {
   "cell_type": "markdown",
   "metadata": {},
   "source": [
    "Now, generate dynamic parameters.  Again: this code generates them randomly for convenience, though they could be assigned based on data, desired parameter space, or algorithmically as part of a fitting process:"
   ]
  },
  {
   "cell_type": "code",
   "execution_count": 3,
   "metadata": {},
   "outputs": [
    {
     "data": {
      "text/plain": [
       "(nHosts = 2, nVecs = 2, N_H = 201.0, β = [0.0555751 0.0424718; 0.0437108 0.0773223], vec = NamedTuples._NT_μ__V_σ__V{Float64,Float64}[(μ_V = 0.0341102, σ_V = 0.0750366), (μ_V = 0.0790008, σ_V = 0.0714354)], host = NamedTuples._NT_μ__H_σ__H_λ{Float64,Float64,Float64}[(μ_H = 0.0117686, σ_H = 0.53298, λ = 0.141914), (μ_H = 0.00801628, σ_H = 21.0723, λ = 0.0361969)])"
      ]
     },
     "execution_count": 3,
     "metadata": {},
     "output_type": "execute_result"
    }
   ],
   "source": [
    "srand(1)\n",
    "\n",
    "μs = 1 ./ (rand(nH) .* 360)\n",
    "σs = 1 ./ (rand(nH) .* 6)\n",
    "μVs = 1 ./ (rand(nV) .* 60)\n",
    "σVs = 1 ./ (rand(nV) .* 14)\n",
    "\n",
    "λs = 1 ./ (rand(nH) .* 28)\n",
    "βs = rand(nH*nV) ./ 10.0\n",
    "\n",
    "using NamedTuples\n",
    "# nb: in >= Julia v0.7, can eliminate this import\n",
    "#  and the @NT syntax\n",
    "p = @NT(\n",
    "  nHosts = nH, nVecs = nV,\n",
    "  N_H = sum(host0),\n",
    "  β = reshape(βs,nH,nV), # information in hosts (rows) by vectors (cols)\n",
    "  vec  = [@NT(μ_V=μVs[j], σ_V=σVs[j]) for j in 1:nV],\n",
    "  host = [@NT(μ_H=μs[i], σ_H=σs[i], λ=λs[i]) for i in 1:nH]\n",
    "  # just building up a random collection of params for demonstration\n",
    ")"
   ]
  },
  {
   "cell_type": "markdown",
   "metadata": {},
   "source": [
    "Now these values can be used with the ODE solver:"
   ]
  },
  {
   "cell_type": "code",
   "execution_count": 4,
   "metadata": {},
   "outputs": [
    {
     "data": {
      "text/plain": [
       "retcode: Success\n",
       "Interpolation: 1st order linear\n",
       "t: 3651-element Array{Float64,1}:\n",
       "   0.0\n",
       "   0.1\n",
       "   0.2\n",
       "   0.3\n",
       "   0.4\n",
       "   0.5\n",
       "   0.6\n",
       "   0.7\n",
       "   0.8\n",
       "   0.9\n",
       "   1.0\n",
       "   1.1\n",
       "   1.2\n",
       "   ⋮  \n",
       " 363.9\n",
       " 364.0\n",
       " 364.1\n",
       " 364.2\n",
       " 364.3\n",
       " 364.4\n",
       " 364.5\n",
       " 364.6\n",
       " 364.7\n",
       " 364.8\n",
       " 364.9\n",
       " 365.0\n",
       "u: 3651-element Array{Array{Float64,2},1}:\n",
       " [100.0; 0.0; … ; 0.0; 0.0]                       \n",
       " [100.001; 1.45562e-7; … ; 0.0208111; 7.45142e-5] \n",
       " [100.002; 1.1395e-6; … ; 0.0409938; 0.000294274] \n",
       " [100.004; 3.76354e-6; … ; 0.0605622; 0.000653715]\n",
       " [100.005; 8.73081e-6; … ; 0.0795303; 0.00114742] \n",
       " [100.006; 1.66901e-5; … ; 0.0979121; 0.00177011] \n",
       " [100.007; 2.82298e-5; … ; 0.115721; 0.00251664]  \n",
       " [100.008; 4.38818e-5; … ; 0.13297; 0.00338201]   \n",
       " [100.009; 6.41252e-5; … ; 0.149673; 0.00436136]  \n",
       " [100.01; 8.93894e-5; … ; 0.165843; 0.00544994]   \n",
       " [100.012; 0.000120058; … ; 0.181491; 0.00664314] \n",
       " [100.013; 0.000156469; … ; 0.196631; 0.00793648] \n",
       " [100.014; 0.000198924; … ; 0.211274; 0.00932559] \n",
       " ⋮                                                \n",
       " [28.4073; 1.55928; … ; 40.3947; 36.2825]         \n",
       " [28.4077; 1.55936; … ; 40.3969; 36.2844]         \n",
       " [28.4082; 1.55943; … ; 40.3992; 36.2863]         \n",
       " [28.4086; 1.5595; … ; 40.4014; 36.2883]          \n",
       " [28.409; 1.55958; … ; 40.4036; 36.2902]          \n",
       " [28.4094; 1.55965; … ; 40.4058; 36.2921]         \n",
       " [28.4098; 1.55972; … ; 40.4081; 36.294]          \n",
       " [28.4101; 1.55979; … ; 40.4103; 36.296]          \n",
       " [28.4105; 1.55987; … ; 40.4125; 36.2979]         \n",
       " [28.4109; 1.55994; … ; 40.4147; 36.2998]         \n",
       " [28.4113; 1.56001; … ; 40.4169; 36.3018]         \n",
       " [28.4116; 1.56009; … ; 40.4191; 36.3037]         "
      ]
     },
     "execution_count": 4,
     "metadata": {},
     "output_type": "execute_result"
    }
   ],
   "source": [
    "using DifferentialEquations\n",
    "using IterableTables, DataFrames\n",
    "\n",
    "tspan = (0.0, 365.0)\n",
    "prob = ODEProblem(F, u0, tspan, p)\n",
    "sol = solve(prob,Tsit5(),reltol=1e-8,abstol=1e-8,saveat=linspace(0,365,365*10+1))"
   ]
  },
  {
   "cell_type": "code",
   "execution_count": 5,
   "metadata": {},
   "outputs": [
    {
     "data": {
      "text/html": [
       "<table class=\"data-frame\"><thead><tr><th></th><th>variable</th><th>value</th><th>timestamp</th><th>index</th><th>name</th><th>facet</th><th>compartment</th></tr></thead><tbody><tr><th>1</th><td>value1</td><td>100.0</td><td>0.0</td><td>1</td><td>S_H1</td><td>H1</td><td>S</td></tr><tr><th>2</th><td>value1</td><td>100.0011760184626</td><td>0.1</td><td>1</td><td>S_H1</td><td>H1</td><td>S</td></tr><tr><th>3</th><td>value1</td><td>100.0023497784613</td><td>0.2</td><td>1</td><td>S_H1</td><td>H1</td><td>S</td></tr><tr><th>4</th><td>value1</td><td>100.00352043359341</td><td>0.3</td><td>1</td><td>S_H1</td><td>H1</td><td>S</td></tr><tr><th>5</th><td>value1</td><td>100.0046871663549</td><td>0.4</td><td>1</td><td>S_H1</td><td>H1</td><td>S</td></tr><tr><th>6</th><td>value1</td><td>100.00584918746296</td><td>0.5</td><td>1</td><td>S_H1</td><td>H1</td><td>S</td></tr><tr><th>7</th><td>value1</td><td>100.00700573519084</td><td>0.6</td><td>1</td><td>S_H1</td><td>H1</td><td>S</td></tr><tr><th>8</th><td>value1</td><td>100.00815607470733</td><td>0.7</td><td>1</td><td>S_H1</td><td>H1</td><td>S</td></tr><tr><th>9</th><td>value1</td><td>100.00929949745365</td><td>0.8</td><td>1</td><td>S_H1</td><td>H1</td><td>S</td></tr><tr><th>10</th><td>value1</td><td>100.01043532049054</td><td>0.9</td><td>1</td><td>S_H1</td><td>H1</td><td>S</td></tr><tr><th>11</th><td>value1</td><td>100.01156288589394</td><td>1.0</td><td>1</td><td>S_H1</td><td>H1</td><td>S</td></tr><tr><th>12</th><td>value1</td><td>100.01268156016334</td><td>1.1</td><td>1</td><td>S_H1</td><td>H1</td><td>S</td></tr><tr><th>13</th><td>value1</td><td>100.0137907335866</td><td>1.2</td><td>1</td><td>S_H1</td><td>H1</td><td>S</td></tr><tr><th>14</th><td>value1</td><td>100.01488981970893</td><td>1.3</td><td>1</td><td>S_H1</td><td>H1</td><td>S</td></tr><tr><th>15</th><td>value1</td><td>100.01597825471352</td><td>1.4</td><td>1</td><td>S_H1</td><td>H1</td><td>S</td></tr><tr><th>16</th><td>value1</td><td>100.0170554968953</td><td>1.5</td><td>1</td><td>S_H1</td><td>H1</td><td>S</td></tr><tr><th>17</th><td>value1</td><td>100.0181210260885</td><td>1.6</td><td>1</td><td>S_H1</td><td>H1</td><td>S</td></tr><tr><th>18</th><td>value1</td><td>100.01917434313587</td><td>1.7</td><td>1</td><td>S_H1</td><td>H1</td><td>S</td></tr><tr><th>19</th><td>value1</td><td>100.02021496935933</td><td>1.8</td><td>1</td><td>S_H1</td><td>H1</td><td>S</td></tr><tr><th>20</th><td>value1</td><td>100.02124244603334</td><td>1.9</td><td>1</td><td>S_H1</td><td>H1</td><td>S</td></tr><tr><th>21</th><td>value1</td><td>100.02225633388129</td><td>2.0</td><td>1</td><td>S_H1</td><td>H1</td><td>S</td></tr><tr><th>22</th><td>value1</td><td>100.02325621257515</td><td>2.1</td><td>1</td><td>S_H1</td><td>H1</td><td>S</td></tr><tr><th>23</th><td>value1</td><td>100.02424168023792</td><td>2.2</td><td>1</td><td>S_H1</td><td>H1</td><td>S</td></tr><tr><th>24</th><td>value1</td><td>100.02521235297311</td><td>2.3</td><td>1</td><td>S_H1</td><td>H1</td><td>S</td></tr><tr><th>25</th><td>value1</td><td>100.02616786438361</td><td>2.4</td><td>1</td><td>S_H1</td><td>H1</td><td>S</td></tr><tr><th>26</th><td>value1</td><td>100.02710786511321</td><td>2.5</td><td>1</td><td>S_H1</td><td>H1</td><td>S</td></tr><tr><th>27</th><td>value1</td><td>100.02803202239623</td><td>2.6</td><td>1</td><td>S_H1</td><td>H1</td><td>S</td></tr><tr><th>28</th><td>value1</td><td>100.02894001960289</td><td>2.7</td><td>1</td><td>S_H1</td><td>H1</td><td>S</td></tr><tr><th>29</th><td>value1</td><td>100.02983155581597</td><td>2.8</td><td>1</td><td>S_H1</td><td>H1</td><td>S</td></tr><tr><th>30</th><td>value1</td><td>100.03070634539198</td><td>2.9</td><td>1</td><td>S_H1</td><td>H1</td><td>S</td></tr><tr><th>&vellip;</th><td>&vellip;</td><td>&vellip;</td><td>&vellip;</td><td>&vellip;</td><td>&vellip;</td><td>&vellip;</td><td>&vellip;</td></tr></tbody></table>"
      ],
      "text/plain": [
       "51114×7 DataFrames.DataFrame\n",
       "│ Row   │ variable │ value   │ timestamp │ index │ name   │ facet │\n",
       "├───────┼──────────┼─────────┼───────────┼───────┼────────┼───────┤\n",
       "│ 1     │ value1   │ 100.0   │ 0.0       │ 1     │ \"S_H1\" │ \"H1\"  │\n",
       "│ 2     │ value1   │ 100.001 │ 0.1       │ 1     │ \"S_H1\" │ \"H1\"  │\n",
       "│ 3     │ value1   │ 100.002 │ 0.2       │ 1     │ \"S_H1\" │ \"H1\"  │\n",
       "│ 4     │ value1   │ 100.004 │ 0.3       │ 1     │ \"S_H1\" │ \"H1\"  │\n",
       "│ 5     │ value1   │ 100.005 │ 0.4       │ 1     │ \"S_H1\" │ \"H1\"  │\n",
       "│ 6     │ value1   │ 100.006 │ 0.5       │ 1     │ \"S_H1\" │ \"H1\"  │\n",
       "│ 7     │ value1   │ 100.007 │ 0.6       │ 1     │ \"S_H1\" │ \"H1\"  │\n",
       "│ 8     │ value1   │ 100.008 │ 0.7       │ 1     │ \"S_H1\" │ \"H1\"  │\n",
       "│ 9     │ value1   │ 100.009 │ 0.8       │ 1     │ \"S_H1\" │ \"H1\"  │\n",
       "│ 10    │ value1   │ 100.01  │ 0.9       │ 1     │ \"S_H1\" │ \"H1\"  │\n",
       "│ 11    │ value1   │ 100.012 │ 1.0       │ 1     │ \"S_H1\" │ \"H1\"  │\n",
       "⋮\n",
       "│ 51103 │ value14  │ 36.2825 │ 363.9     │ 14    │ \"I_V2\" │ \"V2\"  │\n",
       "│ 51104 │ value14  │ 36.2844 │ 364.0     │ 14    │ \"I_V2\" │ \"V2\"  │\n",
       "│ 51105 │ value14  │ 36.2863 │ 364.1     │ 14    │ \"I_V2\" │ \"V2\"  │\n",
       "│ 51106 │ value14  │ 36.2883 │ 364.2     │ 14    │ \"I_V2\" │ \"V2\"  │\n",
       "│ 51107 │ value14  │ 36.2902 │ 364.3     │ 14    │ \"I_V2\" │ \"V2\"  │\n",
       "│ 51108 │ value14  │ 36.2921 │ 364.4     │ 14    │ \"I_V2\" │ \"V2\"  │\n",
       "│ 51109 │ value14  │ 36.294  │ 364.5     │ 14    │ \"I_V2\" │ \"V2\"  │\n",
       "│ 51110 │ value14  │ 36.296  │ 364.6     │ 14    │ \"I_V2\" │ \"V2\"  │\n",
       "│ 51111 │ value14  │ 36.2979 │ 364.7     │ 14    │ \"I_V2\" │ \"V2\"  │\n",
       "│ 51112 │ value14  │ 36.2998 │ 364.8     │ 14    │ \"I_V2\" │ \"V2\"  │\n",
       "│ 51113 │ value14  │ 36.3018 │ 364.9     │ 14    │ \"I_V2\" │ \"V2\"  │\n",
       "│ 51114 │ value14  │ 36.3037 │ 365.0     │ 14    │ \"I_V2\" │ \"V2\"  │\n",
       "\n",
       "│ Row   │ compartment │\n",
       "├───────┼─────────────┤\n",
       "│ 1     │ \"S\"         │\n",
       "│ 2     │ \"S\"         │\n",
       "│ 3     │ \"S\"         │\n",
       "│ 4     │ \"S\"         │\n",
       "│ 5     │ \"S\"         │\n",
       "│ 6     │ \"S\"         │\n",
       "│ 7     │ \"S\"         │\n",
       "│ 8     │ \"S\"         │\n",
       "│ 9     │ \"S\"         │\n",
       "│ 10    │ \"S\"         │\n",
       "│ 11    │ \"S\"         │\n",
       "⋮\n",
       "│ 51103 │ \"I\"         │\n",
       "│ 51104 │ \"I\"         │\n",
       "│ 51105 │ \"I\"         │\n",
       "│ 51106 │ \"I\"         │\n",
       "│ 51107 │ \"I\"         │\n",
       "│ 51108 │ \"I\"         │\n",
       "│ 51109 │ \"I\"         │\n",
       "│ 51110 │ \"I\"         │\n",
       "│ 51111 │ \"I\"         │\n",
       "│ 51112 │ \"I\"         │\n",
       "│ 51113 │ \"I\"         │\n",
       "│ 51114 │ \"I\"         │"
      ]
     },
     "execution_count": 5,
     "metadata": {},
     "output_type": "execute_result"
    }
   ],
   "source": [
    "# rename!(df, Dict(:timestamp => :t,\n",
    "#  :value1 => :S_H, :value2 => :E_H, :value3 => :I_H, :value4 => :R_H,\n",
    "#  :value5 => :S_V, :value6 => :E_V, :value7 => :I_V\n",
    "# ))\n",
    "# mlt[:host] = contains.(string.(mlt[:variable]),\"H\"); # tag which entries are host vs vector\n",
    "# df\n",
    "df = DataFrame(sol)\n",
    "mlt = melt(df,:timestamp) # convert results into long format for plotting\n",
    "mlt[:index] = parse.(Int,replace.(string.(mlt[:variable]),r\"[^\\d]+\"=>\"\"))\n",
    "namekey = hcat(\n",
    "  reshape([\"$(compartment)_H$species\" for compartment in [\"S\",\"E\",\"I\",\"R\"], species in 1:nH],1,:),\n",
    "  reshape([\"$(compartment)_V$species\" for compartment in [\"S\",\"E\",\"I\"], species in 1:nV],1,:)\n",
    ")\n",
    "\n",
    "mlt[:name] = namekey[mlt[:index]]\n",
    "mlt[:facet] = replace.(string.(mlt[:name]),r\"\\w+_\"=>\"\")\n",
    "mlt[:compartment] = replace.(string.(mlt[:name]),r\"_\\w+\"=>\"\")\n",
    "mlt"
   ]
  },
  {
   "cell_type": "markdown",
   "metadata": {},
   "source": [
    "Now that we have a solution, we want to view what is happening in host vs mosquito population:"
   ]
  },
  {
   "cell_type": "code",
   "execution_count": 6,
   "metadata": {
    "scrolled": true
   },
   "outputs": [
    {
     "name": "stderr",
     "output_type": "stream",
     "text": [
      "WARNING: Method definition promote_rule(Type{T}, Type{Any}) in module Missings at /home/simon/.julia/v0.6/Missings/src/Missings.jl:52 overwritten in module Nulls at /home/simon/.julia/v0.6/Nulls/src/Nulls.jl:29.\n",
      "WARNING: Method definition ==(Base.Nullable{S}, Base.Nullable{T}) in module Base at nullable.jl:238 overwritten in module NullableArrays at /home/simon/.julia/v0.6/NullableArrays/src/operators.jl:99.\n"
     ]
    },
    {
     "data": {
      "image/png": "[encoded data removed]"
     },
     "metadata": {},
     "output_type": "display_data"
    },
    {
     "data": {
      "text/plain": [
       "RCall.RObject{RCall.VecSxp}\n"
      ]
     },
     "execution_count": 6,
     "metadata": {},
     "output_type": "execute_result"
    }
   ],
   "source": [
    "using RCall\n",
    "# current version RCall supports better transfers, which would simplify this mess\n",
    "# but requires Julia v >= 0.7\n",
    "vals = mlt[:value]\n",
    "tstamps = mlt[:timestamp]\n",
    "fcts = mlt[:facet]\n",
    "comps = mlt[:compartment]\n",
    "@rput vals tstamps fcts comps\n",
    "R\"\n",
    "library(ggplot2)\n",
    "suppressPackageStartupMessages(library(data.table))\n",
    "dt <- data.table(t=tstamps, y=vals, species=fcts, compartment=comps)\n",
    "ggplot(dt) + aes(x=t, y=y, color=compartment) + facet_grid(species ~ ., scale = 'free_y') +\n",
    "  theme_minimal() +\n",
    "  geom_line()\n",
    "\""
   ]
  }
 ],
 "metadata": {
  "kernelspec": {
   "display_name": "Julia 0.6.3",
   "language": "julia",
   "name": "julia-0.6"
  },
  "language_info": {
   "file_extension": ".jl",
   "mimetype": "application/julia",
   "name": "julia",
   "version": "0.6.3"
  }
 },
 "nbformat": 4,
 "nbformat_minor": 2
}
