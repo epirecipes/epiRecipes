{
 "cells": [
  {
   "cell_type": "markdown",
   "metadata": {},
   "source": [
    "## Deterministic SEIR model of Ebola\n",
    "\n",
    "Khan et al. (2015) developed a SEIR (susceptible-exposed-infected-recovered) type deterministic model, and used data from the Centers for Disease Control and Prevention (CDC), for the Ebola outbreak in Liberia and Sierra Leone.\n",
    "\n",
    "![](https://www.ncbi.nlm.nih.gov/pmc/articles/PMC4347917/bin/40249_2015_43_Fig1_HTML.jpg)\n",
    "\n",
    "**Figure 1 from Khan et al.**: a flow diagram depicting the dynamics of the Ebola virus across all compartments.\n",
    "\n",
    "### References\n",
    "\n",
    "- [Khan et al. (2015)](https://dx.doi.org/10.1186%2Fs40249-015-0043-3)"
   ]
  }
 ],
 "metadata": {
  "kernelspec": {
   "display_name": "Python 3",
   "language": "python",
   "name": "python3"
  },
  "language_info": {
   "codemirror_mode": {
    "name": "ipython",
    "version": 3
   },
   "file_extension": ".py",
   "mimetype": "text/x-python",
   "name": "python",
   "nbconvert_exporter": "python",
   "pygments_lexer": "ipython3",
   "version": "3.5.2"
  }
 },
 "nbformat": 4,
 "nbformat_minor": 2
}
