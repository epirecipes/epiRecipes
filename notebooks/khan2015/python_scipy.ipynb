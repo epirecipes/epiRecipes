{
 "cells": [
  {
   "cell_type": "markdown",
   "metadata": {},
   "source": [
    "## EVD transmission model from Khan et al 2015 using Python/SciPy\n",
    "\n",
    "Author: Verity Hill @ViralVerity\n",
    "\n",
    "Date: 2018-10-03"
   ]
  },
  {
   "cell_type": "code",
   "execution_count": 1,
   "metadata": {},
   "outputs": [],
   "source": [
    "import numpy as np\n",
    "import pandas as pd\n",
    "from scipy.integrate import ode, solve_ivp\n",
    "import matplotlib.pyplot as plt\n",
    "plt.style.use(\"ggplot\")"
   ]
  },
  {
   "cell_type": "code",
   "execution_count": 2,
   "metadata": {},
   "outputs": [],
   "source": [
    "def LIB(times, init, paramsLIB):\n",
    "    beta, eta, psi, pi, p, alpha, thetaI, thetaH, tau, mu, deltaI, deltaH = paramsLIB \n",
    "    SL,SH,E,I,H,R = init\n",
    "    \n",
    "    #N = ST + E + I + R\n",
    "    N = SL + SH + E + I + H + R\n",
    "    \n",
    "    lamb = beta * ((I + (eta*H))/N)\n",
    "    \n",
    "    dSL = pi*(1-p) - lamb*SL - mu*SL \n",
    "    dSH = pi*p - lamb*psi*SH - mu*SH\n",
    "    \n",
    "    dE = lamb*(SL + psi*SH) - (alpha + mu)*E \n",
    "    \n",
    "    dI = alpha*E - (tau + thetaI + deltaI + mu)*I\n",
    "    dH = tau*I - (thetaH + deltaH + mu)*H\n",
    "    \n",
    "    dR = thetaI*I + thetaH*H - mu*R\n",
    "        \n",
    "    return(dSL, dSH, dE, dI, dH, dR)"
   ]
  },
  {
   "cell_type": "code",
   "execution_count": 3,
   "metadata": {},
   "outputs": [],
   "source": [
    "def SL(times, init, paramsSL):\n",
    "    beta, eta, psi, pi, p, alpha, thetaI, thetaH, tau, mu, deltaI, deltaH = paramsSL \n",
    "    SL,SH,E,I,H,R = init\n",
    "    \n",
    "    #N = ST + E + I + R\n",
    "    N = SL + SH + E + I + H + R\n",
    "    \n",
    "    lamb = beta * (I + (eta*H))/N\n",
    "    \n",
    "    dSL = pi*(1-p) - lamb*SL - mu*SL \n",
    "    dSH = pi*p - lamb*psi*SH - mu*SH\n",
    "    \n",
    "    dE = lamb*(SL + psi*SH) - (alpha + mu)*E \n",
    "    \n",
    "    dI = alpha*E - (tau + thetaI + deltaI + mu)*I\n",
    "    dH = tau*I - (thetaH + deltaH + mu)*H\n",
    "    \n",
    "    dR = thetaI*I + thetaH*H - mu*R\n",
    "    \n",
    "    return(dSL, dSH, dE, dI, dH, dR) "
   ]
  },
  {
   "cell_type": "code",
   "execution_count": 4,
   "metadata": {},
   "outputs": [],
   "source": [
    "#For Liberia\n",
    "paramsLIB = [0.371, 0.7, 1.6, 1.7, 0.2, 0.1, 0.1, 0.2, 0.16, (1/63)/365, 0.1, 0.5]"
   ]
  },
  {
   "cell_type": "code",
   "execution_count": 5,
   "metadata": {},
   "outputs": [],
   "source": [
    "#For Sierra Leone\n",
    "paramsSL = [0.361, 0.7, 1.6, 1.7, 0.2, 0.1, 0.1, 0.2, 0.16, (1/63)/365, 0.1, 0.5]"
   ]
  },
  {
   "cell_type": "code",
   "execution_count": 6,
   "metadata": {},
   "outputs": [],
   "source": [
    "#For both\n",
    "init = [1000000, 20000, 15, 10, 0, 0]\n",
    "times = np.linspace(0, 200, 200)"
   ]
  },
  {
   "cell_type": "code",
   "execution_count": 7,
   "metadata": {},
   "outputs": [],
   "source": [
    "sol_LIB = solve_ivp(fun=lambda t, y: LIB(t, y, paramsLIB), t_span=[min(times),max(times)], y0=init, t_eval=times)"
   ]
  },
  {
   "cell_type": "code",
   "execution_count": 8,
   "metadata": {},
   "outputs": [],
   "source": [
    "output_LIB = pd.DataFrame({\"t\":sol_LIB[\"t\"],\"SL\":sol_LIB[\"y\"][0],\"SH\": sol_LIB[\"y\"][1],\"E\":sol_LIB[\"y\"][2],\"I\":sol_LIB[\"y\"][3], \"H\":sol_LIB[\"y\"][4], \"R\":sol_LIB[\"y\"][5]})"
   ]
  },
  {
   "cell_type": "code",
   "execution_count": 9,
   "metadata": {},
   "outputs": [],
   "source": [
    "sol_SL = solve_ivp(fun=lambda t, y: SL(t, y, paramsSL), t_span=[min(times),max(times)], y0=init, t_eval=times)"
   ]
  },
  {
   "cell_type": "code",
   "execution_count": 10,
   "metadata": {},
   "outputs": [],
   "source": [
    "output_SL = pd.DataFrame({\"t\":sol_SL[\"t\"],\"SL\":sol_SL[\"y\"][0],\"SH\": sol_SL[\"y\"][1],\"E\":sol_SL[\"y\"][2],\"I\":sol_SL[\"y\"][3], \"H\":sol_SL[\"y\"][4], \"R\":sol_SL[\"y\"][5]})"
   ]
  },
  {
   "cell_type": "code",
   "execution_count": 11,
   "metadata": {},
   "outputs": [
    {
     "data": {
      "image/png": "[encoded data removed]",
      "text/plain": [
       "<Figure size 432x288 with 1 Axes>"
      ]
     },
     "metadata": {},
     "output_type": "display_data"
    }
   ],
   "source": [
    "#sLline = plt.plot(\"t\",\"SL\",\"\",data=output_SL,color=\"red\",linewidth=2)\n",
    "#sHline = plt.plot(\"t\", \"SH\", \"\", data = output_SL, color = \"red\", linewidth = 2)\n",
    "iline = plt.plot(\"t\",\"I\",\"\",data=output_SL,color=\"green\",linewidth=2)\n",
    "#rline = plt.plot(\"t\",\"R\",\"\",data=output_SL,color=\"blue\",linewidth=2)\n",
    "plt.xlabel(\"Time\",fontweight=\"bold\")\n",
    "plt.ylabel(\"Number\",fontweight=\"bold\")\n",
    "legend = plt.legend(title=\"Population\",loc=5,bbox_to_anchor=(1.25,0.5))\n",
    "frame = legend.get_frame()\n",
    "frame.set_facecolor(\"white\")\n",
    "frame.set_linewidth(0)"
   ]
  },
  {
   "cell_type": "code",
   "execution_count": 12,
   "metadata": {},
   "outputs": [
    {
     "data": {
      "image/png": "[encoded data removed]",
      "text/plain": [
       "<Figure size 432x288 with 1 Axes>"
      ]
     },
     "metadata": {},
     "output_type": "display_data"
    }
   ],
   "source": [
    "#sLline = plt.plot(\"t\",\"SL\",\"\",data=output_SL,color=\"red\",linewidth=2)\n",
    "#sHline = plt.plot(\"t\", \"SH\", \"\", data = output_SL, color = \"red\", linewidth = 2)\n",
    "iline = plt.plot(\"t\",\"I\",\"\",data=output_LIB,color=\"green\",linewidth=2)\n",
    "#rline = plt.plot(\"t\",\"R\",\"\",data=output_SL,color=\"blue\",linewidth=2)\n",
    "plt.xlabel(\"Time\",fontweight=\"bold\")\n",
    "plt.ylabel(\"Number\",fontweight=\"bold\")\n",
    "legend = plt.legend(title=\"Population\",loc=5,bbox_to_anchor=(1.25,0.5))\n",
    "frame = legend.get_frame()\n",
    "frame.set_facecolor(\"white\")\n",
    "frame.set_linewidth(0)"
   ]
  }
 ],
 "metadata": {
  "kernelspec": {
   "display_name": "Python 3",
   "language": "python",
   "name": "python3"
  },
  "language_info": {
   "codemirror_mode": {
    "name": "ipython",
    "version": 3
   },
   "file_extension": ".py",
   "mimetype": "text/x-python",
   "name": "python",
   "nbconvert_exporter": "python",
   "pygments_lexer": "ipython3",
   "version": "3.5.2"
  }
 },
 "nbformat": 4,
 "nbformat_minor": 2
}
