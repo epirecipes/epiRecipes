{
 "cells": [
  {
   "cell_type": "markdown",
   "metadata": {},
   "source": [
    "## EVD transmission model from Khan et al 2015 using Python/PyGOM\n",
    "\n",
    "Author: Thomas Finnie @twomagpi\n",
    "\n",
    "Date: 2018-10-03"
   ]
  },
  {
   "cell_type": "code",
   "execution_count": 1,
   "metadata": {},
   "outputs": [],
   "source": [
    "# housekeeping\n",
    "import numpy\n",
    "from pygom import DeterministicOde, TransitionType, SimulateOde, Transition"
   ]
  },
  {
   "cell_type": "code",
   "execution_count": 2,
   "metadata": {},
   "outputs": [],
   "source": [
    "# first set up the states\n",
    "states = ['Susceptible_lr',\n",
    "          'Susceptible_hr',\n",
    "          'Exposed', \n",
    "          'Infected', \n",
    "          'Hospitalized',\n",
    "          'Recovered'\n",
    "        ]"
   ]
  },
  {
   "cell_type": "markdown",
   "metadata": {},
   "source": [
    "**Table 1**\n",
    "\n",
    "|Parameter|Description|Value|\n",
    "|:--------|:----------|:---:|\n",
    "|$\\phi_H$ |Modification parameter for infection rate of high-risk susceptible individuals | 1.2-2|\n",
    "|$\\sigma_I$ |Disease-induced death rate of infected individuals | 0.10|\n",
    "|$\\sigma_H$ |Disease-induced death rate of hospitalized individuals | 0.5|\n",
    "|$\\theta_I$ |Recovery rate of infected individuals | 0.1|\n",
    "|$\\theta_H$ |Recovery rate of hospitalized individuals | 0.2|\n",
    "|$\\alpha$   |Rate at which latent individuals become infectious | 0.1|\n",
    "|$\\tau$|\tHospitalization rate for infected individuals | 0.16|\n",
    "|$\\Pi$|\tRecruitment rate | 1.7|\n",
    "|p|\tFraction of the individuals at high-risk |\t0.2|\n",
    "|$\\beta$|\tTransmission rate of disease | Estimated|\n",
    "|$1/\\mu$|\tAverage life of human | 63 years|"
   ]
  },
  {
   "cell_type": "code",
   "execution_count": 3,
   "metadata": {},
   "outputs": [],
   "source": [
    "# now set up the parameters\n",
    "parameters = ['phi_H',\n",
    "              'sigma_I',\n",
    "              'sigma_H',\n",
    "              'theta_I',\n",
    "              'theta_H',\n",
    "              'alpha',\n",
    "              'tau',\n",
    "              'Rec_rate',\n",
    "              'p',\n",
    "              'beta',\n",
    "              'mu',\n",
    "              'lda',\n",
    "              'eta',\n",
    "              'N'\n",
    "             ]"
   ]
  },
  {
   "cell_type": "code",
   "execution_count": 4,
   "metadata": {},
   "outputs": [],
   "source": [
    "# Set this up as birth, death and transitions \n",
    "# This could have been done as lifts of the ODE system from the paper but\n",
    "# being more verbose like this makes us concentrate on the model\n",
    "transitions = [\n",
    "               Transition(origin='Susceptible_lr',\n",
    "                          destination='Exposed',\n",
    "                          equation='lda*Susceptible_lr',\n",
    "                          transition_type=TransitionType.T),\n",
    "               Transition(origin='Susceptible_hr',\n",
    "                          destination='Exposed',\n",
    "                          equation='phi_H * lda * Susceptible_hr',\n",
    "                          transition_type=TransitionType.T),\n",
    "               Transition(origin='Exposed',\n",
    "                          destination='Infected',\n",
    "                          equation='alpha * Exposed',\n",
    "                          transition_type=TransitionType.T),\n",
    "               Transition(origin='Infected',\n",
    "                          destination='Hospitalized',\n",
    "                          equation='tau * Infected',\n",
    "                          transition_type=TransitionType.T),\n",
    "               Transition(origin='Infected',\n",
    "                          destination='Recovered',\n",
    "                          equation='theta_I * Infected',\n",
    "                          transition_type=TransitionType.T),\n",
    "               Transition(origin='Hospitalized',\n",
    "                          destination='Recovered',\n",
    "                          equation='theta_H * Infected',\n",
    "                          transition_type=TransitionType.T),\n",
    "              ]\n",
    "\n",
    "births_deaths = [\n",
    "                # Births first\n",
    "                Transition(origin='Susceptible_lr',\n",
    "                           equation='Rec_rate * (1 - p)',\n",
    "                           transition_type=TransitionType.B),\n",
    "                Transition(origin='Susceptible_hr',\n",
    "                           equation='Rec_rate * p',\n",
    "                           transition_type=TransitionType.B),\n",
    "                # Natural Deaths\n",
    "                Transition(origin='Susceptible_lr',\n",
    "                           equation='mu * Susceptible_lr',\n",
    "                           transition_type=TransitionType.D),\n",
    "                Transition(origin='Susceptible_hr',\n",
    "                           equation='mu * Susceptible_hr',\n",
    "                           transition_type=TransitionType.D),\n",
    "                Transition(origin='Exposed',\n",
    "                           equation='mu * Exposed',\n",
    "                           transition_type=TransitionType.D),\n",
    "                Transition(origin='Infected',\n",
    "                           equation='mu * Infected',\n",
    "                           transition_type=TransitionType.D),\n",
    "                Transition(origin='Hospitalized',\n",
    "                           equation='mu * Hospitalized',\n",
    "                           transition_type=TransitionType.D),\n",
    "                Transition(origin='Recovered',\n",
    "                           equation='mu * Recovered',\n",
    "                           transition_type=TransitionType.D),\n",
    "                #disease deaths\n",
    "                Transition(origin='Infected',\n",
    "                           equation='sigma_I * Infected',\n",
    "                           transition_type=TransitionType.D),\n",
    "                Transition(origin='Hospitalized',\n",
    "                           equation='sigma_H * Hospitalized',\n",
    "                           transition_type=TransitionType.D)\n",
    "]\n",
    "\n",
    "derived_parameters = [('lda', 'beta * ((Infected + (eta*Hospitalized))/N)'),\n",
    "                      ('N', 'Susceptible_lr + Susceptible_hr + Exposed + Infected + Hospitalized + Recovered')]"
   ]
  },
  {
   "cell_type": "code",
   "execution_count": 5,
   "metadata": {},
   "outputs": [
    {
     "name": "stdout",
     "output_type": "stream",
     "text": [
      "⎡                                  -(Susceptibleₗᵣ⋅β⋅(Hospitalized⋅η + Infecte\n",
      "⎢dSusceptible_lr/dt=               ───────────────────────────────────────────\n",
      "⎢                                                                             \n",
      "⎢                                                                             \n",
      "⎢                                     -Susceptibleₕᵣ⋅β⋅φ_H⋅(Hospitalized⋅η + I\n",
      "⎢dSusceptible_hr/dt=                  ────────────────────────────────────────\n",
      "⎢                                                                             \n",
      "⎢                                                                             \n",
      "⎢                     -Exposed⋅(α + μ)⋅(Exposed + Hospitalized + Infected + Re\n",
      "⎢   dExposed/dt=      ────────────────────────────────────────────────────────\n",
      "⎢                                                                             \n",
      "⎢                                                                             \n",
      "⎢   dInfected/dt=                                                             \n",
      "⎢                                                                             \n",
      "⎢ dHospitalized/dt=                                                           \n",
      "⎢                                                                             \n",
      "⎣  dRecovered/dt=                                                             \n",
      "\n",
      "d) + (Recᵣₐₜₑ⋅(p - 1) + Susceptibleₗᵣ⋅μ)⋅(Exposed + Hospitalized + Infected + \n",
      "──────────────────────────────────────────────────────────────────────────────\n",
      " Exposed + Hospitalized + Infected + Recovered + Susceptibleₕᵣ + Susceptibleₗᵣ\n",
      "                                                                              \n",
      "nfected) + (Recᵣₐₜₑ⋅p - Susceptibleₕᵣ⋅μ)⋅(Exposed + Hospitalized + Infected + \n",
      "──────────────────────────────────────────────────────────────────────────────\n",
      " Exposed + Hospitalized + Infected + Recovered + Susceptibleₕᵣ + Susceptibleₗᵣ\n",
      "                                                                              \n",
      "covered + Susceptibleₕᵣ + Susceptibleₗᵣ) + Susceptibleₕᵣ⋅β⋅φ_H⋅(Hospitalized⋅η\n",
      "──────────────────────────────────────────────────────────────────────────────\n",
      " Exposed + Hospitalized + Infected + Recovered + Susceptibleₕᵣ + Susceptibleₗᵣ\n",
      "                                                                              \n",
      "       Exposed⋅α - Infected⋅μ - Infected⋅σ_I - Infected⋅τ - Infected⋅θ_I      \n",
      "                                                                              \n",
      "         -Hospitalized⋅μ - Hospitalized⋅σ_H + Infected⋅τ - Infected⋅θ_H       \n",
      "                                                                              \n",
      "                   Infected⋅θ_H + Infected⋅θ_I - Recovered⋅μ                  \n",
      "\n",
      "Recovered + Susceptibleₕᵣ + Susceptibleₗᵣ))               ⎤\n",
      "────────────────────────────────────────────              ⎥\n",
      "                                                          ⎥\n",
      "                                                          ⎥\n",
      "Recovered + Susceptibleₕᵣ + Susceptibleₗᵣ)                ⎥\n",
      "──────────────────────────────────────────                ⎥\n",
      "                                                          ⎥\n",
      "                                                          ⎥\n",
      " + Infected) + Susceptibleₗᵣ⋅β⋅(Hospitalized⋅η + Infected)⎥\n",
      "──────────────────────────────────────────────────────────⎥\n",
      "                                                          ⎥\n",
      "                                                          ⎥\n",
      "                                                          ⎥\n",
      "                                                          ⎥\n",
      "                                                          ⎥\n",
      "                                                          ⎥\n",
      "                                                          ⎦\n"
     ]
    }
   ],
   "source": [
    "# build the model system\n",
    "model_system = DeterministicOde(states, \n",
    "                                parameters,\n",
    "                                transition=transitions,\n",
    "                                birth_death=births_deaths,\n",
    "                                derived_param=derived_parameters\n",
    "                               )\n",
    "model_system.print_ode()"
   ]
  },
  {
   "cell_type": "code",
   "execution_count": 6,
   "metadata": {},
   "outputs": [],
   "source": [
    "# Create the timeline\n",
    "t = numpy.linspace(0, 200, 200)\n",
    "# Set the inital values for the states\n",
    "model_system.initial_values = ([1000000, \n",
    "                                20000, \n",
    "                                15, \n",
    "                                10, \n",
    "                                0, \n",
    "                                0], \n",
    "                                t[0])"
   ]
  },
  {
   "cell_type": "code",
   "execution_count": 7,
   "metadata": {},
   "outputs": [],
   "source": [
    "liberia_parameters = {\n",
    "    'phi_H': 1.6,\n",
    "    'sigma_I': 0.1,\n",
    "    'sigma_H': 0.5,\n",
    "    'theta_I': 0.1,\n",
    "    'theta_H': 0.2,\n",
    "    'alpha': 0.1,\n",
    "    'tau': 0.16,\n",
    "    'Rec_rate': 1.7,\n",
    "    'p': 0.2,\n",
    "    'beta': 0.371,\n",
    "    'mu': (1/63)/365,\n",
    "    'eta': 0.7,\n",
    "}\n",
    "sierra_leone_parameters = {\n",
    "    'phi_H': 1.6,\n",
    "    'sigma_I': 0.1,\n",
    "    'sigma_H': 0.5,\n",
    "    'theta_I': 0.1,\n",
    "    'theta_H': 0.2,\n",
    "    'alpha': 0.1,\n",
    "    'tau': 0.16,\n",
    "    'Rec_rate': 1.7,\n",
    "    'p': 0.2,\n",
    "    'beta': 0.371,\n",
    "    'mu': (1/63)/365,\n",
    "    'eta': 0.7,\n",
    "}"
   ]
  },
  {
   "cell_type": "code",
   "execution_count": 8,
   "metadata": {},
   "outputs": [
    {
     "data": {
      "text/plain": [
       "<Figure size 640x480 with 6 Axes>"
      ]
     },
     "metadata": {},
     "output_type": "display_data"
    }
   ],
   "source": [
    "model_system.parameters = liberia_parameters\n",
    "solution,output = model_system.integrate(t[1::], full_output=True)\n",
    "model_system.plot()"
   ]
  },
  {
   "cell_type": "code",
   "execution_count": 9,
   "metadata": {},
   "outputs": [
    {
     "data": {
      "image/png": "[encoded data removed]",
      "text/plain": [
       "<Figure size 432x288 with 6 Axes>"
      ]
     },
     "metadata": {},
     "output_type": "display_data"
    }
   ],
   "source": [
    "model_system.parameters = sierra_leone_parameters\n",
    "solution,output = model_system.integrate(t[1::], full_output=True)\n",
    "model_system.plot()"
   ]
  }
 ],
 "metadata": {
  "kernelspec": {
   "display_name": "Python 3",
   "language": "python",
   "name": "python3"
  },
  "language_info": {
   "codemirror_mode": {
    "name": "ipython",
    "version": 3
   },
   "file_extension": ".py",
   "mimetype": "text/x-python",
   "name": "python",
   "nbconvert_exporter": "python",
   "pygments_lexer": "ipython3",
   "version": "3.5.2"
  }
 },
 "nbformat": 4,
 "nbformat_minor": 2
}
