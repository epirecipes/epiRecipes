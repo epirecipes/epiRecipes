{
 "cells": [
  {
   "cell_type": "markdown",
   "metadata": {},
   "source": [
    "## Stochastic SEIRD model using odin\n",
    "\n",
    "Author: Thibaut Jombart\n",
    "\n",
    "Date: 2018-10-03"
   ]
  },
  {
   "cell_type": "markdown",
   "metadata": {},
   "source": [
    "### Requirements\n",
    "This code uses [*odin*](https://github.com/mrc-ide/odin), an **R** package for describing and solving differential equations. The commented commands will install the latest version of the package and its dependencies:"
   ]
  },
  {
   "cell_type": "code",
   "execution_count": 1,
   "metadata": {
    "scrolled": true
   },
   "outputs": [],
   "source": [
    "#if (!require(\"drat\")) install.packages(\"drat\")\n",
    "#drat:::add(\"mrc-ide\")\n",
    "#install.packages(\"dde\")\n",
    "#install.packages(\"odin\")\n",
    "library(odin)"
   ]
  },
  {
   "cell_type": "markdown",
   "metadata": {},
   "source": [
    "We also use the following helper functions:"
   ]
  },
  {
   "cell_type": "code",
   "execution_count": 2,
   "metadata": {},
   "outputs": [],
   "source": [
    "## function to make colors transparent, stolen from adegenet::transp\n",
    "transp <- function (col, alpha = 0.5) {\n",
    "    res <- apply(col2rgb(col), 2,\n",
    "                 function(c) rgb(c[1]/255, c[2]/255, \n",
    "                                 c[3]/255, alpha))\n",
    "    return(res)\n",
    "}\n",
    "\n",
    "## x: instance of odin model\n",
    "## t: time steps\n",
    "## n: number of replicates\n",
    "run_model <- function(x, t = 0:100, n = 1, ...) {\n",
    "    res <- x$run(t, replicate = n, ...)\n",
    "    res <- x$transform_variables(res)\n",
    "    res <- cbind.data.frame(t = res[[1]], res[-1])\n",
    "    attr(res, \"n_compartments\") <- length(x$names) - 1\n",
    "    attr(res, \"n_replicates\") <- n\n",
    "    attr(res, \"compartments\") <- x$names[-1]\n",
    "    class(res) <- c(\"pretty_odin\", class(res))\n",
    "    res\n",
    "}\n",
    "\n",
    "\n",
    "## plot function\n",
    "plot.pretty_odin <- function(x, pal = seird_pal, transparency=FALSE,...) {\n",
    "    ## handle colors\n",
    "    n_compartments <- attr(x, \"n_compartments\")\n",
    "    n_replicates <- attr(x, \"n_replicates\")\n",
    "    col_leg <- pal(n_compartments)\n",
    "    alpha <- max(10 / n_replicates, 0.05)\n",
    "    if(transparency){\n",
    "        col <- rep(transp(col_leg, alpha), each = n_replicates)\n",
    "    }else{\n",
    "        col <- rep(col_leg, each = n_replicates)\n",
    "    }\n",
    "    ## make plot\n",
    "    par(mar = c(4.1, 5.1, 0.5, 0.5), las = 3)\n",
    "    matplot(x[, 1], x[, -1], xlab = \"Time\", ylab = \"Number of individuals\",\n",
    "            type = \"l\", col = col, lty = 1, ...)\n",
    "    legend(\"topright\", lwd = 1, col = col_leg, bty = \"n\",\n",
    "           legend = attr(x, \"compartments\"))\n",
    "}\n",
    "\n",
    "                 \n",
    "## colors\n",
    "seird_col <- c(\"#8c8cd9\", \"#e67300\", \"#d279a6\", \"#ff4d4d\", \"#999966\", \"#660000\")\n",
    "seird_pal <- colorRampPalette(seird_col)"
   ]
  },
  {
   "cell_type": "markdown",
   "metadata": {},
   "source": [
    "### Model description\n",
    "\n",
    "The model is specified in *odin* using:"
   ]
  },
  {
   "cell_type": "code",
   "execution_count": 3,
   "metadata": {},
   "outputs": [],
   "source": [
    "seird_generator <- odin::odin({\n",
    "  ## Core equations for transitions between compartments:\n",
    "  update(S) <- S - n_SE + n_RS\n",
    "  update(E) <- E + n_SE - n_EI + n_import_E\n",
    "  update(Ir) <- Ir + n_EIr - n_IrR\n",
    "  update(Id) <- Id + n_EId - n_IdD\n",
    "  update(R) <- R + n_IrR - n_RS\n",
    "  update(D) <- D + n_IdD\n",
    "\n",
    "  ## Individual probabilities of transition:\n",
    "  p_SE <- 1 - exp(-beta * I / N)\n",
    "  p_EI <-  1 - exp(-delta)\n",
    "  p_IrR <- 1 - exp(-gamma_R) # Ir to R\n",
    "  p_IdD <- 1 - exp(-gamma_D) # Id to d\n",
    "  p_RS <- 1 - exp(-omega) # R to S\n",
    "\n",
    "\n",
    "  ## Draws from binomial distributions for numbers changing between\n",
    "  ## compartments:\n",
    "  n_SE <- rbinom(S, p_SE)\n",
    "  n_EI <- rbinom(E, p_EI)\n",
    "\n",
    "  n_EIrId[] <- rmultinom(n_EI, p)\n",
    "  p[1] <- 1 - mu\n",
    "  p[2] <- mu\n",
    "  dim(p) <- 2\n",
    "  dim(n_EIrId) <- 2\n",
    "  n_EIr <- n_EIrId[1]\n",
    "  n_EId <- n_EIrId[2]\n",
    "  n_IrR <- rbinom(Ir, p_IrR)\n",
    "  n_IdD <- rbinom(Id, p_IdD)\n",
    "\n",
    "  n_RS <- rbinom(R, p_RS)\n",
    "\n",
    "  n_import_E <- rpois(epsilon)\n",
    "\n",
    "  ## Total population size, and number of infecteds\n",
    "  I <- Ir + Id\n",
    "  N <- S + E + I + R + D\n",
    "\n",
    "  ## Initial states\n",
    "  initial(S) <- S_ini\n",
    "  initial(E) <- E_ini\n",
    "  initial(Id) <- 0\n",
    "  initial(Ir) <- 0\n",
    "  initial(R) <- 0\n",
    "  initial(D) <- 0\n",
    "\n",
    "  ## User defined parameters - default in parentheses:\n",
    "  S_ini <- user(1000) # susceptibles\n",
    "  E_ini <- user(1) # infected\n",
    "  beta <- user(0.3) # infection rate\n",
    "  delta <- user(0.2) # inverse incubation period\n",
    "  gamma_R <- user(0.2) # recovery rate\n",
    "  gamma_D <- user(0.4) # death rate\n",
    "  mu <- user(0.05) # CFR\n",
    "  omega <- user(0.1) # rate of waning immunity\n",
    "  epsilon <- user(0.05) # import case rate\n",
    "    \n",
    "  }, verbose = FALSE)"
   ]
  },
  {
   "cell_type": "markdown",
   "metadata": {},
   "source": [
    "## Running the model\n",
    "The model is first parsed and compiled using `odin::odin`, and user-provided parameters are passed using the resulting model generator (the object `seird_generator`). All parameters specified in the model description above as `user()` can be set through the model generator. Here, we use 1 initial exposed individual, 1 million susceptibles, and run 100 independent simulations: "
   ]
  },
  {
   "cell_type": "code",
   "execution_count": 4,
   "metadata": {},
   "outputs": [
    {
     "data": {
      "image/png": "[encoded data removed]",
      "text/plain": [
       "plot without title"
      ]
     },
     "metadata": {},
     "output_type": "display_data"
    }
   ],
   "source": [
    "set.seed(1)\n",
    "seird <- seird_generator(S_ini = 1e6, E_ini = 1, epsilon = 0.01, omega = 1)\n",
    "x <- run_model(seird, t = 0:2000, n = 100)\n",
    "plot(x)"
   ]
  }
 ],
 "metadata": {
  "kernelspec": {
   "display_name": "R",
   "language": "R",
   "name": "ir"
  },
  "language_info": {
   "codemirror_mode": "r",
   "file_extension": ".r",
   "mimetype": "text/x-r-source",
   "name": "R",
   "pygments_lexer": "r",
   "version": "3.4.4"
  }
 },
 "nbformat": 4,
 "nbformat_minor": 2
}
