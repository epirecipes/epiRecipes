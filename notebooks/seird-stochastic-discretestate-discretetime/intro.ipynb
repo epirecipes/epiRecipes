{
 "cells": [
  {
   "cell_type": "markdown",
   "metadata": {},
   "source": [
    "## Stochastic SEIRD model\n",
    "\n",
    "The model is SEIRD model, where infected individuals can survive or die at different rates, with waning immunity. The full model specification is:\n",
    "\n",
    "- $S$: susceptibles\n",
    "- $E$: exposed, i.e. infected but not yet contagious\n",
    "- $I_R$: infectious who will survive\n",
    "- $I_D$: infectious who will die\n",
    "- $R$: recovered\n",
    "- $D$: dead\n",
    "\n",
    "\n",
    "There are no birth of natural death processes in this model. Parameters are:\n",
    "\n",
    "- $\\beta$: rate of infection\n",
    "- $\\delta$: rate at which symptoms appear (i.e inverse of mean incubation\n",
    "period)\n",
    "- $\\gamma_R$: recovery rate\n",
    "- $\\gamma_D$: death rate\n",
    "- $\\mu$: case fatality ratio (proportion of cases who die)\n",
    "- $\\epsilon$: import rate of infected individuals (applies to $E$ and $I$)\n",
    "- $\\omega$: rate waning immunity\n",
    "\n",
    "\n",
    "The model will be written as:\n",
    "\n",
    "$$\n",
    "S_{t+1} = S_t - \\beta \\frac{S_t (I_{R,t} + I_{D,t})}{N_t} + \\omega R_t\n",
    "$$\n",
    "\n",
    "$$\n",
    "E_{t+1} = E_t + \\beta \\frac{S_t (I_{R,t} + I_{D,t})}{N_t} - \\delta E_t + \\epsilon\n",
    "$$\n",
    "\n",
    "$$\n",
    "I_{R,t+1} = I_{R,t} + \\delta (1 - \\mu) E_t - \\gamma_R I_{R,t} + \\epsilon\n",
    "$$\n",
    "\n",
    "$$\n",
    "I_{D,t+1} = I_{D,t} + \\delta \\mu E_t - \\gamma_D I_{D,t} + \\epsilon\n",
    "$$\n",
    "\n",
    "$$\n",
    "R_{t+1} = R_t + \\gamma_R I_{R,t} - \\omega R_t\n",
    "$$\n",
    "\n",
    "$$\n",
    "D_{t+1} = D_t + \\gamma_D I_{D,t}\n",
    "$$\n",
    "\n"
   ]
  }
 ],
 "metadata": {
  "kernelspec": {
   "display_name": "Python 3",
   "language": "python",
   "name": "python3"
  },
  "language_info": {
   "codemirror_mode": {
    "name": "ipython",
    "version": 3
   },
   "file_extension": ".py",
   "mimetype": "text/x-python",
   "name": "python",
   "nbconvert_exporter": "python",
   "pygments_lexer": "ipython3",
   "version": "3.5.2"
  }
 },
 "nbformat": 4,
 "nbformat_minor": 2
}
