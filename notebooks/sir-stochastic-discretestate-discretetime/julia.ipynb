{
 "cells": [
  {
   "cell_type": "markdown",
   "metadata": {},
   "source": [
    "### Stochastic SIR model with Julia"
   ]
  },
  {
   "cell_type": "code",
   "execution_count": 1,
   "metadata": {},
   "outputs": [],
   "source": [
    "using RandomNumbers\n",
    "using DataFrames"
   ]
  },
  {
   "cell_type": "code",
   "execution_count": 2,
   "metadata": {},
   "outputs": [
    {
     "data": {
      "text/plain": [
       "randbn (generic function with 1 method)"
      ]
     },
     "execution_count": 2,
     "metadata": {},
     "output_type": "execute_result"
    }
   ],
   "source": [
    "@inline @fastmath function randbn(n,p,rng)\n",
    "    q = 1.0 - p\n",
    "    s = p/q\n",
    "    a = (n+1)*s\n",
    "    r = exp(n*log(q))\n",
    "    x = 0\n",
    "    u = rand(rng)\n",
    "    while true\n",
    "        if (u < r)\n",
    "            return x\n",
    "        end\n",
    "        u -= r\n",
    "        x += 1\n",
    "        r *= (a/x)-s\n",
    "    end\n",
    "end"
   ]
  },
  {
   "cell_type": "code",
   "execution_count": 3,
   "metadata": {},
   "outputs": [
    {
     "data": {
      "text/plain": [
       "sir (generic function with 1 method)"
      ]
     },
     "execution_count": 3,
     "metadata": {},
     "output_type": "execute_result"
    }
   ],
   "source": [
    "@inline @fastmath function sir(u, parms, rng)\n",
    "    (S, I, R, Y) = u\n",
    "    (β, γ, ι, N, δt) = parms\n",
    "    λ = β * (I + ι) / N\n",
    "    ifrac = 1.0 - exp(-λ * δt)\n",
    "    rfrac = 1.0 - exp(-γ * δt)\n",
    "    infection = randbn(S, ifrac, rng)\n",
    "    recovery = randbn(I, rfrac, rng)\n",
    "    return (S - infection, I + infection - recovery, R + recovery, Y + infection)\n",
    "end"
   ]
  },
  {
   "cell_type": "code",
   "execution_count": 4,
   "metadata": {},
   "outputs": [
    {
     "data": {
      "text/plain": [
       "simulate (generic function with 1 method)"
      ]
     },
     "execution_count": 4,
     "metadata": {},
     "output_type": "execute_result"
    }
   ],
   "source": [
    "function simulate(r)\n",
    "    parms = (0.1, 0.05, 0.01, 1000.0, 0.1)\n",
    "    tf = 200\n",
    "    t = 0:0.1:tf\n",
    "    tl = length(t)\n",
    "    S = zeros(tl)\n",
    "    I = zeros(tl)\n",
    "    R = zeros(tl)\n",
    "    Y = zeros(tl)\n",
    "    u0 = (999, 1, 0, 0)\n",
    "    (S[1],I[1],R[1],Y[1]) = u0\n",
    "    u = u0\n",
    "    for i in 2:tl\n",
    "        u = sir(u, parms, r)\n",
    "        (S[i],I[i],R[i],Y[i]) = u\n",
    "    end\n",
    "    return DataFrame(Time=t,S=S,I=I,R=R,Y=Y)\n",
    "end"
   ]
  },
  {
   "cell_type": "code",
   "execution_count": 5,
   "metadata": {},
   "outputs": [],
   "source": [
    "seed = 42\n",
    "r = Xorshifts.Xorshift128Plus(seed);"
   ]
  },
  {
   "cell_type": "code",
   "execution_count": 6,
   "metadata": {},
   "outputs": [],
   "source": [
    "sir_out = simulate(r);"
   ]
  },
  {
   "cell_type": "code",
   "execution_count": 7,
   "metadata": {},
   "outputs": [
    {
     "data": {
      "text/html": [
       "<table class=\"data-frame\"><thead><tr><th></th><th>Time</th><th>S</th><th>I</th><th>R</th><th>Y</th></tr><tr><th></th><th>Float64</th><th>Float64</th><th>Float64</th><th>Float64</th><th>Float64</th></tr></thead><tbody><tr><th>1</th><td>0.0</td><td>999.0</td><td>1.0</td><td>0.0</td><td>0.0</td></tr><tr><th>2</th><td>0.1</td><td>999.0</td><td>1.0</td><td>0.0</td><td>0.0</td></tr><tr><th>3</th><td>0.2</td><td>999.0</td><td>1.0</td><td>0.0</td><td>0.0</td></tr><tr><th>4</th><td>0.3</td><td>999.0</td><td>1.0</td><td>0.0</td><td>0.0</td></tr><tr><th>5</th><td>0.4</td><td>999.0</td><td>1.0</td><td>0.0</td><td>0.0</td></tr><tr><th>6</th><td>0.5</td><td>999.0</td><td>1.0</td><td>0.0</td><td>0.0</td></tr></tbody></table>"
      ],
      "text/plain": [
       "6×5 DataFrame\n",
       "│ Row │ Time    │ S       │ I       │ R       │ Y       │\n",
       "│     │ \u001b[90mFloat64\u001b[39m │ \u001b[90mFloat64\u001b[39m │ \u001b[90mFloat64\u001b[39m │ \u001b[90mFloat64\u001b[39m │ \u001b[90mFloat64\u001b[39m │\n",
       "├─────┼─────────┼─────────┼─────────┼─────────┼─────────┤\n",
       "│ 1   │ 0.0     │ 999.0   │ 1.0     │ 0.0     │ 0.0     │\n",
       "│ 2   │ 0.1     │ 999.0   │ 1.0     │ 0.0     │ 0.0     │\n",
       "│ 3   │ 0.2     │ 999.0   │ 1.0     │ 0.0     │ 0.0     │\n",
       "│ 4   │ 0.3     │ 999.0   │ 1.0     │ 0.0     │ 0.0     │\n",
       "│ 5   │ 0.4     │ 999.0   │ 1.0     │ 0.0     │ 0.0     │\n",
       "│ 6   │ 0.5     │ 999.0   │ 1.0     │ 0.0     │ 0.0     │"
      ]
     },
     "execution_count": 7,
     "metadata": {},
     "output_type": "execute_result"
    }
   ],
   "source": [
    "head(sir_out)"
   ]
  },
  {
   "cell_type": "markdown",
   "metadata": {},
   "source": [
    "#### Visualisation"
   ]
  },
  {
   "cell_type": "code",
   "execution_count": 8,
   "metadata": {},
   "outputs": [
    {
     "ename": "ArgumentError",
     "evalue": "ArgumentError: Package StatPlots not found in current path:\n- Run `import Pkg; Pkg.add(\"StatPlots\")` to install the StatPlots package.\n",
     "output_type": "error",
     "traceback": [
      "ArgumentError: Package StatPlots not found in current path:\n- Run `import Pkg; Pkg.add(\"StatPlots\")` to install the StatPlots package.\n",
      "",
      "Stacktrace:",
      " [1] require(::Module, ::Symbol) at ./loading.jl:820",
      " [2] top-level scope at In[8]:1"
     ]
    }
   ],
   "source": [
    "using Plots, StatPlots"
   ]
  },
  {
   "cell_type": "code",
   "execution_count": 9,
   "metadata": {},
   "outputs": [
    {
     "ename": "LoadError",
     "evalue": "UndefVarError: @df not defined",
     "output_type": "error",
     "traceback": [
      "UndefVarError: @df not defined",
      ""
     ]
    }
   ],
   "source": [
    "@df sir_out plot(:Time, [:S :I :R], colour = [:red :green :blue], xlabel=\"Time\",ylabel=\"Number\")"
   ]
  }
 ],
 "metadata": {
  "@webio": {
   "lastCommId": null,
   "lastKernelId": null
  },
  "kernelspec": {
   "display_name": "Julia 1.0.1",
   "language": "julia",
   "name": "julia-1.0"
  },
  "language_info": {
   "file_extension": ".jl",
   "mimetype": "application/julia",
   "name": "julia",
   "version": "1.0.1"
  }
 },
 "nbformat": 4,
 "nbformat_minor": 2
}
