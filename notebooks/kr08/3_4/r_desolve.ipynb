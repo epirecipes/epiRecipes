{
 "cells": [
  {
   "cell_type": "markdown",
   "metadata": {},
   "source": [
    "Program 3.4 from Keeling and Rohani \n",
    "----"
   ]
  },
  {
   "cell_type": "markdown",
   "metadata": {},
   "source": [
    "Author: Theresa Stocks @theresasophia\n",
    "\n",
    "Date: 2018-10-02\n",
    "\n",
    "*NOTE*: This does not exactly reproduce the figures from the Python code."
   ]
  },
  {
   "cell_type": "code",
   "execution_count": 1,
   "metadata": {},
   "outputs": [
    {
     "name": "stderr",
     "output_type": "stream",
     "text": [
      "\n",
      "Attaching package: ‘reshape’\n",
      "\n",
      "The following objects are masked from ‘package:tidyr’:\n",
      "\n",
      "    expand, smiths\n",
      "\n",
      "\n",
      "Attaching package: ‘magrittr’\n",
      "\n",
      "The following object is masked from ‘package:tidyr’:\n",
      "\n",
      "    extract\n",
      "\n",
      "\n",
      "Attaching package: ‘plyr’\n",
      "\n",
      "The following objects are masked from ‘package:reshape’:\n",
      "\n",
      "    rename, round_any\n",
      "\n",
      "\n",
      "Attaching package: ‘dplyr’\n",
      "\n",
      "The following objects are masked from ‘package:plyr’:\n",
      "\n",
      "    arrange, count, desc, failwith, id, mutate, rename, summarise,\n",
      "    summarize\n",
      "\n",
      "The following object is masked from ‘package:reshape’:\n",
      "\n",
      "    rename\n",
      "\n",
      "The following objects are masked from ‘package:stats’:\n",
      "\n",
      "    filter, lag\n",
      "\n",
      "The following objects are masked from ‘package:base’:\n",
      "\n",
      "    intersect, setdiff, setequal, union\n",
      "\n"
     ]
    }
   ],
   "source": [
    "#Loading all necessary libraries \n",
    "library(deSolve)\n",
    "library(tidyr)\n",
    "library(reshape)\n",
    "library(magrittr)\n",
    "library(plyr)\n",
    "library(ggplot2)\n",
    "library(deSolve)\n",
    "library(tidyr)\n",
    "library(dplyr)"
   ]
  },
  {
   "cell_type": "markdown",
   "metadata": {},
   "source": []
  },
  {
   "cell_type": "markdown",
   "metadata": {},
   "source": [
    "### Parameters"
   ]
  },
  {
   "cell_type": "code",
   "execution_count": 2,
   "metadata": {},
   "outputs": [],
   "source": [
    "m <- 4  #number of age classes\n",
    "mu <- c(0,0,0,1/(55*365)) #death rate in each age group; it is assumed that only adults die\n",
    "nu <- c(1/(55*365),0,0,0) #is the birth rate into the childhood class; it is assumed only adults give birth.\n",
    "n <- c(6,4,10,55)/75 # fraction in each age class (assumption that life expectancy is 75 years)\n",
    "S0 <- c(0.05,0.01,0.01,0.008) # inital value for number of susceptible\n",
    "E0 <- c(0.0001,0.0001,0.0001,0.0001) # inital value for number of exposed\n",
    "I0 <- c(0.0001,0.0001,0.0001,0.0001) # inital value for number of infectious\n",
    "R0 <- c(0.0298, 0.04313333, 0.12313333, 0.72513333) # inital value for number of recovered\n",
    "ND <- 365 # time to simulate\n",
    "beta <- matrix(c(2.089, 2.089, 2.086, 2.037, 2.089, 9.336, 2.086, 2.037, 2.086, 2.086, \n",
    "                 2.086, 2.037, 2.037, 2.037, 2.037, 2.037), nrow=4, ncol=4) # matrix of transmission rates\n",
    "gamma <- 1/5 # recovery rate\n",
    "sigma <- 1/8 # rate at which individuals move from the exposed to the infectious classes\n",
    "TS <- 1 # time step to simualte is days\n",
    "\n",
    "# combining parameter and initial values\n",
    "parms <- list(nu=nu, beta=beta, mu=mu, sigma=sigma, gamma=gamma)\n",
    "INPUT <- c(S0, E0, I0, R0)\n",
    "\n",
    "# constructing time vector\n",
    "t_start <- 0 # starting time\n",
    "t_end <- ND - 1 # ending time\n",
    "t_inc <- TS #time increment\n",
    "t_range <- seq(from= t_start, to=t_end+t_inc, by=t_inc) # vector with time steps"
   ]
  },
  {
   "cell_type": "markdown",
   "metadata": {},
   "source": [
    "### Differential Equations"
   ]
  },
  {
   "cell_type": "code",
   "execution_count": 3,
   "metadata": {},
   "outputs": [],
   "source": [
    "# differential equations\n",
    "diff_eqs <- function(times, Y, parms){\n",
    "  dY <- numeric(length(Y))\n",
    "  with(parms,{\n",
    "    # creates an empty matrix               \n",
    "    for(i in 1:m){\n",
    "      dY[i] <- nu[i]*n[4] -  beta[,i]%*%Y[2*m + seq(1:m)] * Y[i] - mu[i] * Y[i] # S_i\n",
    "      dY[m+i] <-  beta[,i] %*% Y[2*m + seq(1:m)] *Y[i] - mu[i] * Y[m+i] - sigma * Y[m+i] #E_i\n",
    "      dY[2*m+i] <- sigma * Y[m+i] - gamma * Y[2*m + i] - mu[i] * Y[2*m+i] #I_i\n",
    "      dY[3*m+i] <- gamma * Y[2*m+i] - mu[i] * Y[3*m + i] #R_i\n",
    "    }\n",
    "    list(dY) \n",
    "  })\n",
    "}"
   ]
  },
  {
   "cell_type": "markdown",
   "metadata": {},
   "source": [
    "### Ageing"
   ]
  },
  {
   "cell_type": "code",
   "execution_count": 4,
   "metadata": {},
   "outputs": [],
   "source": [
    "RES2=rep(0,17) #initalizing the result vector \n",
    "number_years <- 100 #set the number of years to simulate \n",
    "\n",
    "# initialize the loop\n",
    "k=1\n",
    "# yearly ageing\n",
    "for(k in 1:number_years) {\n",
    "  RES = lsoda(INPUT, t_range, diff_eqs, parms)\n",
    "  #taking the last entry as the the new input that then is propagated accoring to the aging\n",
    "  INPUT=RES[366,-1]\n",
    "  INPUT[16]=INPUT[16]+INPUT[15]/10\n",
    "  INPUT[15]=INPUT[15]+INPUT[14]/4-INPUT[15]/10\n",
    "  INPUT[14]=INPUT[14]+INPUT[13]/6-INPUT[14]/4\n",
    "  INPUT[13]=INPUT[13]-INPUT[13]/6\n",
    "\n",
    "  INPUT[12]=INPUT[12]+INPUT[11]/10\n",
    "  INPUT[11]=INPUT[11]+INPUT[10]/4-INPUT[11]/10\n",
    "  INPUT[10]=INPUT[10]+INPUT[9]/6-INPUT[10]/4\n",
    "  INPUT[9]=INPUT[9]-INPUT[9]/6\n",
    "  \n",
    "  INPUT[8]=INPUT[8]+INPUT[7]/10\n",
    "  INPUT[7]=INPUT[7]+INPUT[6]/4-INPUT[7]/10\n",
    "  INPUT[6]=INPUT[6]+INPUT[5]/6-INPUT[6]/4\n",
    "  INPUT[5]=INPUT[5]-INPUT[5]/6\n",
    "\n",
    "  INPUT[4]=INPUT[4]+INPUT[3]/10\n",
    "  INPUT[3]=INPUT[3]+INPUT[2]/4-INPUT[3]/10\n",
    "  INPUT[2]=INPUT[2]+INPUT[1]/6-INPUT[2]/4\n",
    "  INPUT[1]=INPUT[1]-INPUT[1]/6\n",
    "  RES2 <- rbind(RES2,RES)\n",
    "  k=k+1\n",
    "}"
   ]
  },
  {
   "cell_type": "markdown",
   "metadata": {},
   "source": [
    "### Plotting"
   ]
  },
  {
   "cell_type": "code",
   "execution_count": 5,
   "metadata": {},
   "outputs": [
    {
     "data": {},
     "metadata": {},
     "output_type": "display_data"
    },
    {
     "data": {
      "image/png": "[encoded data removed]",
      "text/plain": [
       "plot without title"
      ]
     },
     "metadata": {},
     "output_type": "display_data"
    }
   ],
   "source": [
    "#rescaling time to years\n",
    "time <- seq(from=0, to=100*(ND+1))/(ND+1)\n",
    "#changing time to the rescaled time\n",
    "RES2[ ,\"time\"] <- time\n",
    "\n",
    "#labeling of the output from ODE solver\n",
    "label <- c(\"S1\", \"S2\", \"S3\", \"S4\",\"E1\", \"E2\", \"E3\", \"E4\", \"I1\", \"I2\", \"I3\", \"I4\", \"R1\", \"R2\", \"R3\", \"R4\")\n",
    "label1 <- substr(label, 1, 1)\n",
    "Age <- substr(label, 2, 2)\n",
    "\n",
    "df <- data.frame(time = RES2[, 1],\n",
    "                 label1 = rep(label1, each =  nrow(RES2)),\n",
    "                 Age = rep(Age, each =  nrow(RES2)),\n",
    "                 value = c(RES2[, -1]))\n",
    "\n",
    "#plotting  the data\n",
    "df$label1 <- factor(df$label1, levels = c(\"S\",\"E\",\"I\",\"R\"))\n",
    "df$Age <- factor(df$Age)\n",
    "df %>% mutate(label1 = recode(label1, S = \"Susceptible\")) %>% \n",
    "       mutate(label1 = recode(label1, E = \"Exposed\")) %>% \n",
    "       mutate(label1 = recode(label1, I = \"Infectious\")) %>%\n",
    "       mutate(label1 = recode(label1, R = \"Recovered\"))  %>%\n",
    "       mutate(Age = recode(Age, \"1\" = \"0-6 years \")) %>%\n",
    "       mutate(Age = recode(Age, \"2\" = \"6-10 years \")) %>%\n",
    "       mutate(Age = recode(Age, \"3\" = \"10-20 years \")) %>%       \n",
    "       mutate(Age = recode(Age, \"4\" = \"20+ years \")) %>%  \n",
    "ggplot() +\n",
    "   geom_line(aes(x = time, y = value, color = Age)) +\n",
    "   facet_wrap( ~label1, ncol=1, scales =  \"free_y\")+ \n",
    "   xlab(\"Time (years)\") + ylab(\" Individuals\")"
   ]
  }
 ],
 "metadata": {
  "kernelspec": {
   "display_name": "R",
   "language": "R",
   "name": "ir"
  },
  "language_info": {
   "codemirror_mode": "r",
   "file_extension": ".r",
   "mimetype": "text/x-r-source",
   "name": "R",
   "pygments_lexer": "r",
   "version": "3.4.4"
  }
 },
 "nbformat": 4,
 "nbformat_minor": 2
}
