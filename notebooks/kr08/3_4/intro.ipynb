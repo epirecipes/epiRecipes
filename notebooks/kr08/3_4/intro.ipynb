{
 "cells": [
  {
   "cell_type": "markdown",
   "metadata": {},
   "source": [
    "## Program 3.4: Age structured SEIR\n",
    "\n",
    "Program 3.4 implement an SEIR model with four age-classes and yearly aging, closely matching the implications of grouping individuals into school cohorts. The four age-classes modelled are 0-6, 6-10, 10-20 and 20+ years old.\n",
    "Key to this model are two basic assumptions:\n",
    "\n",
    "1. Only individuals in the adult class give birth, and only individuals in the adult class die.\n",
    "\n",
    "2. Births and deaths are continuous, but aging only happens once per year.\n",
    "\n",
    "### References\n",
    "\n",
    "[Keeling and Rohani](http://www.modelinginfectiousdiseases.org)"
   ]
  }
 ],
 "metadata": {
  "kernelspec": {
   "display_name": "Python 3",
   "language": "python",
   "name": "python3"
  },
  "language_info": {
   "codemirror_mode": {
    "name": "ipython",
    "version": 3
   },
   "file_extension": ".py",
   "mimetype": "text/x-python",
   "name": "python",
   "nbconvert_exporter": "python",
   "pygments_lexer": "ipython3",
   "version": "3.5.2"
  }
 },
 "nbformat": 4,
 "nbformat_minor": 2
}
