{
 "cells": [
  {
   "cell_type": "markdown",
   "metadata": {},
   "source": [
    "## Program 4.4: Multi-host SIR model"
   ]
  },
  {
   "cell_type": "markdown",
   "metadata": {},
   "source": [
    "This is an example of a multi-host SIR model where there are two hosts (humans and mosquitoes). Transmissions within human or mosquito populations is also possible. It is adapted from a MATLAB code example in Keeling & Rohani.\n",
    "\n",
    "$\\frac{dX_H}{dt}=\\nu_H-r(T_{HM}Y_M+T_{HH}Y_H)X_H-\\mu_HX_H$\n",
    "\n",
    "$\\frac{dX_M}{dt}=\\nu_M-r(T_{MH}Y_H+T_{MM}Y_M)X_M-\\mu_MX_M$\n",
    "\n",
    "$\\frac{dY_H}{dt}=r(T_{HM}Y_M+T_{HH}Y_H)X_H-\\mu_HY_H-\\gamma_HY_H$\n",
    "\n",
    "$\\frac{dY_M}{dt}=r(T_{MH}Y_H+T_{MM}Y_M)X_M-\\mu_MY_M-\\gamma_MY_M$\n",
    "\n",
    "where:\n",
    "\n",
    "$X_H$ & $X_M$ are the human and mosquito susceptible populations and $Y_H$ & $Y_M$ are the infected ones.\n",
    "$\\nu_H$ & $\\nu_M$ are the birth rates of humans and mosquitoes.\n",
    "$r$ is the mosquito biting rate of humans.\n",
    "$T$ is a 2x2 matrix of transmission probabilities between and within human($H$) and mosquito($M$) populations.\n",
    "$\\mu_H$ & $\\mu_M$ are the per capita death rate of humans and mosquitoes.\n",
    "$\\gamma_H$ & $\\gamma_M$ are the recovery rates of humans and mosquitoes.\n"
   ]
  },
  {
   "cell_type": "markdown",
   "metadata": {},
   "source": [
    "### References"
   ]
  },
  {
   "cell_type": "markdown",
   "metadata": {},
   "source": [
    "- [Program 4.4 from Keeling & Rohani (2007)](http://homepages.warwick.ac.uk/~masfz/ModelingInfectiousDiseases/Chapter4/Program_4.4/Program_4_4.m)"
   ]
  }
 ],
 "metadata": {
  "kernelspec": {
   "display_name": "R",
   "language": "R",
   "name": "ir"
  },
  "language_info": {
   "codemirror_mode": "r",
   "file_extension": ".r",
   "mimetype": "text/x-r-source",
   "name": "R",
   "pygments_lexer": "r",
   "version": "3.4.4"
  }
 },
 "nbformat": 4,
 "nbformat_minor": 2
}
