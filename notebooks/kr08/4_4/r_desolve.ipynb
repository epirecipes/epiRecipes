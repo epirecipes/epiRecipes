{
 "cells": [
  {
   "cell_type": "markdown",
   "metadata": {},
   "source": [
    "## Program 4.4 Multi-host SIR model (R using deSolve)"
   ]
  },
  {
   "cell_type": "markdown",
   "metadata": {},
   "source": [
    "*Author*: Timothy M Pollington @t-pollington\n",
    "\n",
    "*Date*: 2018-10-03"
   ]
  },
  {
   "cell_type": "markdown",
   "metadata": {},
   "source": [
    "# Simulation"
   ]
  },
  {
   "cell_type": "code",
   "execution_count": 1,
   "metadata": {},
   "outputs": [],
   "source": [
    "library(deSolve) #lsoda()\n",
    "library(reshape2) #melt()"
   ]
  },
  {
   "cell_type": "code",
   "execution_count": 2,
   "metadata": {},
   "outputs": [],
   "source": [
    "checkSize = function(param, L, W){\n",
    "  param_name = deparse(substitute(param))\n",
    "  param_size = dim(param)\n",
    "  if(is.null(param_size)){\n",
    "    print(paste0(\"Warning: \", param_name,\" is a scalar value, expanding to size \", L, \"x\", W, \".\"))\n",
    "    param = param*matrix(1,L,W)\n",
    "    param_size = dim(param)\n",
    "  }\n",
    "  else if(param_size[1]== W & param_size[2]==L & W!=L){\n",
    "    print(paste0(\"Warning: \", param_name,\" was given in reverse dimension order, so transposing it before use...\"))\n",
    "    param = t(param)\n",
    "    param_size = dim(param)\n",
    "  }\n",
    "  else if(param_size[1]!=L | param_size[2]!=W){\n",
    "    print(paste0(\"Error: Parameter \",param_name,\" is of size \",param_size[1],\"x\",param_size[2],\" and not \",L, \"x\",W))\n",
    "    stop(\"See above message\")\n",
    "  }\n",
    "return(param)\n",
    "}\n",
    "\n",
    "checkGreaterOrEqual = function(param, bound.l){\n",
    "  if (sum(param<bound.l)>0) {\n",
    "    param_name = deparse(substitute(param))\n",
    "    print(paste0(\"Error: At least one of the values of \",param_name,\" is less than \",bound.l))\n",
    "    stop(\"See message above\")\n",
    "  }\n",
    "}"
   ]
  },
  {
   "cell_type": "code",
   "execution_count": 3,
   "metadata": {},
   "outputs": [],
   "source": [
    "sirODE = function(times,init,params){\n",
    "  with(as.list(c(params,init)), {\n",
    "    dXh = nu1-r*(Tr12*Ym+Tr11*Yh)*Xh-mu1*Xh\n",
    "    dXm = nu2-r*(Tr22*Ym+Tr21*Yh)*Xm-mu2*Xm\n",
    "    dYh = r*(Tr12*Ym+Tr11*Yh)*Xh-mu1*Yh-gamma1*Yh\n",
    "    dYm = r*(Tr22*Ym+Tr21*Yh)*Xm-mu2*Ym-gamma2*Ym\n",
    "    return(list(c(dXh,dXm,dYh,dYm)))\n",
    "  })\n",
    "}"
   ]
  },
  {
   "cell_type": "code",
   "execution_count": 4,
   "metadata": {},
   "outputs": [],
   "source": [
    "program4_4 = function (r=0.5/1e3,Tr=matrix(c(0,0.5,0.8,0),2,2,byrow = TRUE),gamma=c(0.033,0),mu=c(5.5e-5,0.143),nu=c(5.5e-2,1.443e3),X0=c(1e3,1e4),Y0=c(1,1),max_time=1000){\n",
    "  # Function contains default arguments if run as program4_4()\n",
    "    \n",
    "  # Check lengths/dimensions of inputs\n",
    "  r = ifelse(length(r)==1,r,stop(\"r is not a scalar.\"))\n",
    "  max_time = ifelse(length(max_time)==1,max_time,stop(\"max_time is not a scalar.\"))\n",
    "  Tr = checkSize(Tr,2,2)\n",
    "  gamma = checkSize(gamma,1,2)\n",
    "  mu = checkSize(mu,1,2)\n",
    "  nu = checkSize(nu,1,2)\n",
    "  X0 = checkSize(X0,1,2)\n",
    "  Y0 = checkSize(Y0,1,2)\n",
    "  \n",
    "  # Check parameter values are valid\n",
    "  checkGreaterOrEqual(r,0)\n",
    "  checkGreaterOrEqual(max_time,0)\n",
    "  checkGreaterOrEqual(Tr,0)\n",
    "  checkGreaterOrEqual(gamma,0)\n",
    "  checkGreaterOrEqual(mu,0)\n",
    "  checkGreaterOrEqual(nu,0)\n",
    "  checkGreaterOrEqual(X0,0)\n",
    "  checkGreaterOrEqual(Y0,0)\n",
    "  \n",
    "  if (Tr[1,1]!=0 | Tr[2,2]!=0) {\n",
    "    print(\"Warning: Transmission probability between human-human or mosquito-mosquito species (i.e. T's diagonal) is non-zero'\") # We print this warning as it is unusual to have non-zero T_HH & T_MM for basic vector models.\n",
    "  }\n",
    "  if (Tr[1,1]<0 | Tr[1,1]>1) {\n",
    "    stop(\"Human-to-human transmission probability is not between zero and 1.\")\n",
    "  }\n",
    "  if (Tr[2,2]<0 | Tr[2,2]>1) {\n",
    "    stop(\"Mosquito-to-mosquito transmission probability is not between zero and 1.\")\n",
    "  }\n",
    "  if (Tr[1,2]<0 | Tr[1,2]>1) {\n",
    "    stop(\"Human-to-mosquito transmission probability is not between zero and 1.\")\n",
    "  }\n",
    "  if (Tr[2,1]<0 | Tr[2,1]>1) {\n",
    "    stop(\"Mosquito-to-human transmission probability is not between zero and 1.\")\n",
    "  }\n",
    "\n",
    "  # ODE solver\n",
    "  params = c(nu[1],nu[2],r,Tr[1,1],Tr[1,2],Tr[2,1],Tr[2,2],mu[1],mu[2],gamma[1],gamma[2])\n",
    "  names(params) = c(\"nu1\",\"nu2\",\"r\",\"Tr11\",\"Tr12\",\"Tr21\",\"Tr22\",\"mu1\",\"mu2\",\"gamma1\",\"gamma2\")\n",
    "  init = c(X0[1],X0[2],Y0[1],Y0[2]) \n",
    "  names(init) = c(\"Xh\",\"Xm\",\"Yh\",\"Ym\")\n",
    "  times = seq(0,max_time,length.out=(max_time+1))\n",
    "  sir_out = lsoda(init,times,sirODE,params,rtol = 1e-5) # rtol matches the original MATLAB code   \n",
    "  return(sir_out)\n",
    "}    "
   ]
  },
  {
   "cell_type": "code",
   "execution_count": 5,
   "metadata": {},
   "outputs": [
    {
     "name": "stdout",
     "output_type": "stream",
     "text": [
      "[1] \"Warning: gamma is a scalar value, expanding to size 1x2.\"\n",
      "[1] \"Warning: mu is a scalar value, expanding to size 1x2.\"\n",
      "[1] \"Warning: nu is a scalar value, expanding to size 1x2.\"\n",
      "[1] \"Warning: X0 is a scalar value, expanding to size 1x2.\"\n",
      "[1] \"Warning: Y0 is a scalar value, expanding to size 1x2.\"\n"
     ]
    }
   ],
   "source": [
    "sir_out = program4_4() #Reproduces Keeling & Rohani's results as seen in their original MATLAB code."
   ]
  },
  {
   "cell_type": "markdown",
   "metadata": {},
   "source": [
    "# Benchmarking"
   ]
  },
  {
   "cell_type": "code",
   "execution_count": 6,
   "metadata": {},
   "outputs": [
    {
     "name": "stdout",
     "output_type": "stream",
     "text": [
      "[1] \"Warning: gamma is a scalar value, expanding to size 1x2.\"\n",
      "[1] \"Warning: mu is a scalar value, expanding to size 1x2.\"\n",
      "[1] \"Warning: nu is a scalar value, expanding to size 1x2.\"\n",
      "[1] \"Warning: X0 is a scalar value, expanding to size 1x2.\"\n",
      "[1] \"Warning: Y0 is a scalar value, expanding to size 1x2.\"\n"
     ]
    },
    {
     "data": {
      "text/plain": [
       "   user  system elapsed \n",
       "  0.278   0.000   0.278 "
      ]
     },
     "metadata": {},
     "output_type": "display_data"
    }
   ],
   "source": [
    "tic = proc.time()\n",
    "invisible(program4_4()) # invisible() hides function output, apart from warnings\n",
    "proc.time() - tic # ~0.1 secs on Dell Precision M2800 laptop"
   ]
  },
  {
   "cell_type": "markdown",
   "metadata": {},
   "source": [
    "# Visualisation"
   ]
  },
  {
   "cell_type": "code",
   "execution_count": 7,
   "metadata": {},
   "outputs": [],
   "source": [
    "library(ggplot2)\n",
    "library(gridExtra)"
   ]
  },
  {
   "cell_type": "code",
   "execution_count": 8,
   "metadata": {},
   "outputs": [
    {
     "data": {
      "image/png": "[encoded data removed]",
      "text/plain": [
       "plot without title"
      ]
     },
     "metadata": {},
     "output_type": "display_data"
    }
   ],
   "source": [
    "g1 = ggplot(as.data.frame(sir_out[,c(1,2)]),aes(x=time,y=Xh))+\n",
    "  geom_line(lwd=2,colour=\"green\")+\n",
    "  xlab(\"Time\")+ylab(\"Susceptible humans\")+\n",
    "  scale_y_log10()\n",
    "g2 = ggplot(as.data.frame(sir_out[,c(1,3)]),aes(x=time,y=Xm))+\n",
    "  geom_line(lwd=2,colour=\"green\")+\n",
    "  xlab(\"Time\")+ylab(\"Susceptible mosquitoes\")+\n",
    "  scale_y_log10()\n",
    "g3 = ggplot(as.data.frame(sir_out[,c(1,4)]),aes(x=time,y=Yh))+\n",
    "  geom_line(lwd=2,colour=\"red\")+\n",
    "  xlab(\"Time\")+ylab(\"Infected humans\")+\n",
    "  scale_y_log10()\n",
    "g4 = ggplot(as.data.frame(sir_out[,c(1,5)]),aes(x=time,y=Ym))+\n",
    "  geom_line(lwd=2,colour=\"red\")+\n",
    "  xlab(\"Time\")+ylab(\"Infected mosquitoes\")+\n",
    "  scale_y_log10()\n",
    "grid.arrange(g1, g2, g3, g4, ncol=2) #Reproduces Keeling & Rohani's plots as seen in their original MATLAB code."
   ]
  }
 ],
 "metadata": {
  "kernelspec": {
   "display_name": "R",
   "language": "R",
   "name": "ir"
  },
  "language_info": {
   "codemirror_mode": "r",
   "file_extension": ".r",
   "mimetype": "text/x-r-source",
   "name": "R",
   "pygments_lexer": "r",
   "version": "3.4.4"
  }
 },
 "nbformat": 4,
 "nbformat_minor": 2
}
