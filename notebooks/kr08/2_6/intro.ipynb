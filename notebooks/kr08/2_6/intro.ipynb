{
 "cells": [
  {
   "cell_type": "markdown",
   "metadata": {},
   "source": [
    "## Program 2.6: SEIR model\n",
    "\n",
    "Program 2.6 (page 41) of \"Modeling Infectious Diseases in Humans and Animals\" by Keeling and Rohani is the SEIR model with equal birth and death rates. Note we do not explicitly model the recovered class.\n",
    "\n",
    "*Reference*: http://www.modelinginfectiousdiseases.org/"
   ]
  }
 ],
 "metadata": {
  "kernelspec": {
   "display_name": "Python 3",
   "language": "python",
   "name": "python3"
  },
  "language_info": {
   "codemirror_mode": {
    "name": "ipython",
    "version": 3
   },
   "file_extension": ".py",
   "mimetype": "text/x-python",
   "name": "python",
   "nbconvert_exporter": "python",
   "pygments_lexer": "ipython3",
   "version": "3.5.2"
  }
 },
 "nbformat": 4,
 "nbformat_minor": 2
}
