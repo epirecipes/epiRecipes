{
 "cells": [
  {
   "cell_type": "markdown",
   "metadata": {},
   "source": [
    "## Seasonal SIRS model with demographic and extra-demographic noise\n",
    "\n",
    "This is a [stochastic, seasonal, discrete-time model of rotavirus transmission](https://arxiv.org/abs/1712.03058), and is slightly modified from the [original implementation](https://github.com/theresasophia/chapter_IFmethods), .\n",
    "\n",
    "### References\n",
    "\n",
    "- Held et al. (2019) Handbook of Infectious Disease Data Analysis (Chapman & Hall/CRC Handbooks of Modern Statistical Methods).\n",
    "- [Stocks (2017)](https://arxiv.org/abs/1712.03058)\n"
   ]
  }
 ],
 "metadata": {
  "kernelspec": {
   "display_name": "Python 3",
   "language": "python",
   "name": "python3"
  },
  "language_info": {
   "codemirror_mode": {
    "name": "ipython",
    "version": 3
   },
   "file_extension": ".py",
   "mimetype": "text/x-python",
   "name": "python",
   "nbconvert_exporter": "python",
   "pygments_lexer": "ipython3",
   "version": "3.5.2"
  }
 },
 "nbformat": 4,
 "nbformat_minor": 2
}
