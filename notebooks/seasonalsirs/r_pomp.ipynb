{
 "cells": [
  {
   "cell_type": "markdown",
   "metadata": {},
   "source": [
    "## Seasonal SIRS model with demographic and extra-demographic noise using POMP (in R)"
   ]
  },
  {
   "cell_type": "markdown",
   "metadata": {},
   "source": [
    "*Author:* Theresa Stocks\n",
    "\n",
    "*Date*: 2018-10-02"
   ]
  },
  {
   "cell_type": "code",
   "execution_count": 1,
   "metadata": {},
   "outputs": [
    {
     "name": "stderr",
     "output_type": "stream",
     "text": [
      "\n",
      "Attaching package: ‘dplyr’\n",
      "\n",
      "The following objects are masked from ‘package:plyr’:\n",
      "\n",
      "    arrange, count, desc, failwith, id, mutate, rename, summarise,\n",
      "    summarize\n",
      "\n",
      "The following objects are masked from ‘package:stats’:\n",
      "\n",
      "    filter, lag\n",
      "\n",
      "The following objects are masked from ‘package:base’:\n",
      "\n",
      "    intersect, setdiff, setequal, union\n",
      "\n"
     ]
    }
   ],
   "source": [
    "library(pomp)\n",
    "library(magrittr)\n",
    "library(plyr)\n",
    "library(reshape2)\n",
    "library(ggplot2)\n",
    "library(scales)\n",
    "library(dplyr)"
   ]
  },
  {
   "cell_type": "code",
   "execution_count": 2,
   "metadata": {},
   "outputs": [],
   "source": [
    "# measurement model \n",
    "dmeas <- Csnippet(\"lik =  dnbinom_mu(cases, 1/od, H, 1); \")\n",
    "rmeas <-  Csnippet(\"cases = rnbinom_mu(1/od,H);\")"
   ]
  },
  {
   "cell_type": "code",
   "execution_count": 3,
   "metadata": {},
   "outputs": [],
   "source": [
    "# transmission model is Markovian SIRS with 3 age classes, seasonal forcing and overdispersion\n",
    "sir.step <- Csnippet(\"double rate[7];\n",
    "                      double dN[7];\n",
    "                      double Beta1;\n",
    "                      double dW;\n",
    "                     \n",
    "                      // compute the environmental stochasticity\n",
    "                      dW = rgammawn(sigma,dt);\n",
    "                       \n",
    "                      Beta1 = beta1*(1 + beta11 * cos(M_2PI/52*t + phi)) * dW/dt;\n",
    "                      rate[0] = mu*N;\n",
    "                      rate[1] = Beta1*I/N;\n",
    "                      rate[2] = mu;\n",
    "                      rate[3] = gamma;\n",
    "                      rate[4] = mu;\n",
    "                      rate[5] = omega;\n",
    "                      rate[6] = mu;\n",
    "                      \n",
    "                      dN[0] = rpois(rate[0]*dt); // births are Poisson\n",
    "                      reulermultinom(2, S, &rate[1], dt, &dN[1]);\n",
    "                      reulermultinom(2, I, &rate[3], dt, &dN[3]);\n",
    "                      reulermultinom(2, R, &rate[5], dt, &dN[5]);\n",
    "                      S += dN[0] - dN[1] - dN[2] + dN[5];\n",
    "                      I += dN[1] - dN[3] - dN[4];\n",
    "                      R += dN[3] - dN[6] - dN[5];\n",
    "                      H += dN[1];\n",
    "                      \")"
   ]
  },
  {
   "cell_type": "code",
   "execution_count": 4,
   "metadata": {},
   "outputs": [],
   "source": [
    "# initializer\n",
    "init <- function(params, t0, ...) {\n",
    "  x0 <- c(S=0,I=0,R=0,H=0)\n",
    "  x0[\"S\"] <- 79807318\n",
    "  x0[\"I\"] <- 3683\n",
    "  x0[\"R\"] <- params[\"N\"] - x0[\"I\"] - x0[\"S\"]\n",
    "  round(x0) \n",
    "}"
   ]
  },
  {
   "cell_type": "code",
   "execution_count": 5,
   "metadata": {},
   "outputs": [],
   "source": [
    "# paramter vector with betas and inital data, unit is weeks\n",
    "params <- c(beta1=1, beta11=0.17, phi=0.1, gamma=1, mu=1/(75*52), N=80000000, \n",
    "            omega=1/(1*52), od=0.1, sigma=0.05)"
   ]
  },
  {
   "cell_type": "code",
   "execution_count": 6,
   "metadata": {},
   "outputs": [],
   "source": [
    "# create an empty data frame\n",
    "dat <- data.frame(times=seq(1:400), cases = rep(0, 400))"
   ]
  },
  {
   "cell_type": "code",
   "execution_count": 7,
   "metadata": {},
   "outputs": [],
   "source": [
    "#pomp object; initalize at t0 before t=0 so system can equilibrate\n",
    "pomp(data = dat,\n",
    "     times=\"times\",\n",
    "     t0=-100,\n",
    "     dmeasure = dmeas,\n",
    "     rmeasure = rmeas,\n",
    "     rprocess = euler.sim(step.fun = sir.step, delta.t = 1/10),\n",
    "     statenames = c(\"S\", \"I\", \"R\", \"H\"),\n",
    "     paramnames = names(params),\n",
    "     zeronames=c(\"H\"),\n",
    "     initializer=init,\n",
    "     params = params\n",
    ") -> sir"
   ]
  },
  {
   "cell_type": "code",
   "execution_count": 8,
   "metadata": {},
   "outputs": [],
   "source": [
    "#simulate one trajectory from the pomp object\n",
    "df <- simulate(sir, as.data.frame=TRUE, seed=123)\n",
    "# delete first row of the df because this is the accumulation of cases from t0 until t=0\n",
    "df <-df[-1,] \n",
    "# delete the last column of the df because this is the number of simulation\n",
    "df <- df[,-7]"
   ]
  },
  {
   "cell_type": "code",
   "execution_count": 9,
   "metadata": {},
   "outputs": [
    {
     "data": {},
     "metadata": {},
     "output_type": "display_data"
    },
    {
     "data": {
      "image/png": "[encoded data removed]",
      "text/plain": [
       "plot without title"
      ]
     },
     "metadata": {},
     "output_type": "display_data"
    }
   ],
   "source": [
    "# plotting the simulated trajectory\n",
    "df <-df%>% melt(id=\"time\")\n",
    "df$variable <- factor(df$variable)\n",
    "\n",
    "df %>% mutate(variable = recode(variable, cases = \"Cases\")) %>% \n",
    "  mutate(variable = recode(variable, S = \"Susceptible\")) %>% \n",
    "  mutate(variable = recode(variable, I = \"Infectious\")) %>% \n",
    "  mutate(variable = recode(variable, R = \"Recovered\")) %>% \n",
    "  mutate(variable = recode(variable, H = \"True incidence\")) %>% \n",
    "  ggplot() +\n",
    "  geom_line(aes(x = time, y = value)) +\n",
    "  facet_wrap( ~variable, ncol=1, scales =  \"free_y\")+ \n",
    "  xlab(\"Time (years)\") + ylab(\" Number of individuals\")"
   ]
  }
 ],
 "metadata": {
  "kernelspec": {
   "display_name": "R",
   "language": "R",
   "name": "ir"
  },
  "language_info": {
   "codemirror_mode": "r",
   "file_extension": ".r",
   "mimetype": "text/x-r-source",
   "name": "R",
   "pygments_lexer": "r",
   "version": "3.4.4"
  }
 },
 "nbformat": 4,
 "nbformat_minor": 2
}
