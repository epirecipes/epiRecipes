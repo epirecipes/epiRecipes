{
 "cells": [
  {
   "cell_type": "markdown",
   "metadata": {},
   "source": [
    "## Final size for SIR model\n",
    "\n",
    "Author: Sangeeta Bhatia @sangeetabhatia03\n",
    "\n",
    "Date: 2018-10-03"
   ]
  },
  {
   "cell_type": "markdown",
   "metadata": {},
   "source": [
    "This implementation is tested against the MATLAB implementation provided by the authors [here](https://www-sciencedirect-com.iclibezp1.cc.ic.ac.uk/science/article/pii/S0022519314006882#s0035). The following distribution was generated using their code."
   ]
  },
  {
   "cell_type": "code",
   "execution_count": 1,
   "metadata": {},
   "outputs": [],
   "source": [
    "## Test data generated using authors' code.\n",
    "N <- 10\n",
    "beta <- 2/(N-1);\n",
    "gamma1 <- 1;\n",
    "final_size1 <- c(0.00000, 0.33333, 0.08640, 0.04908, 0.03814, 0.03638, 0.04079, 0.05256, 0.07614, 0.11862, 0.16854)"
   ]
  },
  {
   "cell_type": "code",
   "execution_count": 2,
   "metadata": {},
   "outputs": [],
   "source": [
    "## Some more test data; extreme cases.\n",
    "## What if the recovery rate is 0?\n",
    "gamma2 <- 0\n",
    "final_size2 <- c(0, 0, 0, 0, 0, 0, 0, 0, 0, 0, 1)"
   ]
  },
  {
   "cell_type": "code",
   "execution_count": 3,
   "metadata": {},
   "outputs": [],
   "source": [
    "outbreak_size_distr <- function(N, beta, gamma) {\n",
    "    ## total number of possible states\n",
    "    nstates <- (N + 1) * (N + 2) / 2\n",
    "    ## empty vector to store outbreak size distribution\n",
    "    distr <- rep(0, N + 1)\n",
    "    ## probability distribution of states\n",
    "    p_states <- rep(0, nstates)\n",
    "    ## Start with 1 infection event. This could be \n",
    "    ## customised. Note that state 2 corresponds to\n",
    "    ## state (1, 0)\n",
    "    p_states[2] <- 1\n",
    "    ## counter to index over states\n",
    "    state <- 1\n",
    "    for (z2 in 0:N) {\n",
    "        distr[z2 + 1] <- p_states[state];\n",
    "        state <- state + 1;\n",
    "        if ((z2 + 1) > (N - 1)) {\n",
    "            next\n",
    "        }        \n",
    "        for (z1 in (z2 + 1): (N - 1)) {\n",
    "            p <- 1 / ( 1 + gamma/(beta*(N - z1)))\n",
    "            p_states[state + 1] <- p_states[state + 1] + p_states[state] * p\n",
    "            p_states[state + N - z2] <- p_states[state + N - z2] + p_states[state] * (1 - p)\n",
    "            state <- state + 1\n",
    "        }\n",
    "        if (z2 < N) {\n",
    "            p_states[state + N - z2] <- p_states[state + N - z2] + p_states[state] \n",
    "            state <- state + 1         \n",
    "        }\n",
    "\n",
    "    }\n",
    "    distr\n",
    "}"
   ]
  },
  {
   "cell_type": "code",
   "execution_count": 4,
   "metadata": {
    "scrolled": true
   },
   "outputs": [
    {
     "data": {
      "text/html": [
       "<ol class=list-inline>\n",
       "\t<li>0</li>\n",
       "\t<li>0.33333</li>\n",
       "\t<li>0.0864</li>\n",
       "\t<li>0.04908</li>\n",
       "\t<li>0.03814</li>\n",
       "\t<li>0.03638</li>\n",
       "\t<li>0.04079</li>\n",
       "\t<li>0.05256</li>\n",
       "\t<li>0.07614</li>\n",
       "\t<li>0.11862</li>\n",
       "\t<li>0.16854</li>\n",
       "</ol>\n"
      ],
      "text/latex": [
       "\\begin{enumerate*}\n",
       "\\item 0\n",
       "\\item 0.33333\n",
       "\\item 0.0864\n",
       "\\item 0.04908\n",
       "\\item 0.03814\n",
       "\\item 0.03638\n",
       "\\item 0.04079\n",
       "\\item 0.05256\n",
       "\\item 0.07614\n",
       "\\item 0.11862\n",
       "\\item 0.16854\n",
       "\\end{enumerate*}\n"
      ],
      "text/markdown": [
       "1. 0\n",
       "2. 0.33333\n",
       "3. 0.0864\n",
       "4. 0.04908\n",
       "5. 0.03814\n",
       "6. 0.03638\n",
       "7. 0.04079\n",
       "8. 0.05256\n",
       "9. 0.07614\n",
       "10. 0.11862\n",
       "11. 0.16854\n",
       "\n",
       "\n"
      ],
      "text/plain": [
       " [1] 0.00000 0.33333 0.08640 0.04908 0.03814 0.03638 0.04079 0.05256 0.07614\n",
       "[10] 0.11862 0.16854"
      ]
     },
     "metadata": {},
     "output_type": "display_data"
    }
   ],
   "source": [
    "distr <- outbreak_size_distr(N = 10, beta = 2/9, gamma = 1)\n",
    "distr <- round(distr, 5)\n",
    "distr"
   ]
  },
  {
   "cell_type": "code",
   "execution_count": 5,
   "metadata": {},
   "outputs": [],
   "source": [
    "library(testthat)\n",
    "testthat::expect_equal(distr, final_size1)"
   ]
  },
  {
   "cell_type": "code",
   "execution_count": 6,
   "metadata": {},
   "outputs": [
    {
     "data": {
      "text/html": [
       "<ol class=list-inline>\n",
       "\t<li>0</li>\n",
       "\t<li>0</li>\n",
       "\t<li>0</li>\n",
       "\t<li>0</li>\n",
       "\t<li>0</li>\n",
       "\t<li>0</li>\n",
       "\t<li>0</li>\n",
       "\t<li>0</li>\n",
       "\t<li>0</li>\n",
       "\t<li>0</li>\n",
       "\t<li>1</li>\n",
       "</ol>\n"
      ],
      "text/latex": [
       "\\begin{enumerate*}\n",
       "\\item 0\n",
       "\\item 0\n",
       "\\item 0\n",
       "\\item 0\n",
       "\\item 0\n",
       "\\item 0\n",
       "\\item 0\n",
       "\\item 0\n",
       "\\item 0\n",
       "\\item 0\n",
       "\\item 1\n",
       "\\end{enumerate*}\n"
      ],
      "text/markdown": [
       "1. 0\n",
       "2. 0\n",
       "3. 0\n",
       "4. 0\n",
       "5. 0\n",
       "6. 0\n",
       "7. 0\n",
       "8. 0\n",
       "9. 0\n",
       "10. 0\n",
       "11. 1\n",
       "\n",
       "\n"
      ],
      "text/plain": [
       " [1] 0 0 0 0 0 0 0 0 0 0 1"
      ]
     },
     "metadata": {},
     "output_type": "display_data"
    }
   ],
   "source": [
    "distr <- outbreak_size_distr(N = 10, beta = 2/9, gamma = 0)\n",
    "distr <- round(distr, 5)\n",
    "distr"
   ]
  },
  {
   "cell_type": "code",
   "execution_count": 7,
   "metadata": {},
   "outputs": [],
   "source": [
    "testthat::expect_equal(distr, final_size2)"
   ]
  },
  {
   "cell_type": "markdown",
   "metadata": {},
   "source": [
    "So we have convinced ourselves that everything works as expected. We can play around with the parameters.\n",
    "For a given value of N and gamma, how does beta influence the outbreak size distribution?"
   ]
  },
  {
   "cell_type": "code",
   "execution_count": 8,
   "metadata": {},
   "outputs": [],
   "source": [
    "N <- 100\n",
    "beta <- seq(from = 10, to = 100, by = 50) / (N - 1)\n",
    "gamma <- 1\n",
    "final_distr <- lapply(beta, function(b) outbreak_size_distr(N, beta = b, gamma))"
   ]
  },
  {
   "cell_type": "code",
   "execution_count": 9,
   "metadata": {},
   "outputs": [],
   "source": [
    "library(ggplot2)"
   ]
  },
  {
   "cell_type": "code",
   "execution_count": 10,
   "metadata": {},
   "outputs": [],
   "source": [
    "results <- data.frame()\n",
    "for (i in seq_along(beta)) {\n",
    "    results <- rbind(results, data.frame(infection_rate = rep(beta[i], N + 1), \n",
    "                                         distr = final_distr[[i]]))\n",
    "}\n",
    "results$infection_rate <- factor(results$infection_rate)"
   ]
  },
  {
   "cell_type": "code",
   "execution_count": 11,
   "metadata": {},
   "outputs": [
    {
     "data": {},
     "metadata": {},
     "output_type": "display_data"
    },
    {
     "data": {
      "image/png": "[encoded data removed]",
      "text/plain": [
       "plot without title"
      ]
     },
     "metadata": {},
     "output_type": "display_data"
    }
   ],
   "source": [
    "library(ggplot2)\n",
    "x <- rep(0:N, length(beta))\n",
    "ggplot(results, aes(x, distr, fill = infection_rate)) +\n",
    "  geom_col(position = \"dodge\") +\n",
    "  ylim(c(0, 1))"
   ]
  },
  {
   "cell_type": "markdown",
   "metadata": {},
   "source": [
    "Thus the probability of the final size of the outbreak being very small or very large is high and close to 0 for anything in between. \n",
    "What if we change the recovery rate?"
   ]
  },
  {
   "cell_type": "code",
   "execution_count": 12,
   "metadata": {},
   "outputs": [
    {
     "data": {},
     "metadata": {},
     "output_type": "display_data"
    },
    {
     "data": {
      "image/png": "[encoded data removed]",
      "text/plain": [
       "plot without title"
      ]
     },
     "metadata": {},
     "output_type": "display_data"
    }
   ],
   "source": [
    "N <- 100\n",
    "beta <- 99 / (N - 1)\n",
    "gamma <- beta / c(1, 100)\n",
    "final_distr <- lapply(gamma, function(g) outbreak_size_distr(N, beta, gamma = g))\n",
    "results <- data.frame()\n",
    "for (i in seq_along(gamma)) {\n",
    "    results <- rbind(results, data.frame(recovery_rate = rep(gamma[i], N + 1), \n",
    "                                         distr = final_distr[[i]]))\n",
    "}\n",
    "results$recovery_rate <- factor(results$recovery_rate)\n",
    "x <- rep(0:N, length(gamma))\n",
    "ggplot(results, aes(x, distr, fill = recovery_rate)) +\n",
    "  geom_col(position = \"dodge\")                   "
   ]
  }
 ],
 "metadata": {
  "kernelspec": {
   "display_name": "R",
   "language": "R",
   "name": "ir"
  },
  "language_info": {
   "codemirror_mode": "r",
   "file_extension": ".r",
   "mimetype": "text/x-r-source",
   "name": "R",
   "pygments_lexer": "r",
   "version": "3.4.4"
  }
 },
 "nbformat": 4,
 "nbformat_minor": 2
}
