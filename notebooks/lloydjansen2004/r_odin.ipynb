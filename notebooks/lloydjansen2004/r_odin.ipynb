{
 "cells": [
  {
   "cell_type": "markdown",
   "metadata": {},
   "source": [
    "## Metapopulation SEIR model with cross-coupling and/or migration\n",
    "    \n",
    "*Author*: Constanze Ciavarella @ConniCia\n",
    "\n",
    "*Date*: 2018-10-02"
   ]
  },
  {
   "cell_type": "markdown",
   "metadata": {},
   "source": [
    "## Requirements\n",
    "To use odin, we need to install the package along with its dependencies. This is done using the following commands:"
   ]
  },
  {
   "cell_type": "code",
   "execution_count": 1,
   "metadata": {},
   "outputs": [
    {
     "name": "stderr",
     "output_type": "stream",
     "text": [
      "Loading required package: drat\n",
      "Installing package into ‘/home/simon/R/x86_64-pc-linux-gnu-library/3.4’\n",
      "(as ‘lib’ is unspecified)\n",
      "Installing package into ‘/home/simon/R/x86_64-pc-linux-gnu-library/3.4’\n",
      "(as ‘lib’ is unspecified)\n"
     ]
    }
   ],
   "source": [
    "if (!require(\"drat\")) install.packages(\"drat\")\n",
    "drat:::add(\"mrc-ide\")\n",
    "install.packages(\"dde\")\n",
    "install.packages(\"odin\")"
   ]
  },
  {
   "cell_type": "markdown",
   "metadata": {},
   "source": [
    "We also define the following helper functions:"
   ]
  },
  {
   "cell_type": "code",
   "execution_count": 2,
   "metadata": {},
   "outputs": [],
   "source": [
    "# beta matrix: random initialisation -----------------------------------------------------\n",
    "beta.mat <- function (nr_patches) {\n",
    "  ## beta: positive, non-symmetric matrix of effective contact rates\n",
    "  ## values are higher on the diagonal (transmission is higher *within*-patch),\n",
    "  ## values decrease gradually further away from the diagonal (*between*-patch transmission)\n",
    "  beta <- matrix(0, nrow=nr_patches, ncol=nr_patches)\n",
    "  for (i in 0:(nr_patches-1)) {\n",
    "    ## superdiagonal: scale vector s.t. numbers decrease further away from diagonal\n",
    "    rand.vec <- rnorm(nr_patches-i, 10 * (nr_patches-i)/nr_patches, 2)\n",
    "    beta[row(beta) == col(beta) - i] <- rand.vec\n",
    "    ## subdiagonal\n",
    "    rand.vec <- rnorm(nr_patches-i, 10 * (nr_patches-i)/nr_patches, 2)\n",
    "    beta[row(beta) == col(beta) - i] <- rand.vec\n",
    "  }\n",
    "  return(beta)\n",
    "}\n",
    "\n",
    "# mobility matrix: random initialisation -----------------------------------------------------\n",
    "mob.mat <- function (nr_patches) {\n",
    "  ## mobility matrix (origin-destination matrix of proportion of population that travels) #TODO trip counts or relative?\n",
    "  C <- matrix(0, nrow=nr_patches, ncol=nr_patches)\n",
    "  if (nr_patches > 1) {\n",
    "    diag(C) <- -sample(1:25, nr_patches, replace=TRUE)\n",
    "    for (i in 1:nr_patches) {\n",
    "      C[i, which(C[i, ] == 0)] <- rmultinom(n = 1, size = -C[i,i], prob = rep(1, nr_patches-1))\n",
    "    }\n",
    "    C <- C/100\n",
    "  }\n",
    "  return(C)\n",
    "}\n",
    "\n",
    "# plotting --------------------------------------------------------------------#\n",
    "plot.pretty <- function(out, nr_patches, what) {\n",
    "  \n",
    "  # plot total densities by disease status --------------------------------------#\n",
    "  if (what == \"total\") {\n",
    "    ## compute total densities by disease status\n",
    "    S_tot <- rowSums(out$S) / nr_patches\n",
    "    E_tot <- rowSums(out$E) / nr_patches\n",
    "    I_tot <- rowSums(out$I) / nr_patches\n",
    "    R_tot <- rowSums(out$R) / nr_patches\n",
    "    \n",
    "    ## plot total densities by disease status\n",
    "    par(mfrow=c(1, 1), las=1, omi=c(1,0,0,0), xpd=NA)\n",
    "    plot( t, S_tot, col=\"green\",\n",
    "          type=\"l\", xlab=\"Days\", ylab=\"Densities\",\n",
    "          main=\"Total densities by disease status\")\n",
    "    lines(t, E_tot, col=\"orange\")\n",
    "    lines(t, I_tot, col=\"red\")\n",
    "    lines(t, R_tot, col=\"blue\")\n",
    "    legend(-8.5, -0.3, title=\"Disease statuses\", horiz=TRUE,\n",
    "           legend=c(\"Susceptible\", \"Exposed\", \"Infectious\", \"Recovered\"),\n",
    "           col=c(\"green\", \"orange\", \"red\", \"blue\"), lty=1)\n",
    "  }\n",
    "  \n",
    "  # plot densities of some patches by disease status ----------------------------#\n",
    "  if (what == \"panels\") {\n",
    "    ## define the plot panels\n",
    "    if (nr_patches >= 6) {\n",
    "      mfrow=c(2, 3)\n",
    "      panels <- as.integer( seq(1, nr_patches, length.out=6))\n",
    "    } else if (nr_patches >= 4) {\n",
    "      mfrow=c(2, 2)\n",
    "      panels <- as.integer( seq(1, nr_patches, length.out=4))\n",
    "    } else {\n",
    "      mfrow=c(1, nr_patches)\n",
    "      panels <- 1:nr_patches\n",
    "    }\n",
    "    par(mfrow=mfrow, las=1, omi=c(1,0,0.3,0), xpd=NA)\n",
    "    \n",
    "    ## plot the disease statuses of some patches\n",
    "    ymax <- max(out$N[, panels])\n",
    "    for (i in panels) {\n",
    "      plot (t, out$S[, i], col=\"green\", ylim=c(0, ymax),\n",
    "            type=\"l\", xlab=\"Days\", ylab=\"Densities\",\n",
    "            main=paste(\"Patch \", i))\n",
    "      lines(t, out$E[, i], col=\"orange\")\n",
    "      lines(t, out$I[, i], col=\"red\")\n",
    "      lines(t, out$R[, i], col=\"blue\")\n",
    "    }\n",
    "    title(\"Densities by disease status\", outer=TRUE)\n",
    "    legend(-130, -1.2, title=\"Disease statuses\", horiz=TRUE,\n",
    "           legend=c(\"Susceptible\", \"Exposed\", \"Infectious\", \"Recovered\"),\n",
    "           col=c(\"green\", \"orange\", \"red\", \"blue\"), lty=1)\n",
    "  }\n",
    "  \n",
    "}"
   ]
  },
  {
   "cell_type": "markdown",
   "metadata": {},
   "source": [
    "The model is specified in odin as:"
   ]
  },
  {
   "cell_type": "code",
   "execution_count": 3,
   "metadata": {},
   "outputs": [
    {
     "name": "stderr",
     "output_type": "stream",
     "text": [
      "Compiling shared library\n"
     ]
    },
    {
     "name": "stdout",
     "output_type": "stream",
     "text": [
      "gcc -I/usr/local/lib/R/include -DNDEBUG   -I/usr/local/include   -fpic  -g -O2  -c odin.c -o odin.o\n",
      "g++ -shared -L/usr/local/lib/R/lib -L/usr/local/lib -o odin_b0e443ee.so odin.o -L/usr/local/lib/R/lib -lR\n"
     ]
    }
   ],
   "source": [
    "SEIR_cont <- odin::odin({\n",
    "  nr_patches <- user()\n",
    "  n <- nr_patches\n",
    "  \n",
    "  ## Params\n",
    "  lambda_prod[ , ] <- beta[i, j] * I[j]\n",
    "  lambda[] <- sum(lambda_prod[i, ]) # rowSums\n",
    "  \n",
    "  mob_prod[ , ] <- S[i] * C[i, j]\n",
    "  mob_S[] <- sum(mob_prod[, i])     # colSums\n",
    "  mob_prod[ , ] <- E[i] * C[i, j]\n",
    "  mob_E[] <- sum(mob_prod[, i])\n",
    "  mob_prod[ , ] <- I[i] * C[i, j]\n",
    "  mob_I[] <- sum(mob_prod[, i])\n",
    "  mob_prod[ , ] <- R[i] * C[i, j]\n",
    "  mob_R[] <- sum(mob_prod[, i])\n",
    "  \n",
    "  N[] <- S[i] + E[i] + I[i] + R[i]\n",
    "  output(N[]) <- TRUE\n",
    "  \n",
    "  ## Derivatives\n",
    "  deriv(S[]) <- mu - mu*S[i] - S[i]*lambda[i]         + M[1] * mob_S[i]\n",
    "  deriv(E[]) <- S[i]*lambda[i] - (mu + sigma) * E[i]  + M[2] * mob_E[i]\n",
    "  deriv(I[]) <- sigma*E[i] - (mu + gamma)*I[i]        + M[3] * mob_I[i]\n",
    "  deriv(R[]) <- gamma*I[i] - mu*R[i]                  + M[4] * mob_R[i]\n",
    "  \n",
    "  ## Initial conditions\n",
    "  initial(S[]) <- 1.0 - 1E-6\n",
    "  initial(E[]) <- 0.0\n",
    "  initial(I[]) <- 1E-6\n",
    "  initial(R[]) <- 0.0\n",
    "  \n",
    "  ## parameters\n",
    "  beta[,] <- user()   # effective contact rate\n",
    "  sigma   <- 1/3      # rate of breakdown to active disease\n",
    "  gamma   <- 1/3      # rate of recovery from active disease\n",
    "  mu      <- 1/10     # background mortality\n",
    "  C[,]    <- user()   # origin-destination matrix of proportion of population that travels\n",
    "  M[]     <- user()   # relative migration propensity by disease status\n",
    "  \n",
    "  ## dimensions\n",
    "  dim(beta)        <- c(n, n)\n",
    "  dim(C)           <- c(n, n)\n",
    "  dim(M)           <- 4\n",
    "  dim(lambda_prod) <- c(n, n)\n",
    "  dim(lambda)      <- n\n",
    "  dim(mob_prod)    <- c(n, n)\n",
    "  dim(mob_S)       <- n\n",
    "  dim(mob_E)       <- n\n",
    "  dim(mob_I)       <- n\n",
    "  dim(mob_R)       <- n\n",
    "  dim(S)           <- n\n",
    "  dim(E)           <- n\n",
    "  dim(I)           <- n\n",
    "  dim(R)           <- n\n",
    "  dim(N)           <- n\n",
    "  \n",
    "})"
   ]
  },
  {
   "cell_type": "markdown",
   "metadata": {},
   "source": [
    "## Running the model\n",
    "\n",
    "We first define the user-specified parameters. The default values provided below all satisfy model requirements, but can be changed if needed."
   ]
  },
  {
   "cell_type": "code",
   "execution_count": 4,
   "metadata": {},
   "outputs": [],
   "source": [
    "# set seed\n",
    "set.seed(1)\n",
    "\n",
    "# SEIR free parameters --------------------------------------------------------#\n",
    "## total number of patches in the model\n",
    "nr_patches = 20\n",
    "## relative migration propensity by disease status (S, E, I, R)\n",
    "M <- c(1, 0.5, 1, 1)\n",
    "## matrix of effective contact rates\n",
    "beta <- beta.mat(nr_patches)\n",
    "## mobility matrix\n",
    "C <- mob.mat(nr_patches)"
   ]
  },
  {
   "cell_type": "markdown",
   "metadata": {},
   "source": [
    "Now we run the model. Note that each patch is initialised with the same population size. We also run a test to make sure that the total population size has remained constant throughout the simulation."
   ]
  },
  {
   "cell_type": "code",
   "execution_count": 5,
   "metadata": {},
   "outputs": [],
   "source": [
    "# run SEIR model --------------------------------------------------------------#\n",
    "mod <- SEIR_cont(nr_patches=nr_patches, beta=beta, C=C, M=M)\n",
    "t <- seq(0, 50, length.out=50000)\n",
    "out <- mod$run(t)\n",
    "out <- mod$transform_variables(out)\n",
    "# error check -----------------------------------------------------------------#\n",
    "if ( ! all( abs(rowSums(out$N) - nr_patches) < 1E-10 ) )\n",
    "  warning(\"Something went wrong, density is increasing/decreasing!\\n\")"
   ]
  },
  {
   "cell_type": "markdown",
   "metadata": {},
   "source": [
    "Now we can plot the disease dynamics in the total population."
   ]
  },
  {
   "cell_type": "code",
   "execution_count": 6,
   "metadata": {},
   "outputs": [
    {
     "data": {
      "image/png": "[encoded data removed]",
      "text/plain": [
       "Plot with title “Total densities by disease status”"
      ]
     },
     "metadata": {},
     "output_type": "display_data"
    }
   ],
   "source": [
    "# plot total densities by disease status --------------------------------------#\n",
    "plot.pretty(out, nr_patches, \"total\")"
   ]
  },
  {
   "cell_type": "markdown",
   "metadata": {},
   "source": [
    "We can also plot the disease dynamics of some of the patches. Dynmics between patches may vary due to cross-coupling and migration rates."
   ]
  },
  {
   "cell_type": "code",
   "execution_count": 7,
   "metadata": {},
   "outputs": [
    {
     "data": {
      "image/png": "[encoded data removed]",
      "text/plain": [
       "Plot with title “Densities by disease status”"
      ]
     },
     "metadata": {},
     "output_type": "display_data"
    }
   ],
   "source": [
    "# plot densities of some patches by disease status ----------------------------#\n",
    "plot.pretty(out, nr_patches, \"panels\")"
   ]
  }
 ],
 "metadata": {
  "kernelspec": {
   "display_name": "R",
   "language": "R",
   "name": "ir"
  },
  "language_info": {
   "codemirror_mode": "r",
   "file_extension": ".r",
   "mimetype": "text/x-r-source",
   "name": "R",
   "pygments_lexer": "r",
   "version": "3.4.4"
  }
 },
 "nbformat": 4,
 "nbformat_minor": 2
}
