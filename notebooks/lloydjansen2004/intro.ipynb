{
 "cells": [
  {
   "cell_type": "markdown",
   "metadata": {},
   "source": [
    "## Metapopulation SEIR model\n",
    "\n",
    "*Author*: Constanze Ciavarella @ConniCia\n",
    "\n",
    "*Date*: 2018-10-02\n",
    "\n",
    "This code combines two deterministic metapopulation SEIR models as described in [Lloyd & Jansen (2004)](https://doi.org/10.1016/j.mbs.2003.09.003).\n",
    "\n",
    "### Cross-coupling between patches - Equations (8-10)\n",
    "\n",
    "Cross-coupling is controlled through matrix $\\beta$, describing the effective contact rates acting within and between patches.\n",
    "\n",
    "Setting the off-diagonal elements of $\\beta$ to zero, we switch off cross-coupling across patches.\n",
    "\n",
    "\n",
    "### Migration between patches - Equations (11-13)\n",
    "\n",
    "Matrix $C$ must be such that the elements on the diagonal, denoting outflow of each patch, are negative. Element $c_{ij}$ describes the flow from patch $i$ to patch $j$. For each row, the sum all elements on the row is 0.\n",
    "\n",
    "Setting all elements of $C$ to zero, we switch off migration between patches.\n",
    "\n",
    "### Model description\n",
    "\n",
    "This model consists of many SEIR models connected through between-patch contact and/or migration of individuals between patches. The model has a constant total population size, which means that births and deaths correspond at each time step.\n",
    "\n",
    "- $n$ = number of patches\n",
    "- $S_1, ..., S_n$ = susceptibles in patches $1, ..., n$\n",
    "- $E_1, ..., E_n$ = exposed in patches $1, ..., n$\n",
    "- $I_1, ..., I_n$ = infectious in patches $1, ..., n$\n",
    "- $R_1, ..., R_n$ = recovered in patches $1, ..., n$\n",
    "- $\\beta_{ij}$ = effective contact rate of infected individuals of patch $i$ to susceptible individuals of patch $j$\n",
    "- $c_{ii}$ = outflow of patch $i$\n",
    "- $c_{ij}, i \\neq j$ = flow from patch $i$ to patch $j$\n",
    "- $\\sigma$ = rate of breakdown to active (and infectious) disease\n",
    "- $\\gamma$ = rate of recovery from active disease\n",
    "- $\\mu$ = background mortality/birth rate\n",
    "\n",
    "The model will be written as\n",
    "$$\n",
    "\\begin{aligned}\n",
    "&S_i' = \\mu - \\mu S_i - S_i \\, \\sum_{j=1}^n \\, \\beta_{ij} \\, I_j + \\, m_S * (S_1 * c_{1i} \\, + ... + \\, S_n * c_{ni})\\\\\n",
    "&E_i' = S_i \\sum_{j=1}^n \\beta_{ij} \\, I_j - (\\mu + \\sigma) \\, E_i + \\, m_E * (E_1 * c_{1i} \\, + ... + \\, E_n * c_{ni})\\\\\n",
    "&I_i' = \\sigma \\, E_i - (\\mu + \\gamma) \\, I_i + \\, m_I * (I_1 * c_{1i} \\, + ... + \\, I_n * c_{ni})\\\\\n",
    "&R_i' = \\gamma \\, I_i - \\mu \\, R_i + \\, m_R * (R_1 * c_{1i} \\, + ... + \\, R_n * c_{ni})\n",
    "\\end{aligned}\n",
    "$$\n",
    "\n",
    "### References\n",
    "\n",
    "- [Lloyd & Jansen (2004)](https://doi.org/10.1016/j.mbs.2003.09.003)"
   ]
  }
 ],
 "metadata": {
  "kernelspec": {
   "display_name": "Python 3",
   "language": "python",
   "name": "python3"
  },
  "language_info": {
   "codemirror_mode": {
    "name": "ipython",
    "version": 3
   },
   "file_extension": ".py",
   "mimetype": "text/x-python",
   "name": "python",
   "nbconvert_exporter": "python",
   "pygments_lexer": "ipython3",
   "version": "3.5.2"
  }
 },
 "nbformat": 4,
 "nbformat_minor": 2
}
