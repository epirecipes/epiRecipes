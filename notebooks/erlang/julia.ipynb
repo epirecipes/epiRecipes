{
 "cells": [
  {
   "cell_type": "markdown",
   "metadata": {},
   "source": [
    "# Discrete stochastic Erlang epidemic model"
   ]
  },
  {
   "cell_type": "markdown",
   "metadata": {},
   "source": [
    "Author: Lam Ha @lamhm\n",
    "\n",
    "Date: 2018-10-03"
   ]
  },
  {
   "cell_type": "markdown",
   "metadata": {},
   "source": [
    "## Load Packages for Julia"
   ]
  },
  {
   "cell_type": "code",
   "execution_count": 1,
   "metadata": {},
   "outputs": [],
   "source": [
    "using DataFrames\n",
    "using Distributions\n",
    "using Plots"
   ]
  },
  {
   "cell_type": "markdown",
   "metadata": {},
   "source": [
    "## Calculate Discrete Erlang Probabilities\n",
    "\n",
    "The following function is to calculate the discrete truncated Erlang probability, given $k$ and $\\gamma$:\n",
    "\n",
    "\\begin{equation*}\n",
    "p_i =\n",
    "\\frac{1}{C(n^{E})}\n",
    "\\Bigl(\\sum_{j=0}^{k-1}\n",
    "    \\frac{e^{-(i-1)\\gamma} \\times ((i-1)\\gamma)^{j}} {j!}\n",
    "-\\sum_{j=0}^{k-1}\n",
    "    \\frac{e^{-i\\gamma} \\times (i\\gamma)^{j}} {j!}\\Bigr),\\quad\\text{for $i=1,...,n^{E}$}.\n",
    "\\end{equation*}\n",
    "\n",
    "where\n",
    "\n",
    "\\begin{equation*}\n",
    "n^{E} = argmin_n\\Bigl(C(n) = 1 - \\sum_{j=0}^{k-1}\n",
    "    \\frac{e^{-n\\gamma} \\times (n\\gamma)^{j}} {j!} > 0.99 \\Bigr)\n",
    "\\end{equation*}\n",
    "\n",
    "**N.B. The formula of $p_i$ here is slightly different from what is shown in the original paper because the latter (which is likely to be wrong) would lead to negative probabilities.**"
   ]
  },
  {
   "cell_type": "code",
   "execution_count": 2,
   "metadata": {},
   "outputs": [
    {
     "data": {
      "text/plain": [
       "compute_erlang_discrete_prob (generic function with 1 method)"
      ]
     },
     "execution_count": 2,
     "metadata": {},
     "output_type": "execute_result"
    }
   ],
   "source": [
    "#' @param k     The shape parameter of the Erlang distribution.\n",
    "#' @param gamma The rate parameter of the Erlang distribution.\n",
    "#' @return      A vector containing all p_i values, for i = 1 : n.\n",
    "function compute_erlang_discrete_prob(k::Int64, gamma::Float64)\n",
    "    n_bin = 0\n",
    "    factorials = zeros(Int64, k + 1)\n",
    "    factorials[1] = 1  ## factorials[1] = 0!\n",
    "    for i = 1 : k\n",
    "        factorials[i + 1] = factorials[i] * i  ## factorial[i + 1] = i!\n",
    "    end\n",
    "\n",
    "    one_sub_cummulative_probs = Float64[]\n",
    "    cummulative_prob = 0\n",
    "    while cummulative_prob <= 0.99\n",
    "        n_bin = n_bin + 1\n",
    "        push!(one_sub_cummulative_probs, 0)\n",
    "        \n",
    "        for j = 0 : (k - 1)\n",
    "            one_sub_cummulative_probs[end] =\n",
    "                one_sub_cummulative_probs[end] +\n",
    "                (\n",
    "                    exp( -n_bin * gamma )\n",
    "                    * ( (n_bin * gamma) ^ j )\n",
    "                    / factorials[j + 1]    ## factorials[j + 1] = j!\n",
    "                )\n",
    "        end\n",
    "        cummulative_prob = 1 - one_sub_cummulative_probs[end]\n",
    "    end\n",
    "    one_sub_cummulative_probs = unshift!(one_sub_cummulative_probs, 1)\n",
    "    \n",
    "    density_prob = one_sub_cummulative_probs[1 : end - 1] - one_sub_cummulative_probs[2 : end]\n",
    "    density_prob = density_prob / cummulative_prob\n",
    "\n",
    "    return density_prob\n",
    "end"
   ]
  },
  {
   "cell_type": "markdown",
   "metadata": {},
   "source": [
    "The implementation above calculates discrete probabilities $p_i$'s base on the cummulative density function of the Erlang distribution:\n",
    "\n",
    "\\begin{equation*}\n",
    "p_i = CDF_{Erlang}(x = i) - CDF_{Erlang}(x = i-1)\n",
    "\\end{equation*}\n",
    "\n",
    "Meanwhile, the estimates of $p_i$'s in the original paper seems to be based on the probability density function:\n",
    "\n",
    "\\begin{equation*}\n",
    "p_i = PDF_{Erlang}(x = i)\n",
    "\\end{equation*}\n",
    "\n",
    "While the two methods give slightly different estimates, they do not lead to any visible differences in the results of the subsequent simulations. This implementation uses the CDF function since it leads to faster runs."
   ]
  },
  {
   "cell_type": "markdown",
   "metadata": {},
   "source": [
    "## Simulate the SEIR Dynamics\n",
    "\n",
    "The next function is to simulate the SEIR (susceptible, exposed, infectious, recovered) dynamics of an epidemic, assuming that transmission is frequency-dependent, i.e.\n",
    "\n",
    "\\begin{equation*}\n",
    "\\beta = \\beta_0 \\frac{I(t)}{N}\n",
    "\\end{equation*}\n",
    "\n",
    "where $N$ is the population size, $I(t)$ is the number of infectious people at time $t$, and $\\beta_0$ is the base transmission rate.\n",
    "\n",
    "This model does not consider births and deads (i.e. $N$ is constant).\n",
    "\n",
    "The rates at which individuals move through the E and the I classes are assumed to follow Erlang distributions of given shapes ($k^E$, $k^I$) and rates ($\\gamma^E$, $\\gamma^I$)."
   ]
  },
  {
   "cell_type": "code",
   "execution_count": 3,
   "metadata": {},
   "outputs": [
    {
     "data": {
      "text/plain": [
       "seir_simulation (generic function with 1 method)"
      ]
     },
     "execution_count": 3,
     "metadata": {},
     "output_type": "execute_result"
    }
   ],
   "source": [
    "function seir_simulation( initial_state::Dict, parameters::Dict, max_time::Int64 )\n",
    "    S_1 = get(initial_state, \"S\", -1)\n",
    "    E_1 = get(initial_state, \"E\", -1)\n",
    "    I_1 = get(initial_state, \"I\", -1)\n",
    "    R_1 = get(initial_state, \"R\", -1)    \n",
    "    (S_1 != -1) || error(\"An initial value for S is required.\") \n",
    "    (E_1 != -1) || error(\"An initial value for E is required.\") \n",
    "    (I_1 != -1) || error(\"An initial value for I is required.\") \n",
    "    (R_1 != -1) || error(\"An initial value for R is required.\") \n",
    "\n",
    "    k_E     = get(parameters, \"k_E\", -1)\n",
    "    gamma_E = get(parameters, \"gamma_E\", -1.0)\n",
    "    k_I     = get(parameters, \"k_I\", -1)\n",
    "    gamma_I = get(parameters, \"gamma_I\", -1.0)\n",
    "    beta    = get(parameters, \"beta\", -1.0)\n",
    "    (k_E != -1)       || error(\"Parameter k_E must be specified.\") \n",
    "    (gamma_E != -1.0) || error(\"Parameter gamma_E must be specified.\") \n",
    "    (k_I != -1)       || error(\"Parameter k_I must be specified.\") \n",
    "    (gamma_I != -1.0) || error(\"Parameter gamma_I must be specified.\") \n",
    "    (beta != -1.0)    || error(\"Parameter beta must be specified.\")     \n",
    "    \n",
    "    population_size = S_1 + E_1 + I_1 + R_1    \n",
    "    sim_data = DataFrame( S = Int64[], E = Int64[], I = Int64[], R = Int64[] )\n",
    "    push!( sim_data, (S_1, E_1, I_1, R_1) )\n",
    "\n",
    "    \n",
    "    ## Initialise a matrix to store the states of the exposed sub-blocks over time.\n",
    "    exposed_block_adm_rates = compute_erlang_discrete_prob(k_E, gamma_E)\n",
    "    n_exposed_blocks = length(exposed_block_adm_rates)\n",
    "    exposed_blocks = zeros(Int64, max_time, n_exposed_blocks)\n",
    "    exposed_blocks[1, n_exposed_blocks] = sim_data[1, :E]\n",
    "\n",
    "    \n",
    "    ## Initialise a matrix to store the states of the infectious sub-blocks over time.\n",
    "    infectious_block_adm_rates = compute_erlang_discrete_prob(k_I, gamma_I)\n",
    "    n_infectious_blocks = length(infectious_block_adm_rates)\n",
    "    infectious_blocks = zeros(Int64, max_time, n_infectious_blocks)\n",
    "    infectious_blocks[1, n_infectious_blocks] = sim_data[1, :I]\n",
    "\n",
    "        \n",
    "    ## Run the simulation from time t = 2 to t = max_time\n",
    "    for time = 2 : max_time\n",
    "        transmission_rate = beta * sim_data[(time - 1), :I] / population_size\n",
    "        exposure_prob = 1 - exp(-transmission_rate)        \n",
    "        distribution = Binomial(sim_data[(time - 1), :S], exposure_prob)\n",
    "        new_exposed = rand(distribution)\n",
    "        new_infectious = exposed_blocks[time - 1, 1]\n",
    "        new_recovered  = infectious_blocks[time - 1, 1]\n",
    "\n",
    "        if new_exposed > 0\n",
    "            distribution =  Multinomial(new_exposed, exposed_block_adm_rates)        \n",
    "            exposed_blocks[time, :] = rand(distribution)\n",
    "        end\n",
    "        exposed_blocks[time, (1 : end - 1)] =\n",
    "        exposed_blocks[time, (1 : end - 1)] + exposed_blocks[(time - 1), (2 : end)]\n",
    "\n",
    "        if new_infectious > 0\n",
    "            distribution =  Multinomial(new_infectious, infectious_block_adm_rates)                    \n",
    "            infectious_blocks[time, :] = rand(distribution)\n",
    "        end\n",
    "        infectious_blocks[time, (1 : end - 1)] =\n",
    "        infectious_blocks[time, (1 : end - 1)] + infectious_blocks[(time - 1), (2 : end)]\n",
    "\n",
    "        push!( sim_data, ( sim_data[time - 1, :S] - new_exposed,\n",
    "                           sum(exposed_blocks[time, :]),\n",
    "                           sum(infectious_blocks[time, :]),\n",
    "                           sim_data[time - 1, :R] + new_recovered )\n",
    "        )\n",
    "    end\n",
    "    \n",
    "    sim_data[:time] = collect(1 : max_time)    \n",
    "    return sim_data\n",
    "end"
   ]
  },
  {
   "cell_type": "markdown",
   "metadata": {},
   "source": [
    "To run a simulation, simply call the $seir\\_simulation(\\dots)$ method above.\n",
    "\n",
    "Below is an example simulation where $k^E = 5$, $\\gamma^E = 1$, $k^I = 10$, $\\gamma^I = 1$, and $\\beta_0 = 0.25$ ($R_0 = \\beta_0\\frac{k^I}{\\gamma^I} = 2.5$). The population size is $N = 10,000$. The simmulation starts with 1 exposed case and everyone else belongs to the susceptible class. These settings are the same the the simulation 11 of the original paper.\n",
    "\n",
    "**N.B. Since this is a stochastic model, there is chance for the outbreak not to occur even with a high $R_0$.**"
   ]
  },
  {
   "cell_type": "code",
   "execution_count": 4,
   "metadata": {},
   "outputs": [
    {
     "name": "stdout",
     "output_type": "stream",
     "text": [
      "10×5 DataFrames.DataFrame\n",
      "│ Row │ S   │ E │ I │ R    │ time │\n",
      "├─────┼─────┼───┼───┼──────┼──────┤\n",
      "│ 1   │ 981 │ 0 │ 0 │ 9019 │ 291  │\n",
      "│ 2   │ 981 │ 0 │ 0 │ 9019 │ 292  │\n",
      "│ 3   │ 981 │ 0 │ 0 │ 9019 │ 293  │\n",
      "│ 4   │ 981 │ 0 │ 0 │ 9019 │ 294  │\n",
      "│ 5   │ 981 │ 0 │ 0 │ 9019 │ 295  │\n",
      "│ 6   │ 981 │ 0 │ 0 │ 9019 │ 296  │\n",
      "│ 7   │ 981 │ 0 │ 0 │ 9019 │ 297  │\n",
      "│ 8   │ 981 │ 0 │ 0 │ 9019 │ 298  │\n",
      "│ 9   │ 981 │ 0 │ 0 │ 9019 │ 299  │\n",
      "│ 10  │ 981 │ 0 │ 0 │ 9019 │ 300  │"
     ]
    }
   ],
   "source": [
    "sim = seir_simulation( Dict(\"S\" => 9999, \"E\" => 1, \"I\" => 0, \"R\" => 0),\n",
    "                       Dict(\"k_E\" =>  5, \"gamma_E\" => 1.0,\n",
    "                            \"k_I\" => 10, \"gamma_I\" => 1.0,\n",
    "                            \"beta\" => 0.25),\n",
    "                       300 )\n",
    "print(sim[end - 9 : end, :])"
   ]
  },
  {
   "cell_type": "markdown",
   "metadata": {},
   "source": [
    "## Visualisation"
   ]
  },
  {
   "cell_type": "code",
   "execution_count": 5,
   "metadata": {},
   "outputs": [
    {
     "data": {
      "image/png": "[encoded data removed]"
     },
     "execution_count": 5,
     "metadata": {},
     "output_type": "execute_result"
    }
   ],
   "source": [
    "gr(fmt = :png)\n",
    "plot( sim[:, :time],\n",
    "       [sim[:, :S], sim[:, :E], sim[:, :I], sim[:, :R]],\n",
    "       label = [\"Susceptible\", \"Exposed\", \"Infectious\", \"Recovered\"],\n",
    "       xlabel = \"Time\", ylabel = \"Number of Individuals\",\n",
    "       linealpha = 0.5, linewidth = 3 )\n"
   ]
  },
  {
   "cell_type": "markdown",
   "metadata": {},
   "source": [
    "## Test Case"
   ]
  },
  {
   "cell_type": "code",
   "execution_count": 7,
   "metadata": {},
   "outputs": [
    {
     "name": "stdout",
     "output_type": "stream",
     "text": [
      "\n",
      "-------------------\n",
      "    Test PASSED\n",
      "-------------------\n",
      "\n"
     ]
    }
   ],
   "source": [
    "srand(12345)\n",
    "test_sim = seir_simulation( Dict(\"S\" => 9999, \"E\" => 1, \"I\" => 0, \"R\" => 0),\n",
    "                            Dict(\"k_E\" =>  5, \"gamma_E\" => 1.0,\n",
    "                                 \"k_I\" => 10, \"gamma_I\" => 1.0,\n",
    "                                 \"beta\" => 0.25),\n",
    "                            100 )\n",
    "test_result = convert(Array, test_sim[end-2 : end, :])\n",
    "\n",
    "correct_result = [ 6416  1017  1298  1269   98 ;\n",
    "                   6210  1045  1379  1366   99 ;\n",
    "                   6010  1086  1442  1462  100 ]\n",
    "\n",
    "println(\"\\n-------------------\")\n",
    "if correct_result == test_result\n",
    "    println(\"    Test PASSED\")    \n",
    "else\n",
    "    println(\"    Test FAILED\")    \n",
    "end\n",
    "println(\"-------------------\\n\")"
   ]
  }
 ],
 "metadata": {
  "kernelspec": {
   "display_name": "Julia 0.6.3",
   "language": "julia",
   "name": "julia-0.6"
  },
  "language_info": {
   "file_extension": ".jl",
   "mimetype": "application/julia",
   "name": "julia",
   "version": "0.6.3"
  }
 },
 "nbformat": 4,
 "nbformat_minor": 2
}
