{
 "cells": [
  {
   "cell_type": "markdown",
   "metadata": {},
   "source": [
    "## Discrete time Erlang models\n",
    "\n",
    "[Getz and Dougherty (2017)](https://doi.org/10.1080/17513758.2017.1401677) formulate deterministic, discrete-time analogues of Erlang models, that model non-exponential passage times using the method of stages ([Cox and Miller (1965)](https://www.crcpress.com/The-Theory-of-Stochastic-Processes/Cox-Miller/p/book/9780412151705)).\n",
    "\n",
    "### References\n",
    "\n",
    "- [Cox and Miller (1965)](https://www.crcpress.com/The-Theory-of-Stochastic-Processes/Cox-Miller/p/book/9780412151705)\n",
    "- [Getz and Dougherty (2017)](https://doi.org/10.1080/17513758.2017.1401677)\n"
   ]
  }
 ],
 "metadata": {
  "kernelspec": {
   "display_name": "Python 3",
   "language": "python",
   "name": "python3"
  },
  "language_info": {
   "codemirror_mode": {
    "name": "ipython",
    "version": 3
   },
   "file_extension": ".py",
   "mimetype": "text/x-python",
   "name": "python",
   "nbconvert_exporter": "python",
   "pygments_lexer": "ipython3",
   "version": "3.5.2"
  }
 },
 "nbformat": 4,
 "nbformat_minor": 2
}
