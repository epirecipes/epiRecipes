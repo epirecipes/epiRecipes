{
 "cells": [
  {
   "cell_type": "markdown",
   "metadata": {},
   "source": [
    "# Kingman coalescent and the Newick format\n",
    "\n",
    "Authors:\n",
    "- Alex Zarebski @aezarebski\n",
    "- Gerry Tonkin-Hill @gtonkinhill\n",
    "\n",
    "Date: 2018-10-03\n",
    "\n",
    "In this notebook we implement the Kingman coalescent and implement some functions for working with trees inspired by Newick format. Newick format is a widely used way to represent tree data structures. Having the genealogy in Newick format makes it easy to read into `ape` --- a popular package in R for working with genealogies --- and use the visualisation functionality it provides. "
   ]
  },
  {
   "cell_type": "code",
   "execution_count": 1,
   "metadata": {},
   "outputs": [],
   "source": [
    "library(ape)"
   ]
  },
  {
   "cell_type": "markdown",
   "metadata": {},
   "source": [
    "## Model and implementation\n",
    "\n",
    "Given we have `k` copies of the gene in a population of size `pop_size` the probability of at least one pair coming from the same parent is *approximately* `0.25 * k * (k - 1) / pop_size`. Using discrete generations would suggest a geometric number of generations until the first coalescence where the probability of coalesence in each generation is this value. We can approximate the geometric distribution with an exponential distribution with this rate."
   ]
  },
  {
   "cell_type": "code",
   "execution_count": 2,
   "metadata": {},
   "outputs": [],
   "source": [
    "coalescent_rate <- function(k, pop_size) {\n",
    "    0.25 * k * (k - 1) / pop_size\n",
    "}"
   ]
  },
  {
   "cell_type": "markdown",
   "metadata": {},
   "source": [
    "The following functions, `leaf_node` and `branch_node` are helpers to work with trees."
   ]
  },
  {
   "cell_type": "code",
   "execution_count": 3,
   "metadata": {},
   "outputs": [],
   "source": [
    "leaf_node <- function(name, time) {\n",
    "    list(type = \"leaf\", name = name, time = time)\n",
    "}"
   ]
  },
  {
   "cell_type": "code",
   "execution_count": 4,
   "metadata": {},
   "outputs": [],
   "source": [
    "branch_node <- function(name, children, time) {\n",
    "    list(type = \"branch\",\n",
    "         name = name,\n",
    "         children = children,\n",
    "         time = time,\n",
    "         lengths = c(time - children[[1]]$time,\n",
    "                     time - children[[2]]$time))\n",
    "}"
   ]
  },
  {
   "cell_type": "markdown",
   "metadata": {},
   "source": [
    "Taking two nodes and linking them as the children of a parent is achieved with the following function."
   ]
  },
  {
   "cell_type": "code",
   "execution_count": 5,
   "metadata": {},
   "outputs": [],
   "source": [
    "binary_parent <- function(child1, child2, time) {\n",
    "    parent_name <- paste(child1$name, child2$name, sep = \"-\")\n",
    "    branch_node(parent_name, list(child1, child2), time)\n",
    "}"
   ]
  },
  {
   "cell_type": "markdown",
   "metadata": {},
   "source": [
    "Start by setting up a little sample population in a larger population to work on"
   ]
  },
  {
   "cell_type": "code",
   "execution_count": 6,
   "metadata": {},
   "outputs": [],
   "source": [
    "current_time <- 0\n",
    "sampled_population <- list(leaf_node(\"beth\", current_time),\n",
    "                           leaf_node(\"gerry\", current_time),\n",
    "                           leaf_node(\"morty\", current_time),\n",
    "                           leaf_node(\"summer\", current_time))\n",
    "population_size <- 100\n",
    "\n",
    "k <- +Inf"
   ]
  },
  {
   "cell_type": "markdown",
   "metadata": {},
   "source": [
    "Until the population has multiple individuals who have not coalesed continue to coalese individuals."
   ]
  },
  {
   "cell_type": "code",
   "execution_count": 7,
   "metadata": {},
   "outputs": [],
   "source": [
    "while (k > 2) {\n",
    "    k <- length(sampled_population)\n",
    "    coalescent_time <- rexp(1, coalescent_rate(k, population_size))\n",
    "    current_time <- current_time + coalescent_time\n",
    "    ixs <- sample.int(k, size = 2)\n",
    "    parent_node <- binary_parent(sampled_population[[ixs[1]]], sampled_population[[ixs[2]]], current_time)\n",
    "    if (k > 2) {\n",
    "        sampled_population <- c(list(parent_node), sampled_population[-ixs])\n",
    "    } else {\n",
    "        sampled_population <- parent_node\n",
    "    }\n",
    "}\n"
   ]
  },
  {
   "cell_type": "markdown",
   "metadata": {},
   "source": [
    "The following function recursively constructs a Newick representation of the tree."
   ]
  },
  {
   "cell_type": "code",
   "execution_count": 8,
   "metadata": {},
   "outputs": [],
   "source": [
    "newick_helper <- function(node) {\n",
    "    if (node$type == \"leaf\") {\n",
    "        node$name\n",
    "    } else if (node$type == \"branch\") {\n",
    "        sprintf(\"(%s:%f,%s:%f)%s\",\n",
    "                newick_helper(node$children[[1]]),\n",
    "                node$lengths[1],\n",
    "                newick_helper(node$children[[2]]),\n",
    "                node$lengths[2],\n",
    "                node$name)\n",
    "    }\n",
    "}\n",
    "\n",
    "newick <- function(node) {\n",
    "    sprintf(\"%s;\", newick_helper(node))\n",
    "}"
   ]
  },
  {
   "cell_type": "code",
   "execution_count": 9,
   "metadata": {},
   "outputs": [],
   "source": [
    "demo_tree <- read.tree(text = newick(sampled_population))"
   ]
  },
  {
   "cell_type": "code",
   "execution_count": 10,
   "metadata": {},
   "outputs": [
    {
     "data": {
      "image/png": "[encoded data removed]",
      "text/plain": [
       "plot without title"
      ]
     },
     "metadata": {},
     "output_type": "display_data"
    }
   ],
   "source": [
    "plot(demo_tree)"
   ]
  }
 ],
 "metadata": {
  "kernelspec": {
   "display_name": "R",
   "language": "R",
   "name": "ir"
  },
  "language_info": {
   "codemirror_mode": "r",
   "file_extension": ".r",
   "mimetype": "text/x-r-source",
   "name": "R",
   "pygments_lexer": "r",
   "version": "3.5.1"
  }
 },
 "nbformat": 4,
 "nbformat_minor": 2
}
