{
 "cells": [
  {
   "cell_type": "markdown",
   "metadata": {},
   "source": [
    "## Macroparasite model from May and Anderson (1978)\n",
    "\n",
    "This section implements model F described in equations (19) - (21) from [May and Anderson (1978)](https://doi.org/10.2307/3934). This is a basic model of macroparasite-host interaction based on the assumption that the number of parasites per host follows a Negative-Binomial distribution with aggregation parameter k.\n",
    "\n",
    "### References\n",
    "\n",
    "- [May and Anderson (1978)](https://doi.org/10.2307/3934)"
   ]
  }
 ],
 "metadata": {
  "kernelspec": {
   "display_name": "Python 3",
   "language": "python",
   "name": "python3"
  },
  "language_info": {
   "codemirror_mode": {
    "name": "ipython",
    "version": 3
   },
   "file_extension": ".py",
   "mimetype": "text/x-python",
   "name": "python",
   "nbconvert_exporter": "python",
   "pygments_lexer": "ipython3",
   "version": "3.5.2"
  }
 },
 "nbformat": 4,
 "nbformat_minor": 2
}
