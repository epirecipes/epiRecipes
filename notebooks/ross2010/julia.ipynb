{
 "cells": [
  {
   "cell_type": "markdown",
   "metadata": {},
   "source": [
    "## Disease dynamics in a population of households in Julia"
   ]
  },
  {
   "cell_type": "markdown",
   "metadata": {},
   "source": [
    "*Author*: Tim Kinyanjui @timothykinyanjui\n",
    "\n",
    "*Date*: 2018-10-04"
   ]
  },
  {
   "cell_type": "code",
   "execution_count": 1,
   "metadata": {},
   "outputs": [],
   "source": [
    "# Set the required model parameters for the SIRS model with two levels of transmission - Within and between households\n",
    "N = 10; # Household size - Change to 10 for final analysis\n",
    "betaHH = 6; # Within household transmission parameter\n",
    "betaG = 1; # Population wide transmission\n",
    "gamma = 1; # Rate of recovery from infection\n",
    "tau = 1; # Rate of loss of protection\n",
    "params = [betaHH,gamma,tau,betaG,N]; # Put all the parameters together\n",
    "time = (0.0, 30.0) # Simulation time - note it defined as a float\n",
    "dim = dim = 0.5*(N+1)*(N+2); # Number of possible configurations - works for three epidemiological classes\n",
    "y0 = vec(zeros(1,dim)); # Initial condition vector\n",
    "y0[end-1] = 0.00000001;\n",
    "y0[end] = 0.99999999;"
   ]
  },
  {
   "cell_type": "code",
   "execution_count": 2,
   "metadata": {
    "scrolled": true
   },
   "outputs": [],
   "source": [
    "function hhTransitions(N,dim)\n",
    "    # Function to generate transition matrices for household model\n",
    "    # Input: N is the household size\n",
    "    \n",
    "    # Initialize things\n",
    "    Qinf = zeros(dim,dim);\n",
    "    Qrec = zeros(dim,dim);\n",
    "    Qext = zeros(dim,dim);\n",
    "    Qwane = zeros(dim,dim);\n",
    "    dataI = Array{Int64}(zeros(dim,3))\n",
    "    m = 0;\n",
    "    I = Array{Int64}(zeros(N+1,N+1))\n",
    "    \n",
    "    # To help remember where to store the variables\n",
    "    for ss = 0:N\n",
    "        for ii = 0:(N-ss)\n",
    "            m = m + 1;\n",
    "            I[ss+1,ii+1] = m\n",
    "        end\n",
    "    end\n",
    "    \n",
    "    # Describe the epidemiological transitions\n",
    "    \n",
    "    # Counter for susceptibles\n",
    "    for ss = 0:N\n",
    "        # Counter for infecteds\n",
    "        for ii = 0:(N-ss) \n",
    "            # If susceptibles and infecteds are more than 1, then infection within the household can occur\n",
    "            if (ss > 0 && ii > 0) \n",
    "                Qinf[I[ss+1,ii+1],I[ss,ii+2]] = ii*ss/(N-1);\n",
    "            end\n",
    "            \n",
    "            # If infecteds are more than 1, recovery can occur\n",
    "            if ii > 0\n",
    "                # Rate of recovery\n",
    "                Qrec[I[ss+1,ii+1],I[ss+1,ii]] = ii; \n",
    "            end\n",
    "            \n",
    "            # For external infection - just keep track of susceptibles\n",
    "            if ss > 0           \n",
    "                # Rate of within household infection\n",
    "                Qext[I[ss+1,ii+1],I[ss,ii+2]] = ss;           \n",
    "            end\n",
    "            \n",
    "            # Loss of protection hence becoming susceptible again. Possible if N-ss-ii = rr > 0 \n",
    "            if (N-ss-ii) > 0\n",
    "                # Rate of loss of protection\n",
    "                Qwane[I[ss+1,ii+1],I[ss+2,ii+1]] = N-ss-ii;\n",
    "            end\n",
    "            \n",
    "            # Store the relevant indices to help identify the household configurations\n",
    "            dataI[I[ss+1,ii+1],:] = [ss, ii, N-ss-ii];\n",
    "        end\n",
    "    end\n",
    "    \n",
    "    Qinf = Qinf - diagm(vec(sum(Qinf,2)),0);\n",
    "    Qrec = Qrec - diagm(vec(sum(Qrec,2)),0);\n",
    "    Qext = Qext - diagm(vec(sum(Qext,2)),0);\n",
    "    Qwane = Qwane - diagm(vec(sum(Qwane,2)),0);\n",
    "    \n",
    "    # Return\n",
    "    return Qinf, Qrec, Qext, Qwane, dataI\n",
    "end\n",
    "Qinf, Qrec, Qext, Qwane, dataI = hhTransitions(N,dim);"
   ]
  },
  {
   "cell_type": "code",
   "execution_count": 3,
   "metadata": {},
   "outputs": [],
   "source": [
    "using DifferentialEquations\n",
    "function rateSIRS(dy_dt,y0,params,time)\n",
    "    \n",
    "    # Extract the parameters\n",
    "    betaHH = params[1];\n",
    "    gamma = params[2];\n",
    "    tau = params[3];\n",
    "    betaG = params[4];\n",
    "    N = params[5];\n",
    "    \n",
    "    # Generate the transition matrices\n",
    "    Qinf, Qrec, Qext, Qwane, HHconfig = hhTransitions(N,dim);\n",
    "    \n",
    "    # Combine within and external transitions\n",
    "    Q = betaHH*Qinf + gamma*Qrec + tau*Qwane + (betaG*((HHconfig[:,2]'*y0)/N)*Qext);\n",
    "    \n",
    "    # Generate the rates of change for ODE solver\n",
    "    dy_dt .= (y0'*Q)';\n",
    "    \n",
    "    # Alternatively this works too\n",
    "    #=for i=1:length(y0)\n",
    "        dy_dt[i] = y0'*Q[:,i]\n",
    "    end=#\n",
    "\n",
    "end\n",
    "\n",
    "# Define the ODE problem\n",
    "prob = ODEProblem(rateSIRS,y0,time,params);\n",
    "\n",
    "# Solve\n",
    "sol = solve(prob);"
   ]
  },
  {
   "cell_type": "code",
   "execution_count": 4,
   "metadata": {},
   "outputs": [],
   "source": [
    "using Plots"
   ]
  },
  {
   "cell_type": "code",
   "execution_count": 5,
   "metadata": {
    "scrolled": true
   },
   "outputs": [],
   "source": [
    "Iconfig = dataI[:,2];\n",
    "infProp = zeros(length(sol.t),1);\n",
    "\n",
    "# Prepare the plots\n",
    "for i = 1:length(sol.t)\n",
    "    infProp[i,1] = sol[:,i]'*Iconfig/N;\n",
    "end"
   ]
  },
  {
   "cell_type": "code",
   "execution_count": 6,
   "metadata": {},
   "outputs": [
    {
     "data": {
      "image/svg+xml": [
       "<?xml version=\"1.0\" encoding=\"utf-8\"?>\n",
       "<svg xmlns=\"http://www.w3.org/2000/svg\" xmlns:xlink=\"http://www.w3.org/1999/xlink\" width=\"600\" height=\"400\" viewBox=\"0 0 600 400\">\n",
       "<defs>\n",
       "  <clipPath id=\"clip5400\">\n",
       "    <rect x=\"0\" y=\"0\" width=\"600\" height=\"400\"/>\n",
       "  </clipPath>\n",
       "</defs>\n",
       "<polygon clip-path=\"url(#clip5400)\" points=\"\n",
       "0,400 600,400 600,0 0,0 \n",
       "  \" fill=\"#ffffff\" fill-opacity=\"1\"/>\n",
       "<defs>\n",
       "  <clipPath id=\"clip5401\">\n",
       "    <rect x=\"120\" y=\"0\" width=\"421\" height=\"400\"/>\n",
       "  </clipPath>\n",
       "</defs>\n",
       "<polygon clip-path=\"url(#clip5400)\" points=\"\n",
       "62.7871,360.121 580.315,360.121 580.315,11.811 62.7871,11.811 \n",
       "  \" fill=\"#ffffff\" fill-opacity=\"1\"/>\n",
       "<defs>\n",
       "  <clipPath id=\"clip5402\">\n",
       "    <rect x=\"62\" y=\"11\" width=\"519\" height=\"349\"/>\n",
       "  </clipPath>\n",
       "</defs>\n",
       "<polyline clip-path=\"url(#clip5402)\" style=\"stroke:#000000; stroke-width:0.5; stroke-opacity:0.1; fill:none\" points=\"\n",
       "  77.4341,360.121 77.4341,11.811 \n",
       "  \"/>\n",
       "<polyline clip-path=\"url(#clip5402)\" style=\"stroke:#000000; stroke-width:0.5; stroke-opacity:0.1; fill:none\" points=\"\n",
       "  240.179,360.121 240.179,11.811 \n",
       "  \"/>\n",
       "<polyline clip-path=\"url(#clip5402)\" style=\"stroke:#000000; stroke-width:0.5; stroke-opacity:0.1; fill:none\" points=\"\n",
       "  402.923,360.121 402.923,11.811 \n",
       "  \"/>\n",
       "<polyline clip-path=\"url(#clip5402)\" style=\"stroke:#000000; stroke-width:0.5; stroke-opacity:0.1; fill:none\" points=\"\n",
       "  565.668,360.121 565.668,11.811 \n",
       "  \"/>\n",
       "<polyline clip-path=\"url(#clip5402)\" style=\"stroke:#000000; stroke-width:0.5; stroke-opacity:0.1; fill:none\" points=\"\n",
       "  62.7871,350.263 580.315,350.263 \n",
       "  \"/>\n",
       "<polyline clip-path=\"url(#clip5402)\" style=\"stroke:#000000; stroke-width:0.5; stroke-opacity:0.1; fill:none\" points=\"\n",
       "  62.7871,268.114 580.315,268.114 \n",
       "  \"/>\n",
       "<polyline clip-path=\"url(#clip5402)\" style=\"stroke:#000000; stroke-width:0.5; stroke-opacity:0.1; fill:none\" points=\"\n",
       "  62.7871,185.966 580.315,185.966 \n",
       "  \"/>\n",
       "<polyline clip-path=\"url(#clip5402)\" style=\"stroke:#000000; stroke-width:0.5; stroke-opacity:0.1; fill:none\" points=\"\n",
       "  62.7871,103.817 580.315,103.817 \n",
       "  \"/>\n",
       "<polyline clip-path=\"url(#clip5402)\" style=\"stroke:#000000; stroke-width:0.5; stroke-opacity:0.1; fill:none\" points=\"\n",
       "  62.7871,21.6688 580.315,21.6688 \n",
       "  \"/>\n",
       "<polyline clip-path=\"url(#clip5400)\" style=\"stroke:#000000; stroke-width:1; stroke-opacity:1; fill:none\" points=\"\n",
       "  62.7871,360.121 580.315,360.121 \n",
       "  \"/>\n",
       "<polyline clip-path=\"url(#clip5400)\" style=\"stroke:#000000; stroke-width:1; stroke-opacity:1; fill:none\" points=\"\n",
       "  62.7871,360.121 62.7871,11.811 \n",
       "  \"/>\n",
       "<polyline clip-path=\"url(#clip5400)\" style=\"stroke:#000000; stroke-width:1; stroke-opacity:1; fill:none\" points=\"\n",
       "  77.4341,360.121 77.4341,354.896 \n",
       "  \"/>\n",
       "<polyline clip-path=\"url(#clip5400)\" style=\"stroke:#000000; stroke-width:1; stroke-opacity:1; fill:none\" points=\"\n",
       "  240.179,360.121 240.179,354.896 \n",
       "  \"/>\n",
       "<polyline clip-path=\"url(#clip5400)\" style=\"stroke:#000000; stroke-width:1; stroke-opacity:1; fill:none\" points=\"\n",
       "  402.923,360.121 402.923,354.896 \n",
       "  \"/>\n",
       "<polyline clip-path=\"url(#clip5400)\" style=\"stroke:#000000; stroke-width:1; stroke-opacity:1; fill:none\" points=\"\n",
       "  565.668,360.121 565.668,354.896 \n",
       "  \"/>\n",
       "<polyline clip-path=\"url(#clip5400)\" style=\"stroke:#000000; stroke-width:1; stroke-opacity:1; fill:none\" points=\"\n",
       "  62.7871,350.263 70.55,350.263 \n",
       "  \"/>\n",
       "<polyline clip-path=\"url(#clip5400)\" style=\"stroke:#000000; stroke-width:1; stroke-opacity:1; fill:none\" points=\"\n",
       "  62.7871,268.114 70.55,268.114 \n",
       "  \"/>\n",
       "<polyline clip-path=\"url(#clip5400)\" style=\"stroke:#000000; stroke-width:1; stroke-opacity:1; fill:none\" points=\"\n",
       "  62.7871,185.966 70.55,185.966 \n",
       "  \"/>\n",
       "<polyline clip-path=\"url(#clip5400)\" style=\"stroke:#000000; stroke-width:1; stroke-opacity:1; fill:none\" points=\"\n",
       "  62.7871,103.817 70.55,103.817 \n",
       "  \"/>\n",
       "<polyline clip-path=\"url(#clip5400)\" style=\"stroke:#000000; stroke-width:1; stroke-opacity:1; fill:none\" points=\"\n",
       "  62.7871,21.6688 70.55,21.6688 \n",
       "  \"/>\n",
       "<g clip-path=\"url(#clip5400)\">\n",
       "<text style=\"fill:#000000; fill-opacity:1; font-family:Arial,Helvetica Neue,Helvetica,sans-serif; font-size:12; text-anchor:middle;\" transform=\"rotate(0, 77.4341, 373.921)\" x=\"77.4341\" y=\"373.921\">0</text>\n",
       "</g>\n",
       "<g clip-path=\"url(#clip5400)\">\n",
       "<text style=\"fill:#000000; fill-opacity:1; font-family:Arial,Helvetica Neue,Helvetica,sans-serif; font-size:12; text-anchor:middle;\" transform=\"rotate(0, 240.179, 373.921)\" x=\"240.179\" y=\"373.921\">10</text>\n",
       "</g>\n",
       "<g clip-path=\"url(#clip5400)\">\n",
       "<text style=\"fill:#000000; fill-opacity:1; font-family:Arial,Helvetica Neue,Helvetica,sans-serif; font-size:12; text-anchor:middle;\" transform=\"rotate(0, 402.923, 373.921)\" x=\"402.923\" y=\"373.921\">20</text>\n",
       "</g>\n",
       "<g clip-path=\"url(#clip5400)\">\n",
       "<text style=\"fill:#000000; fill-opacity:1; font-family:Arial,Helvetica Neue,Helvetica,sans-serif; font-size:12; text-anchor:middle;\" transform=\"rotate(0, 565.668, 373.921)\" x=\"565.668\" y=\"373.921\">30</text>\n",
       "</g>\n",
       "<g clip-path=\"url(#clip5400)\">\n",
       "<text style=\"fill:#000000; fill-opacity:1; font-family:Arial,Helvetica Neue,Helvetica,sans-serif; font-size:12; text-anchor:end;\" transform=\"rotate(0, 56.7871, 354.763)\" x=\"56.7871\" y=\"354.763\">0.00</text>\n",
       "</g>\n",
       "<g clip-path=\"url(#clip5400)\">\n",
       "<text style=\"fill:#000000; fill-opacity:1; font-family:Arial,Helvetica Neue,Helvetica,sans-serif; font-size:12; text-anchor:end;\" transform=\"rotate(0, 56.7871, 272.614)\" x=\"56.7871\" y=\"272.614\">0.25</text>\n",
       "</g>\n",
       "<g clip-path=\"url(#clip5400)\">\n",
       "<text style=\"fill:#000000; fill-opacity:1; font-family:Arial,Helvetica Neue,Helvetica,sans-serif; font-size:12; text-anchor:end;\" transform=\"rotate(0, 56.7871, 190.466)\" x=\"56.7871\" y=\"190.466\">0.50</text>\n",
       "</g>\n",
       "<g clip-path=\"url(#clip5400)\">\n",
       "<text style=\"fill:#000000; fill-opacity:1; font-family:Arial,Helvetica Neue,Helvetica,sans-serif; font-size:12; text-anchor:end;\" transform=\"rotate(0, 56.7871, 108.317)\" x=\"56.7871\" y=\"108.317\">0.75</text>\n",
       "</g>\n",
       "<g clip-path=\"url(#clip5400)\">\n",
       "<text style=\"fill:#000000; fill-opacity:1; font-family:Arial,Helvetica Neue,Helvetica,sans-serif; font-size:12; text-anchor:end;\" transform=\"rotate(0, 56.7871, 26.1688)\" x=\"56.7871\" y=\"26.1688\">1.00</text>\n",
       "</g>\n",
       "<g clip-path=\"url(#clip5400)\">\n",
       "<text style=\"fill:#000000; fill-opacity:1; font-family:Arial,Helvetica Neue,Helvetica,sans-serif; font-size:16; text-anchor:middle;\" transform=\"rotate(0, 321.551, 397.6)\" x=\"321.551\" y=\"397.6\">Time</text>\n",
       "</g>\n",
       "<g clip-path=\"url(#clip5400)\">\n",
       "<text style=\"fill:#000000; fill-opacity:1; font-family:Arial,Helvetica Neue,Helvetica,sans-serif; font-size:16; text-anchor:middle;\" transform=\"rotate(-90, 14.4, 185.966)\" x=\"14.4\" y=\"185.966\">Proportion infectious</text>\n",
       "</g>\n",
       "<polyline clip-path=\"url(#clip5402)\" style=\"stroke:#0000ff; stroke-width:1; stroke-opacity:1; fill:none\" points=\"\n",
       "  77.4341,350.263 84.9329,350.263 86.4519,350.263 87.8535,350.263 89.4526,350.263 91.3836,350.263 93.6267,350.263 96.1186,350.263 98.8049,350.263 101.717,350.263 \n",
       "  104.814,350.263 107.539,350.263 109.757,350.263 111.79,350.263 113.859,350.262 118.275,350.262 122.869,350.261 128.525,350.259 134.147,350.251 139.344,350.234 \n",
       "  144.09,350.196 148.359,350.123 152.187,349.992 155.628,349.773 158.734,349.427 161.554,348.909 164.131,348.163 166.5,347.126 168.692,345.723 170.736,343.872 \n",
       "  172.655,341.481 174.468,338.445 176.192,334.658 177.839,330.012 179.418,324.415 180.936,317.805 182.394,310.173 183.796,301.566 185.143,292.094 186.44,281.918 \n",
       "  187.691,271.243 188.901,260.296 190.079,249.296 191.23,238.492 192.36,228.12 193.473,218.404 194.574,209.541 195.665,201.692 196.749,194.966 197.289,192.048 \n",
       "  199.123,184.35 200.435,180.88 201.987,178.74 203.681,178.422 205.517,179.854 207.363,182.52 209.235,185.916 211.246,189.853 213.582,194.337 215.543,197.8 \n",
       "  217.338,200.637 219.225,203.245 221.366,205.744 223.81,208.041 226.245,209.808 228.469,211.039 230.603,211.933 232.89,212.636 235.801,213.233 238.23,213.537 \n",
       "  240.452,213.702 242.511,213.782 244.502,213.812 246.504,213.808 248.575,213.779 250.738,213.732 252.974,213.674 255.223,213.612 257.402,213.553 259.496,213.5 \n",
       "  263.643,213.411 267.955,213.343 273.208,213.291 279.46,213.262 286.876,213.253 295.681,213.257 305.94,213.263 318.374,213.266 334.664,213.266 356.464,213.266 \n",
       "  386.223,213.266 430.741,213.266 502.777,213.266 565.668,213.266 \n",
       "  \"/>\n",
       "<polygon clip-path=\"url(#clip5400)\" points=\"\n",
       "424.062,62.931 562.315,62.931 562.315,32.691 424.062,32.691 \n",
       "  \" fill=\"#ffffff\" fill-opacity=\"1\"/>\n",
       "<polyline clip-path=\"url(#clip5400)\" style=\"stroke:#000000; stroke-width:1; stroke-opacity:1; fill:none\" points=\"\n",
       "  424.062,62.931 562.315,62.931 562.315,32.691 424.062,32.691 424.062,62.931 \n",
       "  \"/>\n",
       "<polyline clip-path=\"url(#clip5400)\" style=\"stroke:#0000ff; stroke-width:1; stroke-opacity:1; fill:none\" points=\"\n",
       "  430.062,47.811 466.062,47.811 \n",
       "  \"/>\n",
       "<g clip-path=\"url(#clip5400)\">\n",
       "<text style=\"fill:#000000; fill-opacity:1; font-family:Arial,Helvetica Neue,Helvetica,sans-serif; font-size:12; text-anchor:start;\" transform=\"rotate(0, 472.062, 52.311)\" x=\"472.062\" y=\"52.311\">Mean infection</text>\n",
       "</g>\n",
       "</svg>\n"
      ]
     },
     "execution_count": 6,
     "metadata": {},
     "output_type": "execute_result"
    }
   ],
   "source": [
    "# Total infectious in the population\n",
    "plot(sol.t,infProp,color=\"blue\",xlabel=\"Time\",ylabel=\"Proportion infectious\",label=[\"Mean infection\"],ylims=[0, 1])"
   ]
  },
  {
   "cell_type": "code",
   "execution_count": 7,
   "metadata": {},
   "outputs": [
    {
     "data": {
      "image/png": "[encoded data removed]",
      "text/plain": [
       "PyPlot.Figure(PyObject <Figure size 640x480 with 1 Axes>)"
      ]
     },
     "metadata": {},
     "output_type": "display_data"
    },
    {
     "name": "stderr",
     "output_type": "stream",
     "text": [
      "WARNING: using PyPlot.plot in module Main conflicts with an existing identifier.\n"
     ]
    },
    {
     "data": {
      "text/plain": [
       "1-element Array{PyCall.PyObject,1}:\n",
       " PyObject <matplotlib.lines.Line2D object at 0x7fe91ef1c210>"
      ]
     },
     "execution_count": 7,
     "metadata": {},
     "output_type": "execute_result"
    }
   ],
   "source": [
    "# Household profile at endemic prevalence\n",
    "# Prepare the plots\n",
    "using PyPlot\n",
    "yprop = zeros(N+1,length(sol.t))\n",
    "for j = 1:length(sol.t)\n",
    "    for i = 1:N+1\n",
    "        index = find(Iconfig.==i-1);\n",
    "        yprop[i,j] = sum(sol[index,j])\n",
    "    end\n",
    "end\n",
    "step(-0.5:1:10.5,[yprop[:,length(sol.t)];0])"
   ]
  },
  {
   "cell_type": "code",
   "execution_count": 8,
   "metadata": {},
   "outputs": [
    {
     "data": {
      "image/png": "[encoded data removed]",
      "text/plain": [
       "PyPlot.Figure(PyObject <Figure size 640x480 with 1 Axes>)"
      ]
     },
     "metadata": {},
     "output_type": "display_data"
    }
   ],
   "source": [
    "# Household profile at peak prevalence\n",
    "# Prepare the plots\n",
    "x = find(infProp.==maximum(infProp))\n",
    "step(-0.5:1:10.5,[yprop[:,x];0]);"
   ]
  }
 ],
 "metadata": {
  "kernelspec": {
   "display_name": "Julia 0.6.3",
   "language": "julia",
   "name": "julia-0.6"
  },
  "language_info": {
   "file_extension": ".jl",
   "mimetype": "application/julia",
   "name": "julia",
   "version": "0.6.3"
  }
 },
 "nbformat": 4,
 "nbformat_minor": 2
}
