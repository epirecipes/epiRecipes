{
 "cells": [
  {
   "cell_type": "markdown",
   "metadata": {},
   "source": [
    "## Basic microparasite model"
   ]
  },
  {
   "cell_type": "markdown",
   "metadata": {},
   "source": [
    "*Author*: Christopher Davis\n",
    "\n",
    "*Date*: 2018-10-02"
   ]
  },
  {
   "cell_type": "markdown",
   "metadata": {},
   "source": [
    "### Description\n",
    "\n",
    "A basic microparasite model of susceptibles and infecteds with the force of infection density dependent. $\\beta_{\\text{min}}$ is the minimum value of the transmission rate $\\beta$, such that the disease will spread."
   ]
  },
  {
   "cell_type": "markdown",
   "metadata": {},
   "source": [
    "### Equations"
   ]
  },
  {
   "cell_type": "markdown",
   "metadata": {},
   "source": [
    "$$\n",
    "\\frac{dS(t)}{dt}  = (\\nu - \\mu)\\left(1- \\frac{S(t)}{K}\\right) S(t)- \\beta S(t) I(t)\\\\\n",
    "\\frac{dI(t)}{dt}  = \\beta S(t) I(t)- (\\mu +\\ \\alpha) I(t)\\\\\n",
    "$$"
   ]
  },
  {
   "cell_type": "markdown",
   "metadata": {},
   "source": [
    "### References\n",
    "\n",
    "- [De Leo GA, Dobson AP (February, 1996). \"Allometry and simple epidemic models for microparasites\". Nature. 379(6567):720](https://doi.org/10.1038/379720a0)"
   ]
  }
 ],
 "metadata": {
  "kernelspec": {
   "display_name": "R",
   "language": "R",
   "name": "ir"
  },
  "language_info": {
   "codemirror_mode": "r",
   "file_extension": ".r",
   "mimetype": "text/x-r-source",
   "name": "R",
   "pygments_lexer": "r",
   "version": "3.4.4"
  }
 },
 "nbformat": 4,
 "nbformat_minor": 2
}
