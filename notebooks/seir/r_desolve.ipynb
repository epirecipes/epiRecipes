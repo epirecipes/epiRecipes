{
 "cells": [
  {
   "cell_type": "markdown",
   "metadata": {},
   "source": [
    "## SEIR model in R using deSolve"
   ]
  },
  {
   "cell_type": "markdown",
   "metadata": {},
   "source": [
    "*Author*: Lloyd Chapman @LloydChapman\n",
    "\n",
    "*Date*: 2018-10-01"
   ]
  },
  {
   "cell_type": "code",
   "execution_count": 1,
   "metadata": {},
   "outputs": [],
   "source": [
    "# Load deSolve library\n",
    "library(deSolve)"
   ]
  },
  {
   "cell_type": "code",
   "execution_count": 2,
   "metadata": {},
   "outputs": [],
   "source": [
    "# Function to return derivatives of SEIR model\n",
    "seir_ode<-function(t,Y,par){\n",
    "  S<-Y[1]\n",
    "  E<-Y[2]\n",
    "  I<-Y[3]\n",
    "  R<-Y[4]\n",
    "  \n",
    "  beta<-par[1]\n",
    "  sigma<-par[2]\n",
    "  gamma<-par[3]\n",
    "  mu<-par[4]\n",
    "  \n",
    "  dYdt<-vector(length=3)\n",
    "  dYdt[1]=mu-beta*I*S-mu*S\n",
    "  dYdt[2]=beta*I*S-(sigma+mu)*E\n",
    "  dYdt[3]=sigma*E-(gamma+mu)*I\n",
    "  \n",
    "  return(list(dYdt))\n",
    "}"
   ]
  },
  {
   "cell_type": "code",
   "execution_count": 3,
   "metadata": {},
   "outputs": [],
   "source": [
    "# Set parameter values\n",
    "beta<-520/365;\n",
    "sigma<-1/60;\n",
    "gamma<-1/30;\n",
    "mu<-774835/(65640000*365) # UK birth and population figures 2016\n",
    "init<-c(0.8,0.1,0.1)\n",
    "t<-seq(0,365)\n",
    "par<-c(beta,sigma,gamma,mu)\n",
    "# Solve system using lsoda\n",
    "sol<-lsoda(init,t,seir_ode,par)"
   ]
  },
  {
   "cell_type": "code",
   "execution_count": 4,
   "metadata": {},
   "outputs": [
    {
     "data": {
      "image/png": "[encoded data removed]",
      "text/plain": [
       "plot without title"
      ]
     },
     "metadata": {},
     "output_type": "display_data"
    }
   ],
   "source": [
    "# Plot solution\n",
    "plot(t,sol[,2],type=\"l\",col=\"blue\",ylim=c(0,1),ylab=\"Proportion\")\n",
    "lines(t,sol[,3],col=\"orange\")\n",
    "lines(t,sol[,4],col=\"red\")  \n",
    "lines(t,1-rowSums(sol[,2:4]),col=\"green\")\n",
    "legend(300,0.7,legend=c(\"S\",\"E\",\"I\",\"R\"),col=c(\"blue\",\"orange\",\"red\",\"green\"), lty=1, cex=0.8)"
   ]
  }
 ],
 "metadata": {
  "kernelspec": {
   "display_name": "R",
   "language": "R",
   "name": "ir"
  },
  "language_info": {
   "codemirror_mode": "r",
   "file_extension": ".r",
   "mimetype": "text/x-r-source",
   "name": "R",
   "pygments_lexer": "r",
   "version": "3.4.4"
  }
 },
 "nbformat": 4,
 "nbformat_minor": 2
}
