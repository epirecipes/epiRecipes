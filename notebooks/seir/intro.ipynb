{
 "cells": [
  {
   "cell_type": "markdown",
   "metadata": {},
   "source": [
    "## SEIR model"
   ]
  },
  {
   "cell_type": "markdown",
   "metadata": {},
   "source": [
    "*Author*: Simon Frost\n",
    "\n",
    "*Date*: 2018-07-12"
   ]
  },
  {
   "cell_type": "markdown",
   "metadata": {},
   "source": [
    "The susceptible-exposed-infected-recovered (SEIR) model extends the SIR model to include an exposed but non-infectious class. The implementation in this section considers proportions of susceptibles, exposed, infectious individuals in an open population, with no additional mortality associated with infection (such that the population size remains constant and $R$ is not modelled explicitly)."
   ]
  },
  {
   "cell_type": "markdown",
   "metadata": {},
   "source": [
    "$$\n",
    "\\frac{dS(t)}{dt}  = \\mu-\\beta S(t) I(t) - \\mu S(t)\\\\\n",
    "\\frac{dE(t)}{dt}  = \\beta S(t) I(t)- (\\sigma + \\mu) E(t)\\\\\n",
    "\\frac{dI(t)}{dt}  = \\sigma E(t)- (\\gamma + \\mu) I(t)\\\\\n",
    "\\frac{dR(t)}{dt}  = \\gamma I(t) = \\mu R\n",
    "$$"
   ]
  },
  {
   "cell_type": "markdown",
   "metadata": {},
   "source": [
    "### References\n",
    "\n",
    "- [https://en.wikipedia.org/wiki/Compartmental_models_in_epidemiology](https://en.wikipedia.org/wiki/Compartmental_models_in_epidemiology)"
   ]
  }
 ],
 "metadata": {
  "kernelspec": {
   "display_name": "R",
   "language": "R",
   "name": "ir"
  },
  "language_info": {
   "codemirror_mode": "r",
   "file_extension": ".r",
   "mimetype": "text/x-r-source",
   "name": "R",
   "pygments_lexer": "r",
   "version": "3.4.4"
  }
 },
 "nbformat": 4,
 "nbformat_minor": 2
}
